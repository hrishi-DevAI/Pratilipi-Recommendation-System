{
 "cells": [
  {
   "cell_type": "markdown",
   "metadata": {},
   "source": [
    "# **Recommendation System (Pratilipi's story)**\n",
    "\n",
    "## **Goal Overview**:\n",
    "- So Basically the task is to build a predictive model that will forecast which stories the user will likely to read in future, based on historicla reading behavior data.\n",
    "\n",
    "## **Workflow**:\n",
    "- Data Preparation\n",
    "- Data Pre processing\n",
    "- Exploratory Data analysis\n",
    "- Machine learning model to check how accurately it can distinguish wether a user will read or not \n",
    "- Neural Colaborative filtering to recommend Pratilipis based on:\n",
    "    - user based recommendation system (if the user is already a memeber in the platform)\n",
    "    - item based recommendation system (is the user like a kind of pratilipi than based on the pratilipi it will recommend 5 more)"
   ]
  },
  {
   "cell_type": "code",
   "execution_count": 1,
   "metadata": {},
   "outputs": [],
   "source": [
    "# Import necessary Libraries\n",
    "import pandas as pd\n",
    "import numpy as np\n",
    "import matplotlib.pyplot as plt\n",
    "import seaborn as sns\n",
    "import warnings\n",
    "warnings.filterwarnings('ignore')\n",
    "from sklearn.preprocessing import LabelEncoder\n",
    "from sklearn.model_selection import train_test_split\n",
    "import pickle\n",
    "import re"
   ]
  },
  {
   "cell_type": "code",
   "execution_count": 2,
   "metadata": {},
   "outputs": [],
   "source": [
    "df1 = pd.read_csv(\"./Data/Raw/user_interaction.csv\")\n",
    "df2 = pd.read_csv(\"./Data/Raw/metadata.csv\")\n"
   ]
  },
  {
   "cell_type": "code",
   "execution_count": 3,
   "metadata": {},
   "outputs": [
    {
     "data": {
      "text/html": [
       "<div>\n",
       "<style scoped>\n",
       "    .dataframe tbody tr th:only-of-type {\n",
       "        vertical-align: middle;\n",
       "    }\n",
       "\n",
       "    .dataframe tbody tr th {\n",
       "        vertical-align: top;\n",
       "    }\n",
       "\n",
       "    .dataframe thead th {\n",
       "        text-align: right;\n",
       "    }\n",
       "</style>\n",
       "<table border=\"1\" class=\"dataframe\">\n",
       "  <thead>\n",
       "    <tr style=\"text-align: right;\">\n",
       "      <th></th>\n",
       "      <th>user_id</th>\n",
       "      <th>pratilipi_id</th>\n",
       "      <th>read_percent</th>\n",
       "      <th>updated_at</th>\n",
       "    </tr>\n",
       "  </thead>\n",
       "  <tbody>\n",
       "    <tr>\n",
       "      <th>0</th>\n",
       "      <td>5506791961876448</td>\n",
       "      <td>1377786228262109</td>\n",
       "      <td>100.0</td>\n",
       "      <td>2022-03-22 10:29:57.291</td>\n",
       "    </tr>\n",
       "    <tr>\n",
       "      <th>1</th>\n",
       "      <td>5506791971543560</td>\n",
       "      <td>1377786223038206</td>\n",
       "      <td>40.0</td>\n",
       "      <td>2022-03-19 13:49:25.660</td>\n",
       "    </tr>\n",
       "    <tr>\n",
       "      <th>2</th>\n",
       "      <td>5506791996468218</td>\n",
       "      <td>1377786227025240</td>\n",
       "      <td>100.0</td>\n",
       "      <td>2022-03-21 17:28:47.288</td>\n",
       "    </tr>\n",
       "    <tr>\n",
       "      <th>3</th>\n",
       "      <td>5506791978752866</td>\n",
       "      <td>1377786222398208</td>\n",
       "      <td>65.0</td>\n",
       "      <td>2022-03-21 07:39:25.183</td>\n",
       "    </tr>\n",
       "    <tr>\n",
       "      <th>4</th>\n",
       "      <td>5506791978962946</td>\n",
       "      <td>1377786228157051</td>\n",
       "      <td>100.0</td>\n",
       "      <td>2022-03-22 17:32:44.777</td>\n",
       "    </tr>\n",
       "  </tbody>\n",
       "</table>\n",
       "</div>"
      ],
      "text/plain": [
       "            user_id      pratilipi_id  read_percent               updated_at\n",
       "0  5506791961876448  1377786228262109         100.0  2022-03-22 10:29:57.291\n",
       "1  5506791971543560  1377786223038206          40.0  2022-03-19 13:49:25.660\n",
       "2  5506791996468218  1377786227025240         100.0  2022-03-21 17:28:47.288\n",
       "3  5506791978752866  1377786222398208          65.0  2022-03-21 07:39:25.183\n",
       "4  5506791978962946  1377786228157051         100.0  2022-03-22 17:32:44.777"
      ]
     },
     "execution_count": 3,
     "metadata": {},
     "output_type": "execute_result"
    }
   ],
   "source": [
    "df1.head()\n"
   ]
  },
  {
   "cell_type": "code",
   "execution_count": 4,
   "metadata": {},
   "outputs": [
    {
     "data": {
      "text/html": [
       "<div>\n",
       "<style scoped>\n",
       "    .dataframe tbody tr th:only-of-type {\n",
       "        vertical-align: middle;\n",
       "    }\n",
       "\n",
       "    .dataframe tbody tr th {\n",
       "        vertical-align: top;\n",
       "    }\n",
       "\n",
       "    .dataframe thead th {\n",
       "        text-align: right;\n",
       "    }\n",
       "</style>\n",
       "<table border=\"1\" class=\"dataframe\">\n",
       "  <thead>\n",
       "    <tr style=\"text-align: right;\">\n",
       "      <th></th>\n",
       "      <th>author_id</th>\n",
       "      <th>pratilipi_id</th>\n",
       "      <th>category_name</th>\n",
       "      <th>reading_time</th>\n",
       "      <th>updated_at</th>\n",
       "      <th>published_at</th>\n",
       "    </tr>\n",
       "  </thead>\n",
       "  <tbody>\n",
       "    <tr>\n",
       "      <th>0</th>\n",
       "      <td>-3418949279741297</td>\n",
       "      <td>1025741862639304</td>\n",
       "      <td>translation</td>\n",
       "      <td>0</td>\n",
       "      <td>2020-08-19 15:26:13</td>\n",
       "      <td>2016-09-30 10:37:04</td>\n",
       "    </tr>\n",
       "    <tr>\n",
       "      <th>1</th>\n",
       "      <td>-2270332351871840</td>\n",
       "      <td>1377786215601277</td>\n",
       "      <td>translation</td>\n",
       "      <td>171</td>\n",
       "      <td>2021-01-21 16:27:07</td>\n",
       "      <td>2018-06-11 13:17:48</td>\n",
       "    </tr>\n",
       "    <tr>\n",
       "      <th>2</th>\n",
       "      <td>-2270332352037261</td>\n",
       "      <td>1377786215601962</td>\n",
       "      <td>translation</td>\n",
       "      <td>92</td>\n",
       "      <td>2020-09-29 12:33:57</td>\n",
       "      <td>2018-06-12 04:19:12</td>\n",
       "    </tr>\n",
       "    <tr>\n",
       "      <th>3</th>\n",
       "      <td>-2270332352521845</td>\n",
       "      <td>1377786215640994</td>\n",
       "      <td>translation</td>\n",
       "      <td>0</td>\n",
       "      <td>2019-10-17 09:03:37</td>\n",
       "      <td>2019-09-26 14:58:53</td>\n",
       "    </tr>\n",
       "    <tr>\n",
       "      <th>4</th>\n",
       "      <td>-2270332349665658</td>\n",
       "      <td>1377786215931338</td>\n",
       "      <td>translation</td>\n",
       "      <td>47</td>\n",
       "      <td>2020-05-05 11:33:41</td>\n",
       "      <td>2018-11-25 12:28:23</td>\n",
       "    </tr>\n",
       "  </tbody>\n",
       "</table>\n",
       "</div>"
      ],
      "text/plain": [
       "          author_id      pratilipi_id category_name  reading_time  \\\n",
       "0 -3418949279741297  1025741862639304   translation             0   \n",
       "1 -2270332351871840  1377786215601277   translation           171   \n",
       "2 -2270332352037261  1377786215601962   translation            92   \n",
       "3 -2270332352521845  1377786215640994   translation             0   \n",
       "4 -2270332349665658  1377786215931338   translation            47   \n",
       "\n",
       "            updated_at         published_at  \n",
       "0  2020-08-19 15:26:13  2016-09-30 10:37:04  \n",
       "1  2021-01-21 16:27:07  2018-06-11 13:17:48  \n",
       "2  2020-09-29 12:33:57  2018-06-12 04:19:12  \n",
       "3  2019-10-17 09:03:37  2019-09-26 14:58:53  \n",
       "4  2020-05-05 11:33:41  2018-11-25 12:28:23  "
      ]
     },
     "execution_count": 4,
     "metadata": {},
     "output_type": "execute_result"
    }
   ],
   "source": [
    "df2.head()"
   ]
  },
  {
   "cell_type": "markdown",
   "metadata": {},
   "source": [
    " the `updated_at`  metadata is not an important feature for our Goal. as this feature more likely tells us the meta updation date of the content."
   ]
  },
  {
   "cell_type": "code",
   "execution_count": 5,
   "metadata": {},
   "outputs": [],
   "source": [
    "# Removing the meta Data\n",
    "df2.drop(columns=['updated_at'], inplace=True)"
   ]
  },
  {
   "cell_type": "code",
   "execution_count": 6,
   "metadata": {},
   "outputs": [
    {
     "name": "stdout",
     "output_type": "stream",
     "text": [
      "(2500000, 4)\n",
      "(954501, 5)\n"
     ]
    },
    {
     "data": {
      "text/plain": [
       "(None, None)"
      ]
     },
     "execution_count": 6,
     "metadata": {},
     "output_type": "execute_result"
    }
   ],
   "source": [
    "print(df1.shape), print(df2.shape)"
   ]
  },
  {
   "cell_type": "markdown",
   "metadata": {},
   "source": [
    "Based on the `.shape` user interaction has more records than meta data"
   ]
  },
  {
   "cell_type": "code",
   "execution_count": 7,
   "metadata": {},
   "outputs": [
    {
     "data": {
      "text/plain": [
       "241405"
      ]
     },
     "execution_count": 7,
     "metadata": {},
     "output_type": "execute_result"
    }
   ],
   "source": [
    "df1['pratilipi_id'].nunique()\n"
   ]
  },
  {
   "cell_type": "code",
   "execution_count": 8,
   "metadata": {},
   "outputs": [
    {
     "data": {
      "text/plain": [
       "486693"
      ]
     },
     "execution_count": 8,
     "metadata": {},
     "output_type": "execute_result"
    }
   ],
   "source": [
    "df2['pratilipi_id'].nunique()"
   ]
  },
  {
   "cell_type": "markdown",
   "metadata": {},
   "source": [
    "`meta data` has more unique pratilipi than `user interaction`"
   ]
  },
  {
   "cell_type": "code",
   "execution_count": 9,
   "metadata": {},
   "outputs": [
    {
     "name": "stdout",
     "output_type": "stream",
     "text": [
      "Number of exact duplicated pratilipis: 467808\n"
     ]
    }
   ],
   "source": [
    "# Find exact duplicates (where all columns match)\n",
    "duplicates = df2[df2['pratilipi_id'].duplicated()]\n",
    "print(\"Number of exact duplicated pratilipis:\", len(duplicates))\n"
   ]
  },
  {
   "cell_type": "markdown",
   "metadata": {},
   "source": [
    "the `pratilipi_id` in the meta data has been duplicated a lot means a unique pratilipi has been repeated multiple time"
   ]
  },
  {
   "cell_type": "code",
   "execution_count": 10,
   "metadata": {},
   "outputs": [
    {
     "data": {
      "text/plain": [
       "pratilipi_id       author_id        \n",
       "-873461111941432   -3691700609545585    1\n",
       "-873380518390072   -4016008137995633    2\n",
       "-873222237415736   -4188100717901169    1\n",
       "-872638671317304   -2881671402812785    1\n",
       "-872563199535416   -3125486447949169    1\n",
       "                                       ..\n",
       " 1377786228384124  -2270332326717427    1\n",
       " 1377786228384133  -2270332324980245    1\n",
       " 1377786228384141  -2270332326717427    1\n",
       " 1377786228384204  -2270332350163385    2\n",
       " 1377786228384314  -2270332321908144    2\n",
       "Name: count, Length: 486693, dtype: int64"
      ]
     },
     "execution_count": 10,
     "metadata": {},
     "output_type": "execute_result"
    }
   ],
   "source": [
    "df2.groupby('pratilipi_id')['author_id'].value_counts()"
   ]
  },
  {
   "cell_type": "code",
   "execution_count": 11,
   "metadata": {},
   "outputs": [
    {
     "data": {
      "text/plain": [
       "pratilipi_id       category_name \n",
       "-873461111941432   shortstories      1\n",
       "-873380518390072   family            1\n",
       "                   social            1\n",
       "-873222237415736   suspense          1\n",
       "-872638671317304   shortstories      1\n",
       "                                    ..\n",
       " 1377786228384141  murder-mystery    1\n",
       " 1377786228384204  romance           1\n",
       "                   shortstories      1\n",
       " 1377786228384314  shortstories      1\n",
       "                   suspense          1\n",
       "Name: count, Length: 954501, dtype: int64"
      ]
     },
     "execution_count": 11,
     "metadata": {},
     "output_type": "execute_result"
    }
   ],
   "source": [
    "df2.groupby('pratilipi_id')['category_name'].value_counts()"
   ]
  },
  {
   "cell_type": "markdown",
   "metadata": {},
   "source": [
    "Basedon the duplicated analysis we come to know that each data has multiple categories and one author may more than one pratilipis published"
   ]
  },
  {
   "cell_type": "code",
   "execution_count": 12,
   "metadata": {},
   "outputs": [],
   "source": [
    "df2_grouped = df2.groupby('pratilipi_id').agg({\n",
    "    'author_id': lambda x: ', '.join(map(str, set(x))),\n",
    "    'category_name': lambda x: ', '.join(set(x)),\n",
    "    'reading_time': 'max',\n",
    "    'published_at': 'first'\n",
    "}).reset_index()"
   ]
  },
  {
   "cell_type": "markdown",
   "metadata": {},
   "source": [
    "Therefore we created another dataframe where we gropued it based on `pratilipi_id` therefore we concaneted all the `categories` and `authors` to a single row"
   ]
  },
  {
   "cell_type": "code",
   "execution_count": 13,
   "metadata": {},
   "outputs": [
    {
     "name": "stdout",
     "output_type": "stream",
     "text": [
      "Original df2 shape: (954501, 5)\n",
      "Unique pratilipi_id in df2 before grouping: 486693\n",
      "Grouped df2 shape: (486693, 5)\n",
      "Unique pratilipi_id in df2 after grouping: 486693\n"
     ]
    }
   ],
   "source": [
    "print(\"Original df2 shape:\", df2.shape)\n",
    "print(\"Unique pratilipi_id in df2 before grouping:\", df2['pratilipi_id'].nunique())\n",
    "\n",
    "print(\"Grouped df2 shape:\", df2_grouped.shape)\n",
    "print(\"Unique pratilipi_id in df2 after grouping:\", df2_grouped['pratilipi_id'].nunique())"
   ]
  },
  {
   "cell_type": "code",
   "execution_count": 14,
   "metadata": {},
   "outputs": [
    {
     "name": "stdout",
     "output_type": "stream",
     "text": [
      "Merged Shape: (1508057, 8)\n"
     ]
    }
   ],
   "source": [
    "final_df = pd.merge(df1, df2_grouped, on='pratilipi_id', how='inner')\n",
    "print(\"Merged Shape:\", final_df.shape)"
   ]
  },
  {
   "cell_type": "markdown",
   "metadata": {},
   "source": [
    "Finally we merged the data frames on `pratilipi_id` by **inner join** means similar content in `df1` and `df2_gropued` will be retained , where as rest will be erased, these will help us to analyze the retained data with more detailing"
   ]
  },
  {
   "cell_type": "markdown",
   "metadata": {},
   "source": [
    "### **Missing Value analysis**"
   ]
  },
  {
   "cell_type": "code",
   "execution_count": 15,
   "metadata": {},
   "outputs": [
    {
     "data": {
      "text/plain": [
       "user_id          0\n",
       "pratilipi_id     0\n",
       "read_percent     0\n",
       "updated_at       0\n",
       "author_id        0\n",
       "category_name    0\n",
       "reading_time     0\n",
       "published_at     0\n",
       "dtype: int64"
      ]
     },
     "execution_count": 15,
     "metadata": {},
     "output_type": "execute_result"
    }
   ],
   "source": [
    "final_df.isnull().sum()"
   ]
  },
  {
   "cell_type": "markdown",
   "metadata": {},
   "source": [
    "No missing values to be detected"
   ]
  },
  {
   "cell_type": "code",
   "execution_count": 16,
   "metadata": {},
   "outputs": [
    {
     "data": {
      "text/html": [
       "<div>\n",
       "<style scoped>\n",
       "    .dataframe tbody tr th:only-of-type {\n",
       "        vertical-align: middle;\n",
       "    }\n",
       "\n",
       "    .dataframe tbody tr th {\n",
       "        vertical-align: top;\n",
       "    }\n",
       "\n",
       "    .dataframe thead th {\n",
       "        text-align: right;\n",
       "    }\n",
       "</style>\n",
       "<table border=\"1\" class=\"dataframe\">\n",
       "  <thead>\n",
       "    <tr style=\"text-align: right;\">\n",
       "      <th></th>\n",
       "      <th>user_id</th>\n",
       "      <th>pratilipi_id</th>\n",
       "      <th>read_percent</th>\n",
       "      <th>updated_at</th>\n",
       "      <th>author_id</th>\n",
       "      <th>category_name</th>\n",
       "      <th>reading_time</th>\n",
       "      <th>published_at</th>\n",
       "    </tr>\n",
       "  </thead>\n",
       "  <tbody>\n",
       "    <tr>\n",
       "      <th>0</th>\n",
       "      <td>5506791961876448</td>\n",
       "      <td>1377786228262109</td>\n",
       "      <td>100.0</td>\n",
       "      <td>2022-03-22 10:29:57.291</td>\n",
       "      <td>-2270332349684758</td>\n",
       "      <td>family, romance, novels</td>\n",
       "      <td>376</td>\n",
       "      <td>2022-03-15 18:39:52</td>\n",
       "    </tr>\n",
       "    <tr>\n",
       "      <th>1</th>\n",
       "      <td>5506791971543560</td>\n",
       "      <td>1377786223038206</td>\n",
       "      <td>40.0</td>\n",
       "      <td>2022-03-19 13:49:25.660</td>\n",
       "      <td>-2270332348374323</td>\n",
       "      <td>romance, suspense</td>\n",
       "      <td>361</td>\n",
       "      <td>2021-03-16 19:09:19</td>\n",
       "    </tr>\n",
       "    <tr>\n",
       "      <th>2</th>\n",
       "      <td>5506791996468218</td>\n",
       "      <td>1377786227025240</td>\n",
       "      <td>100.0</td>\n",
       "      <td>2022-03-21 17:28:47.288</td>\n",
       "      <td>-2270332332674531</td>\n",
       "      <td>romance</td>\n",
       "      <td>582</td>\n",
       "      <td>2021-12-29 13:31:30</td>\n",
       "    </tr>\n",
       "    <tr>\n",
       "      <th>3</th>\n",
       "      <td>5506791978752866</td>\n",
       "      <td>1377786222398208</td>\n",
       "      <td>65.0</td>\n",
       "      <td>2022-03-21 07:39:25.183</td>\n",
       "      <td>-2270332332880683</td>\n",
       "      <td>webseries, romance, action-and-adventure</td>\n",
       "      <td>1451</td>\n",
       "      <td>2021-01-21 13:55:52</td>\n",
       "    </tr>\n",
       "    <tr>\n",
       "      <th>4</th>\n",
       "      <td>5506791978962946</td>\n",
       "      <td>1377786228157051</td>\n",
       "      <td>100.0</td>\n",
       "      <td>2022-03-22 17:32:44.777</td>\n",
       "      <td>-2270332331146586</td>\n",
       "      <td>romance, suspense, swahindi2</td>\n",
       "      <td>811</td>\n",
       "      <td>2022-03-08 16:31:41</td>\n",
       "    </tr>\n",
       "  </tbody>\n",
       "</table>\n",
       "</div>"
      ],
      "text/plain": [
       "            user_id      pratilipi_id  read_percent               updated_at  \\\n",
       "0  5506791961876448  1377786228262109         100.0  2022-03-22 10:29:57.291   \n",
       "1  5506791971543560  1377786223038206          40.0  2022-03-19 13:49:25.660   \n",
       "2  5506791996468218  1377786227025240         100.0  2022-03-21 17:28:47.288   \n",
       "3  5506791978752866  1377786222398208          65.0  2022-03-21 07:39:25.183   \n",
       "4  5506791978962946  1377786228157051         100.0  2022-03-22 17:32:44.777   \n",
       "\n",
       "           author_id                             category_name  reading_time  \\\n",
       "0  -2270332349684758                   family, romance, novels           376   \n",
       "1  -2270332348374323                         romance, suspense           361   \n",
       "2  -2270332332674531                                   romance           582   \n",
       "3  -2270332332880683  webseries, romance, action-and-adventure          1451   \n",
       "4  -2270332331146586              romance, suspense, swahindi2           811   \n",
       "\n",
       "          published_at  \n",
       "0  2022-03-15 18:39:52  \n",
       "1  2021-03-16 19:09:19  \n",
       "2  2021-12-29 13:31:30  \n",
       "3  2021-01-21 13:55:52  \n",
       "4  2022-03-08 16:31:41  "
      ]
     },
     "execution_count": 16,
     "metadata": {},
     "output_type": "execute_result"
    }
   ],
   "source": [
    "final_df.head()"
   ]
  },
  {
   "cell_type": "code",
   "execution_count": 17,
   "metadata": {},
   "outputs": [],
   "source": [
    "final_df.to_csv(\"./Data/Prep_data/Cleaned_Dataset.csv\", index_label=False)"
   ]
  },
  {
   "cell_type": "markdown",
   "metadata": {},
   "source": [
    "## **Exploratory Data Analysis**"
   ]
  },
  {
   "cell_type": "markdown",
   "metadata": {},
   "source": [
    "## **Preprocessing Changing Data types**\n",
    "\n",
    "since `user_id`,`pratilipi_id` and `author_id` are categorical and not continuous numbers, therefore converting them to categories."
   ]
  },
  {
   "cell_type": "code",
   "execution_count": 18,
   "metadata": {},
   "outputs": [],
   "source": [
    "# Convert IDs to categorical types\n",
    "final_df['user_id'] = final_df['user_id'].astype('str')\n",
    "final_df['pratilipi_id'] = final_df['pratilipi_id'].astype('str')\n",
    "final_df['author_id'] = final_df['author_id'].astype('str')\n",
    "\n",
    "# Convert timestamp to datetime\n",
    "final_df['updated_at'] = pd.to_datetime(final_df['updated_at'])\n",
    "final_df['published_at'] = pd.to_datetime(final_df['published_at'])"
   ]
  },
  {
   "cell_type": "markdown",
   "metadata": {},
   "source": [
    "### **Summary Statistics**"
   ]
  },
  {
   "cell_type": "code",
   "execution_count": 19,
   "metadata": {},
   "outputs": [
    {
     "data": {
      "text/html": [
       "<div>\n",
       "<style scoped>\n",
       "    .dataframe tbody tr th:only-of-type {\n",
       "        vertical-align: middle;\n",
       "    }\n",
       "\n",
       "    .dataframe tbody tr th {\n",
       "        vertical-align: top;\n",
       "    }\n",
       "\n",
       "    .dataframe thead th {\n",
       "        text-align: right;\n",
       "    }\n",
       "</style>\n",
       "<table border=\"1\" class=\"dataframe\">\n",
       "  <thead>\n",
       "    <tr style=\"text-align: right;\">\n",
       "      <th></th>\n",
       "      <th>read_percent</th>\n",
       "      <th>updated_at</th>\n",
       "      <th>reading_time</th>\n",
       "      <th>published_at</th>\n",
       "    </tr>\n",
       "  </thead>\n",
       "  <tbody>\n",
       "    <tr>\n",
       "      <th>count</th>\n",
       "      <td>1.508057e+06</td>\n",
       "      <td>1508057</td>\n",
       "      <td>1.508057e+06</td>\n",
       "      <td>1508057</td>\n",
       "    </tr>\n",
       "    <tr>\n",
       "      <th>mean</th>\n",
       "      <td>9.350510e+01</td>\n",
       "      <td>2022-03-20 22:24:05.091550464</td>\n",
       "      <td>5.751102e+02</td>\n",
       "      <td>2021-04-17 13:40:52.551521280</td>\n",
       "    </tr>\n",
       "    <tr>\n",
       "      <th>min</th>\n",
       "      <td>0.000000e+00</td>\n",
       "      <td>2022-03-18 15:14:42.120000</td>\n",
       "      <td>0.000000e+00</td>\n",
       "      <td>2014-10-25 13:35:28</td>\n",
       "    </tr>\n",
       "    <tr>\n",
       "      <th>25%</th>\n",
       "      <td>1.000000e+02</td>\n",
       "      <td>2022-03-19 18:21:35.252999936</td>\n",
       "      <td>3.170000e+02</td>\n",
       "      <td>2020-09-29 05:31:58</td>\n",
       "    </tr>\n",
       "    <tr>\n",
       "      <th>50%</th>\n",
       "      <td>1.000000e+02</td>\n",
       "      <td>2022-03-21 00:12:53.776999936</td>\n",
       "      <td>4.650000e+02</td>\n",
       "      <td>2021-08-19 04:26:26</td>\n",
       "    </tr>\n",
       "    <tr>\n",
       "      <th>75%</th>\n",
       "      <td>1.000000e+02</td>\n",
       "      <td>2022-03-22 02:37:31.166000128</td>\n",
       "      <td>6.850000e+02</td>\n",
       "      <td>2022-01-13 13:22:14</td>\n",
       "    </tr>\n",
       "    <tr>\n",
       "      <th>max</th>\n",
       "      <td>2.400000e+03</td>\n",
       "      <td>2022-03-23 00:08:16.603000</td>\n",
       "      <td>7.516600e+04</td>\n",
       "      <td>2022-03-23 16:00:05</td>\n",
       "    </tr>\n",
       "    <tr>\n",
       "      <th>std</th>\n",
       "      <td>2.135856e+01</td>\n",
       "      <td>NaN</td>\n",
       "      <td>9.031579e+02</td>\n",
       "      <td>NaN</td>\n",
       "    </tr>\n",
       "  </tbody>\n",
       "</table>\n",
       "</div>"
      ],
      "text/plain": [
       "       read_percent                     updated_at  reading_time  \\\n",
       "count  1.508057e+06                        1508057  1.508057e+06   \n",
       "mean   9.350510e+01  2022-03-20 22:24:05.091550464  5.751102e+02   \n",
       "min    0.000000e+00     2022-03-18 15:14:42.120000  0.000000e+00   \n",
       "25%    1.000000e+02  2022-03-19 18:21:35.252999936  3.170000e+02   \n",
       "50%    1.000000e+02  2022-03-21 00:12:53.776999936  4.650000e+02   \n",
       "75%    1.000000e+02  2022-03-22 02:37:31.166000128  6.850000e+02   \n",
       "max    2.400000e+03     2022-03-23 00:08:16.603000  7.516600e+04   \n",
       "std    2.135856e+01                            NaN  9.031579e+02   \n",
       "\n",
       "                        published_at  \n",
       "count                        1508057  \n",
       "mean   2021-04-17 13:40:52.551521280  \n",
       "min              2014-10-25 13:35:28  \n",
       "25%              2020-09-29 05:31:58  \n",
       "50%              2021-08-19 04:26:26  \n",
       "75%              2022-01-13 13:22:14  \n",
       "max              2022-03-23 16:00:05  \n",
       "std                              NaN  "
      ]
     },
     "execution_count": 19,
     "metadata": {},
     "output_type": "execute_result"
    }
   ],
   "source": [
    "# Summary statistics\n",
    "final_df.describe()"
   ]
  },
  {
   "cell_type": "markdown",
   "metadata": {},
   "source": [
    "## **Key Insights**\n",
    "\n",
    "1. **`read_percent`**:\n",
    "    - Mean: 93.5% (Users read a large portion of the stories on average).\n",
    "    - Median (50% percentile): 100% (Most users finish the stories they start).\n",
    "    - Min: 0% (Some users started a story but didn't continue reading).\n",
    "    - Max: 2400% (Outliers detected) – This is unexpected anomaly.\n",
    "\n",
    "2. **`reading_time`**:\n",
    "    - Mean: 575 seconds (9.6 minutes per story).\n",
    "    - Median: 465 seconds (~7.75 minutes).\n",
    "    - Min: 0 seconds (Some users opened a story but didn't read it).\n",
    "    - Max: 75166 seconds (~21 hours) – This is very high, indicating possible anomalies.\n",
    "\n",
    "3. **`updated_at`**:\n",
    "    - Min Date: `2022-03-18`\n",
    "    - Max Date: `2022-03-23`\n",
    "    - Median: `2022-03-21`"
   ]
  },
  {
   "cell_type": "code",
   "execution_count": 20,
   "metadata": {},
   "outputs": [
    {
     "name": "stdout",
     "output_type": "stream",
     "text": [
      "Total Users: 211141\n",
      "Total Pratilipis: 135379\n"
     ]
    }
   ],
   "source": [
    "# Total Users and total number of Pratilipis\n",
    "print(\"Total Users:\", final_df['user_id'].nunique())\n",
    "print(\"Total Pratilipis:\", final_df['pratilipi_id'].nunique())"
   ]
  },
  {
   "cell_type": "markdown",
   "metadata": {},
   "source": [
    "## **Insights**\n",
    "\n",
    "- **Total Users: 211,141**\n",
    "    - This is the number of unique users who have interacted with Pratilipi stories.\n",
    "\n",
    "- **Total Pratilipi(Stories): 135,379**\n",
    "    - this is the number of unique stories being read."
   ]
  },
  {
   "cell_type": "markdown",
   "metadata": {},
   "source": [
    "## **Univariate Analysis (Read Percent)**"
   ]
  },
  {
   "cell_type": "code",
   "execution_count": 21,
   "metadata": {},
   "outputs": [
    {
     "data": {
      "image/png": "[encoded data removed]",
      "text/plain": [
       "<Figure size 1000x500 with 1 Axes>"
      ]
     },
     "metadata": {},
     "output_type": "display_data"
    }
   ],
   "source": [
    "## Read Percentage Distributions\n",
    "plt.figure(figsize=(10,5))\n",
    "sns.histplot(final_df['read_percent'], bins=20, kde=True)\n",
    "plt.title(\"Distribution of Read Percentage\")\n",
    "plt.xlabel(\"Read Percentage\")\n",
    "plt.ylabel(\"Count\")\n",
    "plt.show()"
   ]
  },
  {
   "cell_type": "markdown",
   "metadata": {},
   "source": [
    "### **Key Observation**:\n",
    "There are huge outliers that doesnt seems normal because as a `Read Percntage` the range of the reading should be betweent (0, 100)\n",
    "\n"
   ]
  },
  {
   "cell_type": "code",
   "execution_count": 22,
   "metadata": {},
   "outputs": [
    {
     "name": "stdout",
     "output_type": "stream",
     "text": [
      "Max Read Percentage: 2400.0\n",
      "Min Read Percentage: 0.0\n"
     ]
    }
   ],
   "source": [
    "print(\"Max Read Percentage:\", final_df['read_percent'].max())\n",
    "print(\"Min Read Percentage:\", final_df['read_percent'].min())\n"
   ]
  },
  {
   "cell_type": "code",
   "execution_count": 23,
   "metadata": {},
   "outputs": [
    {
     "name": "stdout",
     "output_type": "stream",
     "text": [
      "Number of Outliers: 22\n",
      "                  user_id      pratilipi_id  read_percent\n",
      "95313    5506791972061623  1377786216692750    125.000000\n",
      "147378   5506791974012382   379249622685384    150.000000\n",
      "241145   5506791968565716  1377786217740496    400.000000\n",
      "409363   5506791961717276  1377786216901040    800.000000\n",
      "470935   5506791952337656  1377786216853266    166.666667\n",
      "517389   5506791957275784  1377786216288749    140.000000\n",
      "543014   5506791955793066   581238512064200    120.000000\n",
      "607833   5506791980188027  1377786216692750    133.333333\n",
      "687799   5506791978673731  1377786216907065    800.000000\n",
      "688537   5506791974357845   374669040064200    116.666667\n",
      "721517   5506791984561687  1377786215441253    150.000000\n",
      "747599   5506791955808076  1377786216901040    800.000000\n",
      "827753   5506791961198220  1377786216288749    140.000000\n",
      "846355   5506791947436627  1377786217520844    216.666667\n",
      "902085   5506791991557562  1377786215834439    400.000000\n",
      "994333   3708149573264036  1377786216901040   2400.000000\n",
      "1085013  5506791972916279  1377786215971843    166.666667\n",
      "1107737  5506791994300395  1377786217180178    133.333333\n",
      "1108811  5506791991999260  1377786215684809    109.090909\n",
      "1391371  5506791953065532  -294436852820280    150.000000\n",
      "1441235  5506791993137794  1377786216692750    500.000000\n",
      "1452518  5506791980562269  1377786216454745    170.000000\n"
     ]
    }
   ],
   "source": [
    "# Check how many values exceed 100%\n",
    "outliers = final_df[final_df['read_percent'] > 100]\n",
    "print(\"Number of Outliers:\", len(outliers))\n",
    "print(outliers[['user_id', 'pratilipi_id', 'read_percent']])"
   ]
  },
  {
   "cell_type": "code",
   "execution_count": 24,
   "metadata": {},
   "outputs": [],
   "source": [
    "# Capping the values withn the range of (0, 100)\n",
    "final_df['read_percent'] = final_df['read_percent'].clip(0, 100)"
   ]
  },
  {
   "cell_type": "code",
   "execution_count": 25,
   "metadata": {},
   "outputs": [
    {
     "data": {
      "image/png": "[encoded data removed]",
      "text/plain": [
       "<Figure size 1000x500 with 1 Axes>"
      ]
     },
     "metadata": {},
     "output_type": "display_data"
    }
   ],
   "source": [
    "# Replotting to check for outliers\n",
    "plt.figure(figsize=(10,5))\n",
    "sns.histplot(final_df['read_percent'], bins=20, kde=True)\n",
    "plt.title(\"Distribution of Read Percentage (After Fixing Outliers)\")\n",
    "plt.xlabel(\"Read Percentage\")\n",
    "plt.ylabel(\"Count\")\n",
    "plt.show()"
   ]
  },
  {
   "cell_type": "markdown",
   "metadata": {},
   "source": [
    "### **Key Observation**:\n",
    "1. **Majority of users finish the pratilipi (100%) or abandon early.**\n",
    "    - Users who read fully might be more engaged and return to read similar content.\n",
    "\n",
    "2. **Almost no mid-range engagement (20%-80%)**"
   ]
  },
  {
   "cell_type": "markdown",
   "metadata": {},
   "source": [
    "## **Univaraite Analysis (Number of pratilipis per user)**"
   ]
  },
  {
   "cell_type": "code",
   "execution_count": 26,
   "metadata": {},
   "outputs": [
    {
     "data": {
      "image/png": "[encoded data removed]",
      "text/plain": [
       "<Figure size 1200x1800 with 2 Axes>"
      ]
     },
     "metadata": {},
     "output_type": "display_data"
    }
   ],
   "source": [
    "# 1. Number of stories per user (how many stories a typical user reads)\n",
    "stories_per_user = final_df.groupby('user_id')['pratilipi_id'].nunique()\n",
    "\n",
    "# 2. Number of users per story (how many users read each story)\n",
    "users_per_story = final_df.groupby('pratilipi_id')['user_id'].nunique()\n",
    "\n",
    "\n",
    "# Plotting\n",
    "fig, axes = plt.subplots(2, 1, figsize=(12, 18))\n",
    "\n",
    "# Histogram for stories per user\n",
    "axes[0].hist(stories_per_user, bins=50, color='skyblue', edgecolor='black', log=True)\n",
    "axes[0].set_title('Distribution of Number of Stories Read per User')\n",
    "axes[0].set_xlabel('Number of Unique Stories Read')\n",
    "axes[0].set_ylabel('Number of Users (log scale)')\n",
    "\n",
    "# Histogram for users per story\n",
    "axes[1].hist(users_per_story, bins=50, color='salmon', edgecolor='black', log=True)\n",
    "axes[1].set_title('Distribution of Number of Users per Story')\n",
    "axes[1].set_xlabel('Number of Unique Users per Story')\n",
    "axes[1].set_ylabel('Number of Stories (log scale)')\n",
    "\n",
    "plt.tight_layout()\n",
    "plt.show()\n"
   ]
  },
  {
   "cell_type": "markdown",
   "metadata": {},
   "source": [
    "## **Insights**\n",
    "\n",
    "1. **Distribution of Number of Stories Read per User**:\n",
    "    - Highly Skewed Distribution: Most users read very few unique stories, while only a small fraction of users read a large number of stories.\n",
    "    - Power-Law Behavior: A few users are highly engaged, consuming hundreds of stories, but the majority consume just a handful.\n",
    "\n",
    "2. **Distribution of Number of Users per story**:\n",
    "    - Long-Tail Distibution: A small number of stories are extremely popular, being read by thousands of users.\n",
    "    "
   ]
  },
  {
   "cell_type": "code",
   "execution_count": 27,
   "metadata": {},
   "outputs": [
    {
     "data": {
      "text/html": [
       "<div>\n",
       "<style scoped>\n",
       "    .dataframe tbody tr th:only-of-type {\n",
       "        vertical-align: middle;\n",
       "    }\n",
       "\n",
       "    .dataframe tbody tr th {\n",
       "        vertical-align: top;\n",
       "    }\n",
       "\n",
       "    .dataframe thead th {\n",
       "        text-align: right;\n",
       "    }\n",
       "</style>\n",
       "<table border=\"1\" class=\"dataframe\">\n",
       "  <thead>\n",
       "    <tr style=\"text-align: right;\">\n",
       "      <th></th>\n",
       "      <th>pratilipi_id</th>\n",
       "      <th>num_users_read</th>\n",
       "    </tr>\n",
       "  </thead>\n",
       "  <tbody>\n",
       "    <tr>\n",
       "      <th>0</th>\n",
       "      <td>1377786217541698</td>\n",
       "      <td>2392</td>\n",
       "    </tr>\n",
       "    <tr>\n",
       "      <th>1</th>\n",
       "      <td>1377786228336060</td>\n",
       "      <td>2318</td>\n",
       "    </tr>\n",
       "    <tr>\n",
       "      <th>2</th>\n",
       "      <td>1377786228237359</td>\n",
       "      <td>2176</td>\n",
       "    </tr>\n",
       "    <tr>\n",
       "      <th>3</th>\n",
       "      <td>1377786228240538</td>\n",
       "      <td>2155</td>\n",
       "    </tr>\n",
       "    <tr>\n",
       "      <th>4</th>\n",
       "      <td>1377786228262109</td>\n",
       "      <td>1943</td>\n",
       "    </tr>\n",
       "    <tr>\n",
       "      <th>5</th>\n",
       "      <td>1377786228243389</td>\n",
       "      <td>1872</td>\n",
       "    </tr>\n",
       "    <tr>\n",
       "      <th>6</th>\n",
       "      <td>1377786215982409</td>\n",
       "      <td>1869</td>\n",
       "    </tr>\n",
       "    <tr>\n",
       "      <th>7</th>\n",
       "      <td>1377786217544226</td>\n",
       "      <td>1555</td>\n",
       "    </tr>\n",
       "    <tr>\n",
       "      <th>8</th>\n",
       "      <td>1377786228253938</td>\n",
       "      <td>1388</td>\n",
       "    </tr>\n",
       "    <tr>\n",
       "      <th>9</th>\n",
       "      <td>1377786228189551</td>\n",
       "      <td>1216</td>\n",
       "    </tr>\n",
       "    <tr>\n",
       "      <th>10</th>\n",
       "      <td>1377786228232608</td>\n",
       "      <td>1210</td>\n",
       "    </tr>\n",
       "    <tr>\n",
       "      <th>11</th>\n",
       "      <td>1377786228214640</td>\n",
       "      <td>1173</td>\n",
       "    </tr>\n",
       "    <tr>\n",
       "      <th>12</th>\n",
       "      <td>1377786217541005</td>\n",
       "      <td>1072</td>\n",
       "    </tr>\n",
       "    <tr>\n",
       "      <th>13</th>\n",
       "      <td>1377786217549973</td>\n",
       "      <td>1071</td>\n",
       "    </tr>\n",
       "    <tr>\n",
       "      <th>14</th>\n",
       "      <td>1377786228185376</td>\n",
       "      <td>1067</td>\n",
       "    </tr>\n",
       "    <tr>\n",
       "      <th>15</th>\n",
       "      <td>1377786228321503</td>\n",
       "      <td>1055</td>\n",
       "    </tr>\n",
       "    <tr>\n",
       "      <th>16</th>\n",
       "      <td>-487510917343544</td>\n",
       "      <td>1031</td>\n",
       "    </tr>\n",
       "    <tr>\n",
       "      <th>17</th>\n",
       "      <td>1377786228211361</td>\n",
       "      <td>1023</td>\n",
       "    </tr>\n",
       "    <tr>\n",
       "      <th>18</th>\n",
       "      <td>1377786228278968</td>\n",
       "      <td>1007</td>\n",
       "    </tr>\n",
       "    <tr>\n",
       "      <th>19</th>\n",
       "      <td>1377786228336911</td>\n",
       "      <td>1002</td>\n",
       "    </tr>\n",
       "  </tbody>\n",
       "</table>\n",
       "</div>"
      ],
      "text/plain": [
       "        pratilipi_id  num_users_read\n",
       "0   1377786217541698            2392\n",
       "1   1377786228336060            2318\n",
       "2   1377786228237359            2176\n",
       "3   1377786228240538            2155\n",
       "4   1377786228262109            1943\n",
       "5   1377786228243389            1872\n",
       "6   1377786215982409            1869\n",
       "7   1377786217544226            1555\n",
       "8   1377786228253938            1388\n",
       "9   1377786228189551            1216\n",
       "10  1377786228232608            1210\n",
       "11  1377786228214640            1173\n",
       "12  1377786217541005            1072\n",
       "13  1377786217549973            1071\n",
       "14  1377786228185376            1067\n",
       "15  1377786228321503            1055\n",
       "16  -487510917343544            1031\n",
       "17  1377786228211361            1023\n",
       "18  1377786228278968            1007\n",
       "19  1377786228336911            1002"
      ]
     },
     "execution_count": 27,
     "metadata": {},
     "output_type": "execute_result"
    }
   ],
   "source": [
    "# Find stories (pratilipi_id) that have been read by the most users\n",
    "popular_pratilipis = final_df['pratilipi_id'].value_counts().head(20)  # Top 20 most read pratilipis\n",
    "\n",
    "# Convert to a DataFrame for better readability\n",
    "popular_pratilipis_df = popular_pratilipis.reset_index()\n",
    "popular_pratilipis_df.columns = ['pratilipi_id', 'num_users_read']\n",
    "\n",
    "popular_pratilipis_df"
   ]
  },
  {
   "cell_type": "markdown",
   "metadata": {},
   "source": [
    "These are the `top 20` most read pratilipis"
   ]
  },
  {
   "cell_type": "code",
   "execution_count": 28,
   "metadata": {},
   "outputs": [
    {
     "name": "stdout",
     "output_type": "stream",
     "text": [
      "Top 10 Most Active Users\n",
      "user_id\n",
      "5506791978555287    267\n",
      "5506791984436689    242\n",
      "5506791985959683    234\n",
      "5371339105280676    224\n",
      "5506791986650045    217\n",
      "5506791966405805    197\n",
      "5506791988639487    186\n",
      "5506791994484810    170\n",
      "5506791954021043    169\n",
      "5506791964778551    168\n",
      "dtype: int64\n"
     ]
    }
   ],
   "source": [
    "## Most engaged Users\n",
    "user_activity = final_df.groupby('user_id').size().sort_values(ascending=False)\n",
    "print(\"Top 10 Most Active Users\")\n",
    "print(user_activity.head(10))"
   ]
  },
  {
   "cell_type": "code",
   "execution_count": 29,
   "metadata": {},
   "outputs": [
    {
     "name": "stdout",
     "output_type": "stream",
     "text": [
      "10 least Active Users\n",
      "user_id\n",
      "5506791971779833    1\n",
      "5506791971777884    1\n",
      "5506791971776412    1\n",
      "5506791971774197    1\n",
      "5506791971770948    1\n",
      "5506791971769646    1\n",
      "5506791971769128    1\n",
      "5506791971768561    1\n",
      "5506791971768461    1\n",
      "5506791996685385    1\n",
      "dtype: int64\n"
     ]
    }
   ],
   "source": [
    "## Least engaged Users\n",
    "print(\"10 least Active Users\")\n",
    "print(user_activity.tail(10))"
   ]
  },
  {
   "cell_type": "code",
   "execution_count": 30,
   "metadata": {},
   "outputs": [
    {
     "name": "stdout",
     "output_type": "stream",
     "text": [
      "High-engagement Pratilipis (80%+ reads): 130027\n",
      "Low-engagement Pratilipis (<20% reads): 26413\n"
     ]
    }
   ],
   "source": [
    "high_engagement_pratilipis = final_df[final_df['read_percent'] > 80]['pratilipi_id'].nunique()\n",
    "low_engagement_pratilipis = final_df[final_df['read_percent'] < 20]['pratilipi_id'].nunique()\n",
    "\n",
    "print(f\"High-engagement Pratilipis (80%+ reads): {high_engagement_pratilipis}\")\n",
    "print(f\"Low-engagement Pratilipis (<20% reads): {low_engagement_pratilipis}\")"
   ]
  },
  {
   "cell_type": "code",
   "execution_count": 31,
   "metadata": {},
   "outputs": [
    {
     "name": "stdout",
     "output_type": "stream",
     "text": [
      "Users who frequently quit early: 39338\n"
     ]
    }
   ],
   "source": [
    "low_engagement_users = final_df[final_df['read_percent'] < 20]['user_id'].nunique()\n",
    "print(f\"Users who frequently quit early: {low_engagement_users}\")"
   ]
  },
  {
   "cell_type": "markdown",
   "metadata": {},
   "source": [
    "## **Univariate Analysis (Category_names)**"
   ]
  },
  {
   "cell_type": "code",
   "execution_count": 35,
   "metadata": {},
   "outputs": [
    {
     "data": {
      "image/png": "[encoded data removed]",
      "text/plain": [
       "<Figure size 1200x600 with 1 Axes>"
      ]
     },
     "metadata": {},
     "output_type": "display_data"
    }
   ],
   "source": [
    "from collections import Counter\n",
    "\n",
    "# Flatten category lists and count occurrences\n",
    "all_categories = ', '.join(final_df['category_name'].dropna()).split(', ')\n",
    "category_counts = Counter(all_categories)\n",
    "\n",
    "# Convert to DataFrame for visualization\n",
    "category_df = pd.DataFrame(category_counts.items(), columns=['Category', 'Count']).sort_values(by=\"Count\", ascending=False)\n",
    "\n",
    "plt.figure(figsize=(12,6))\n",
    "sns.barplot(x=\"Count\", y=\"Category\", data=category_df.head(20))\n",
    "plt.title(\"Top 20 Most Popular Categories\")\n",
    "plt.show()"
   ]
  },
  {
   "cell_type": "markdown",
   "metadata": {},
   "source": [
    "## **Key Insights**:\n",
    "\n",
    "- `Romance Dominates` - The \"romance\" category is by far the most popular, with significantly higher read counts than other categories.\n",
    "- `Novels & Suspense` - These two genres also have a high engagement, meaning users prefer long-format storytelling with thrilling elements.\n",
    "- `Family & Social Stories` Are Also Popular - Categories like family and social indicate that users also engage with stories that reflect relationships and societal themes.\n",
    "- **Niche Genres** (Lower Counts) - Categories like `horror`, `swahindi2`, `women`, `entertainment` `shortstories`,`fantasy`,`life`,`moral-inspiring` have relatively lower engagement."
   ]
  },
  {
   "cell_type": "code",
   "execution_count": 36,
   "metadata": {},
   "outputs": [
    {
     "data": {
      "image/png": "[encoded data removed]",
      "text/plain": [
       "<Figure size 1200x600 with 1 Axes>"
      ]
     },
     "metadata": {},
     "output_type": "display_data"
    }
   ],
   "source": [
    "# Compute category popularity (how many times each category appears)\n",
    "category_popularity = final_df['category_name'].value_counts().reset_index()\n",
    "category_popularity.columns = ['category_name', 'popularity']\n",
    "\n",
    "# Compute category engagement (average read percentage)\n",
    "category_engagement = final_df.groupby('category_name')['read_percent'].mean().reset_index()\n",
    "category_engagement.columns = ['category_name', 'avg_read_percent']\n",
    "\n",
    "# Merge both metrics into a single DataFrame\n",
    "category_analysis = category_popularity.merge(category_engagement, on='category_name')\n",
    "\n",
    "# Plot scatter plot of engagement vs. popularity\n",
    "plt.figure(figsize=(12, 6))\n",
    "sns.scatterplot(data=category_analysis, x='popularity', y='avg_read_percent')\n",
    "\n",
    "plt.xlabel(\"Popularity (Number of Reads)\")\n",
    "plt.ylabel(\"Average Read Percentage\")\n",
    "plt.title(\"Engagement vs. Popularity of Categories\")\n",
    "plt.xscale('log')  # Log scale for better visualization\n",
    "plt.show()"
   ]
  },
  {
   "cell_type": "markdown",
   "metadata": {},
   "source": [
    "## **Observation**:\n",
    "- The majority of categories, regardless of popularity, have high average read percentages.\n",
    "- On the left side (categories with fewer reads), engagement varies from 0% to 100%.\n",
    "- As we move to the right (high popularity), engagement around 80-100%. This indicates that widely read categories maintain strong user engagement.\n",
    "- A few points appear below 50%, indicating categories that are popular but not engaging."
   ]
  },
  {
   "cell_type": "code",
   "execution_count": 37,
   "metadata": {},
   "outputs": [
    {
     "data": {
      "text/html": [
       "<div>\n",
       "<style scoped>\n",
       "    .dataframe tbody tr th:only-of-type {\n",
       "        vertical-align: middle;\n",
       "    }\n",
       "\n",
       "    .dataframe tbody tr th {\n",
       "        vertical-align: top;\n",
       "    }\n",
       "\n",
       "    .dataframe thead th {\n",
       "        text-align: right;\n",
       "    }\n",
       "</style>\n",
       "<table border=\"1\" class=\"dataframe\">\n",
       "  <thead>\n",
       "    <tr style=\"text-align: right;\">\n",
       "      <th></th>\n",
       "      <th>category_name</th>\n",
       "      <th>popularity</th>\n",
       "      <th>avg_read_percent</th>\n",
       "    </tr>\n",
       "  </thead>\n",
       "  <tbody>\n",
       "    <tr>\n",
       "      <th>0</th>\n",
       "      <td>family, romance, novels</td>\n",
       "      <td>114746</td>\n",
       "      <td>95.020325</td>\n",
       "    </tr>\n",
       "    <tr>\n",
       "      <th>1</th>\n",
       "      <td>romance, suspense, novels</td>\n",
       "      <td>96967</td>\n",
       "      <td>94.525292</td>\n",
       "    </tr>\n",
       "    <tr>\n",
       "      <th>2</th>\n",
       "      <td>romance</td>\n",
       "      <td>88183</td>\n",
       "      <td>91.861739</td>\n",
       "    </tr>\n",
       "    <tr>\n",
       "      <th>3</th>\n",
       "      <td>romance, novels</td>\n",
       "      <td>55269</td>\n",
       "      <td>93.128924</td>\n",
       "    </tr>\n",
       "    <tr>\n",
       "      <th>4</th>\n",
       "      <td>romance, suspense</td>\n",
       "      <td>44662</td>\n",
       "      <td>93.926827</td>\n",
       "    </tr>\n",
       "    <tr>\n",
       "      <th>...</th>\n",
       "      <td>...</td>\n",
       "      <td>...</td>\n",
       "      <td>...</td>\n",
       "    </tr>\n",
       "    <tr>\n",
       "      <th>2991</th>\n",
       "      <td>webseries, horror, swahindi2</td>\n",
       "      <td>1</td>\n",
       "      <td>100.000000</td>\n",
       "    </tr>\n",
       "    <tr>\n",
       "      <th>2992</th>\n",
       "      <td>Parytan, moral-inspiring, short-story-challenge</td>\n",
       "      <td>1</td>\n",
       "      <td>100.000000</td>\n",
       "    </tr>\n",
       "    <tr>\n",
       "      <th>2993</th>\n",
       "      <td>women, family, romance, moral-inspiring</td>\n",
       "      <td>1</td>\n",
       "      <td>89.000000</td>\n",
       "    </tr>\n",
       "    <tr>\n",
       "      <th>2994</th>\n",
       "      <td>romance, suspense, Indiawale, crime, detective</td>\n",
       "      <td>1</td>\n",
       "      <td>100.000000</td>\n",
       "    </tr>\n",
       "    <tr>\n",
       "      <th>2995</th>\n",
       "      <td>Serieswriting, crime, social</td>\n",
       "      <td>1</td>\n",
       "      <td>100.000000</td>\n",
       "    </tr>\n",
       "  </tbody>\n",
       "</table>\n",
       "<p>2996 rows × 3 columns</p>\n",
       "</div>"
      ],
      "text/plain": [
       "                                        category_name  popularity  \\\n",
       "0                             family, romance, novels      114746   \n",
       "1                           romance, suspense, novels       96967   \n",
       "2                                             romance       88183   \n",
       "3                                     romance, novels       55269   \n",
       "4                                   romance, suspense       44662   \n",
       "...                                               ...         ...   \n",
       "2991                     webseries, horror, swahindi2           1   \n",
       "2992  Parytan, moral-inspiring, short-story-challenge           1   \n",
       "2993          women, family, romance, moral-inspiring           1   \n",
       "2994   romance, suspense, Indiawale, crime, detective           1   \n",
       "2995                     Serieswriting, crime, social           1   \n",
       "\n",
       "      avg_read_percent  \n",
       "0            95.020325  \n",
       "1            94.525292  \n",
       "2            91.861739  \n",
       "3            93.128924  \n",
       "4            93.926827  \n",
       "...                ...  \n",
       "2991        100.000000  \n",
       "2992        100.000000  \n",
       "2993         89.000000  \n",
       "2994        100.000000  \n",
       "2995        100.000000  \n",
       "\n",
       "[2996 rows x 3 columns]"
      ]
     },
     "execution_count": 37,
     "metadata": {},
     "output_type": "execute_result"
    }
   ],
   "source": [
    "category_analysis"
   ]
  },
  {
   "cell_type": "markdown",
   "metadata": {},
   "source": [
    "### **High engagement but low popularity content (Underrated content)**"
   ]
  },
  {
   "cell_type": "code",
   "execution_count": 38,
   "metadata": {},
   "outputs": [
    {
     "data": {
      "text/html": [
       "<div>\n",
       "<style scoped>\n",
       "    .dataframe tbody tr th:only-of-type {\n",
       "        vertical-align: middle;\n",
       "    }\n",
       "\n",
       "    .dataframe tbody tr th {\n",
       "        vertical-align: top;\n",
       "    }\n",
       "\n",
       "    .dataframe thead th {\n",
       "        text-align: right;\n",
       "    }\n",
       "</style>\n",
       "<table border=\"1\" class=\"dataframe\">\n",
       "  <thead>\n",
       "    <tr style=\"text-align: right;\">\n",
       "      <th></th>\n",
       "      <th>category_name</th>\n",
       "      <th>popularity</th>\n",
       "      <th>avg_read_percent</th>\n",
       "    </tr>\n",
       "  </thead>\n",
       "  <tbody>\n",
       "    <tr>\n",
       "      <th>599</th>\n",
       "      <td>children, horror, suspense</td>\n",
       "      <td>130</td>\n",
       "      <td>92.284615</td>\n",
       "    </tr>\n",
       "    <tr>\n",
       "      <th>600</th>\n",
       "      <td>romance, translation, short-story-challenge</td>\n",
       "      <td>129</td>\n",
       "      <td>95.441860</td>\n",
       "    </tr>\n",
       "    <tr>\n",
       "      <th>601</th>\n",
       "      <td>family, action-and-adventure, novels</td>\n",
       "      <td>128</td>\n",
       "      <td>91.812500</td>\n",
       "    </tr>\n",
       "    <tr>\n",
       "      <th>602</th>\n",
       "      <td>life, shortstories</td>\n",
       "      <td>127</td>\n",
       "      <td>92.818898</td>\n",
       "    </tr>\n",
       "    <tr>\n",
       "      <th>603</th>\n",
       "      <td>swahindi2, detective, novels</td>\n",
       "      <td>125</td>\n",
       "      <td>96.352000</td>\n",
       "    </tr>\n",
       "    <tr>\n",
       "      <th>604</th>\n",
       "      <td>science-fiction, suspense, swahindi2</td>\n",
       "      <td>125</td>\n",
       "      <td>90.136000</td>\n",
       "    </tr>\n",
       "    <tr>\n",
       "      <th>606</th>\n",
       "      <td>social, life, Indiawale</td>\n",
       "      <td>124</td>\n",
       "      <td>93.050932</td>\n",
       "    </tr>\n",
       "    <tr>\n",
       "      <th>608</th>\n",
       "      <td>romance, suspense, action-and-adventure, comedy</td>\n",
       "      <td>124</td>\n",
       "      <td>95.564516</td>\n",
       "    </tr>\n",
       "    <tr>\n",
       "      <th>609</th>\n",
       "      <td>moral-inspiring, shortstories, comedy</td>\n",
       "      <td>124</td>\n",
       "      <td>91.846774</td>\n",
       "    </tr>\n",
       "    <tr>\n",
       "      <th>610</th>\n",
       "      <td>shortstories, romance, Pratilipi-Awards-Hindi</td>\n",
       "      <td>122</td>\n",
       "      <td>95.131148</td>\n",
       "    </tr>\n",
       "    <tr>\n",
       "      <th>613</th>\n",
       "      <td>fantasy, romance, drama</td>\n",
       "      <td>121</td>\n",
       "      <td>93.793388</td>\n",
       "    </tr>\n",
       "    <tr>\n",
       "      <th>615</th>\n",
       "      <td>Horror-Marathon, romance, horror, suspense</td>\n",
       "      <td>121</td>\n",
       "      <td>90.933884</td>\n",
       "    </tr>\n",
       "    <tr>\n",
       "      <th>616</th>\n",
       "      <td>romance, short-story-challenge, suspense, ente...</td>\n",
       "      <td>121</td>\n",
       "      <td>95.752066</td>\n",
       "    </tr>\n",
       "    <tr>\n",
       "      <th>617</th>\n",
       "      <td>Pratilipi-kalamkar-samman, novels</td>\n",
       "      <td>120</td>\n",
       "      <td>93.150000</td>\n",
       "    </tr>\n",
       "    <tr>\n",
       "      <th>620</th>\n",
       "      <td>horror, detective, novels</td>\n",
       "      <td>119</td>\n",
       "      <td>97.957983</td>\n",
       "    </tr>\n",
       "    <tr>\n",
       "      <th>619</th>\n",
       "      <td>family, Indiawale, novels</td>\n",
       "      <td>119</td>\n",
       "      <td>96.882353</td>\n",
       "    </tr>\n",
       "    <tr>\n",
       "      <th>618</th>\n",
       "      <td>family, experiences-and-memories, shortstories</td>\n",
       "      <td>119</td>\n",
       "      <td>93.731092</td>\n",
       "    </tr>\n",
       "    <tr>\n",
       "      <th>621</th>\n",
       "      <td>webseries, murder-mystery, suspense</td>\n",
       "      <td>118</td>\n",
       "      <td>93.135593</td>\n",
       "    </tr>\n",
       "    <tr>\n",
       "      <th>622</th>\n",
       "      <td>fantasy, suspense, drama</td>\n",
       "      <td>118</td>\n",
       "      <td>96.008475</td>\n",
       "    </tr>\n",
       "    <tr>\n",
       "      <th>624</th>\n",
       "      <td>family, swahindi2, Pratilipi-kalamkar-samman</td>\n",
       "      <td>117</td>\n",
       "      <td>96.051282</td>\n",
       "    </tr>\n",
       "  </tbody>\n",
       "</table>\n",
       "</div>"
      ],
      "text/plain": [
       "                                         category_name  popularity  \\\n",
       "599                         children, horror, suspense         130   \n",
       "600        romance, translation, short-story-challenge         129   \n",
       "601               family, action-and-adventure, novels         128   \n",
       "602                                 life, shortstories         127   \n",
       "603                       swahindi2, detective, novels         125   \n",
       "604               science-fiction, suspense, swahindi2         125   \n",
       "606                            social, life, Indiawale         124   \n",
       "608    romance, suspense, action-and-adventure, comedy         124   \n",
       "609              moral-inspiring, shortstories, comedy         124   \n",
       "610      shortstories, romance, Pratilipi-Awards-Hindi         122   \n",
       "613                            fantasy, romance, drama         121   \n",
       "615         Horror-Marathon, romance, horror, suspense         121   \n",
       "616  romance, short-story-challenge, suspense, ente...         121   \n",
       "617                  Pratilipi-kalamkar-samman, novels         120   \n",
       "620                          horror, detective, novels         119   \n",
       "619                          family, Indiawale, novels         119   \n",
       "618     family, experiences-and-memories, shortstories         119   \n",
       "621                webseries, murder-mystery, suspense         118   \n",
       "622                           fantasy, suspense, drama         118   \n",
       "624       family, swahindi2, Pratilipi-kalamkar-samman         117   \n",
       "\n",
       "     avg_read_percent  \n",
       "599         92.284615  \n",
       "600         95.441860  \n",
       "601         91.812500  \n",
       "602         92.818898  \n",
       "603         96.352000  \n",
       "604         90.136000  \n",
       "606         93.050932  \n",
       "608         95.564516  \n",
       "609         91.846774  \n",
       "610         95.131148  \n",
       "613         93.793388  \n",
       "615         90.933884  \n",
       "616         95.752066  \n",
       "617         93.150000  \n",
       "620         97.957983  \n",
       "619         96.882353  \n",
       "618         93.731092  \n",
       "621         93.135593  \n",
       "622         96.008475  \n",
       "624         96.051282  "
      ]
     },
     "execution_count": 38,
     "metadata": {},
     "output_type": "execute_result"
    }
   ],
   "source": [
    "# Define thresholds for high engagement and low popularity\n",
    "high_engagement_threshold = 90  # Categories with avg_read_percent above 90%\n",
    "low_popularity_threshold = category_analysis['popularity'].quantile(0.80)  \n",
    "\n",
    "# Filter categories that meet the criteria\n",
    "high_engagement_low_popularity = category_analysis[\n",
    "    (category_analysis['avg_read_percent'] >= high_engagement_threshold) &\n",
    "    (category_analysis['popularity'] <= low_popularity_threshold)\n",
    "]\n",
    "\n",
    "\n",
    "high_engagement_low_popularity.sort_values(by=\"popularity\", ascending=False).head(20)"
   ]
  },
  {
   "cell_type": "markdown",
   "metadata": {},
   "source": [
    "## **Insights**\n",
    "\n",
    "- These categories have very high read percentages (often close to 100%) but have been read by a small number of users.\n",
    "- `Suggestion` Since these categories resonate well with the few readers who discover them, they may benefit from better visibility."
   ]
  },
  {
   "cell_type": "markdown",
   "metadata": {},
   "source": [
    "### **Lets see the contents that are very popular but has less engagement**"
   ]
  },
  {
   "cell_type": "code",
   "execution_count": 39,
   "metadata": {},
   "outputs": [
    {
     "data": {
      "text/html": [
       "<div>\n",
       "<style scoped>\n",
       "    .dataframe tbody tr th:only-of-type {\n",
       "        vertical-align: middle;\n",
       "    }\n",
       "\n",
       "    .dataframe tbody tr th {\n",
       "        vertical-align: top;\n",
       "    }\n",
       "\n",
       "    .dataframe thead th {\n",
       "        text-align: right;\n",
       "    }\n",
       "</style>\n",
       "<table border=\"1\" class=\"dataframe\">\n",
       "  <thead>\n",
       "    <tr style=\"text-align: right;\">\n",
       "      <th></th>\n",
       "      <th>category_name</th>\n",
       "      <th>popularity</th>\n",
       "      <th>avg_read_percent</th>\n",
       "    </tr>\n",
       "  </thead>\n",
       "  <tbody>\n",
       "    <tr>\n",
       "      <th>158</th>\n",
       "      <td>social, suspense, shortstories</td>\n",
       "      <td>1365</td>\n",
       "      <td>69.445665</td>\n",
       "    </tr>\n",
       "    <tr>\n",
       "      <th>204</th>\n",
       "      <td>social, novels</td>\n",
       "      <td>895</td>\n",
       "      <td>60.349101</td>\n",
       "    </tr>\n",
       "    <tr>\n",
       "      <th>824</th>\n",
       "      <td>women, webseries</td>\n",
       "      <td>56</td>\n",
       "      <td>55.553571</td>\n",
       "    </tr>\n",
       "    <tr>\n",
       "      <th>869</th>\n",
       "      <td>crime-lekhan, romance, action-and-adventure</td>\n",
       "      <td>52</td>\n",
       "      <td>60.480769</td>\n",
       "    </tr>\n",
       "    <tr>\n",
       "      <th>900</th>\n",
       "      <td>translation, moral-inspiring, novels</td>\n",
       "      <td>47</td>\n",
       "      <td>55.829787</td>\n",
       "    </tr>\n",
       "  </tbody>\n",
       "</table>\n",
       "</div>"
      ],
      "text/plain": [
       "                                   category_name  popularity  avg_read_percent\n",
       "158               social, suspense, shortstories        1365         69.445665\n",
       "204                               social, novels         895         60.349101\n",
       "824                             women, webseries          56         55.553571\n",
       "869  crime-lekhan, romance, action-and-adventure          52         60.480769\n",
       "900         translation, moral-inspiring, novels          47         55.829787"
      ]
     },
     "execution_count": 39,
     "metadata": {},
     "output_type": "execute_result"
    }
   ],
   "source": [
    "# Define thresholds for low engagement and high popularity\n",
    "low_engagement_threshold = 70  # Categories with avg_read_percent below 50%\n",
    "high_popularity_threshold = category_analysis['popularity'].quantile(0.70)  \n",
    "\n",
    "# Filter categories that meet the criteria\n",
    "low_engagement_high_popularity = category_analysis[\n",
    "    (category_analysis['avg_read_percent'] <= low_engagement_threshold) &\n",
    "    (category_analysis['popularity'] >= high_popularity_threshold)\n",
    "]\n",
    "\n",
    "# Sort values by popularity in descending order\n",
    "low_engagement_high_popularity.sort_values(by=\"popularity\", ascending=False)"
   ]
  },
  {
   "cell_type": "markdown",
   "metadata": {},
   "source": [
    "## **Univariate Analysis(Authors)**"
   ]
  },
  {
   "cell_type": "code",
   "execution_count": 41,
   "metadata": {},
   "outputs": [
    {
     "data": {
      "image/png": "[encoded data removed]",
      "text/plain": [
       "<Figure size 1200x500 with 1 Axes>"
      ]
     },
     "metadata": {},
     "output_type": "display_data"
    }
   ],
   "source": [
    "author_counts = final_df['author_id'].value_counts()\n",
    "\n",
    "# Create a mapping of top 10 author IDs to categorical labels\n",
    "top_authors = author_counts.head(10)\n",
    "\n",
    "\n",
    "plt.figure(figsize=(12, 5))\n",
    "sns.barplot(x=top_authors.index.astype(str), y=top_authors.values)\n",
    "plt.title(\"Top 10 Authors with Most Pratilipis\")\n",
    "plt.xlabel(\"Author ID\")\n",
    "plt.ylabel(\"Number of Pratilipis\")\n",
    "plt.xticks(rotation=45, ha='right')  # Rotate labels for better visibility\n",
    "plt.show()\n",
    "\n"
   ]
  },
  {
   "cell_type": "markdown",
   "metadata": {},
   "source": [
    "## **Insights**:\n",
    "\n",
    "- Author -227032338889467 and -2270332349684758 have a significantly higher number of pratilipis nearly 30,000 each.\n",
    "- The third and fourth top authors have around 20,000 pratilipis, showing a drop of 30% compared to the first two.\n",
    "- From the fifth author onward, the count drops below 15,000."
   ]
  },
  {
   "cell_type": "markdown",
   "metadata": {},
   "source": [
    "### **Lets also check top authors also have higher reader engagement.**"
   ]
  },
  {
   "cell_type": "code",
   "execution_count": 42,
   "metadata": {},
   "outputs": [
    {
     "data": {
      "text/html": [
       "<div>\n",
       "<style scoped>\n",
       "    .dataframe tbody tr th:only-of-type {\n",
       "        vertical-align: middle;\n",
       "    }\n",
       "\n",
       "    .dataframe tbody tr th {\n",
       "        vertical-align: top;\n",
       "    }\n",
       "\n",
       "    .dataframe thead th {\n",
       "        text-align: right;\n",
       "    }\n",
       "</style>\n",
       "<table border=\"1\" class=\"dataframe\">\n",
       "  <thead>\n",
       "    <tr style=\"text-align: right;\">\n",
       "      <th></th>\n",
       "      <th>author_id</th>\n",
       "      <th>avg_read_percent</th>\n",
       "      <th>avg_reading_time</th>\n",
       "      <th>num_stories</th>\n",
       "      <th>num_users</th>\n",
       "    </tr>\n",
       "  </thead>\n",
       "  <tbody>\n",
       "    <tr>\n",
       "      <th>1</th>\n",
       "      <td>-2270332332942443</td>\n",
       "      <td>97.776619</td>\n",
       "      <td>73.100325</td>\n",
       "      <td>2224</td>\n",
       "      <td>2398</td>\n",
       "    </tr>\n",
       "    <tr>\n",
       "      <th>7</th>\n",
       "      <td>-2270332349684758</td>\n",
       "      <td>97.088237</td>\n",
       "      <td>555.685739</td>\n",
       "      <td>177</td>\n",
       "      <td>8852</td>\n",
       "    </tr>\n",
       "    <tr>\n",
       "      <th>0</th>\n",
       "      <td>-2270332331146586</td>\n",
       "      <td>96.836037</td>\n",
       "      <td>464.811087</td>\n",
       "      <td>245</td>\n",
       "      <td>4364</td>\n",
       "    </tr>\n",
       "    <tr>\n",
       "      <th>5</th>\n",
       "      <td>-2270332345572057</td>\n",
       "      <td>96.625183</td>\n",
       "      <td>788.106410</td>\n",
       "      <td>279</td>\n",
       "      <td>4015</td>\n",
       "    </tr>\n",
       "    <tr>\n",
       "      <th>3</th>\n",
       "      <td>-2270332345148315</td>\n",
       "      <td>95.805097</td>\n",
       "      <td>744.269715</td>\n",
       "      <td>251</td>\n",
       "      <td>6147</td>\n",
       "    </tr>\n",
       "    <tr>\n",
       "      <th>2</th>\n",
       "      <td>-2270332338889467</td>\n",
       "      <td>95.226102</td>\n",
       "      <td>394.062765</td>\n",
       "      <td>841</td>\n",
       "      <td>5934</td>\n",
       "    </tr>\n",
       "    <tr>\n",
       "      <th>8</th>\n",
       "      <td>-2270332351640599</td>\n",
       "      <td>94.962442</td>\n",
       "      <td>552.057740</td>\n",
       "      <td>462</td>\n",
       "      <td>7739</td>\n",
       "    </tr>\n",
       "    <tr>\n",
       "      <th>9</th>\n",
       "      <td>-4240066850518385</td>\n",
       "      <td>94.271086</td>\n",
       "      <td>955.346710</td>\n",
       "      <td>618</td>\n",
       "      <td>4800</td>\n",
       "    </tr>\n",
       "    <tr>\n",
       "      <th>4</th>\n",
       "      <td>-2270332345489443</td>\n",
       "      <td>93.920143</td>\n",
       "      <td>1147.401937</td>\n",
       "      <td>125</td>\n",
       "      <td>5873</td>\n",
       "    </tr>\n",
       "    <tr>\n",
       "      <th>6</th>\n",
       "      <td>-2270332349500064</td>\n",
       "      <td>90.836903</td>\n",
       "      <td>975.339202</td>\n",
       "      <td>278</td>\n",
       "      <td>6611</td>\n",
       "    </tr>\n",
       "  </tbody>\n",
       "</table>\n",
       "</div>"
      ],
      "text/plain": [
       "           author_id  avg_read_percent  avg_reading_time  num_stories  \\\n",
       "1  -2270332332942443         97.776619         73.100325         2224   \n",
       "7  -2270332349684758         97.088237        555.685739          177   \n",
       "0  -2270332331146586         96.836037        464.811087          245   \n",
       "5  -2270332345572057         96.625183        788.106410          279   \n",
       "3  -2270332345148315         95.805097        744.269715          251   \n",
       "2  -2270332338889467         95.226102        394.062765          841   \n",
       "8  -2270332351640599         94.962442        552.057740          462   \n",
       "9  -4240066850518385         94.271086        955.346710          618   \n",
       "4  -2270332345489443         93.920143       1147.401937          125   \n",
       "6  -2270332349500064         90.836903        975.339202          278   \n",
       "\n",
       "   num_users  \n",
       "1       2398  \n",
       "7       8852  \n",
       "0       4364  \n",
       "5       4015  \n",
       "3       6147  \n",
       "2       5934  \n",
       "8       7739  \n",
       "9       4800  \n",
       "4       5873  \n",
       "6       6611  "
      ]
     },
     "execution_count": 42,
     "metadata": {},
     "output_type": "execute_result"
    }
   ],
   "source": [
    "# Get top 10 authors by the number of pratilipis\n",
    "top_authors = final_df['author_id'].value_counts().head(10).index\n",
    "\n",
    "# Filter data for only the top authors\n",
    "top_authors_df = final_df[final_df['author_id'].isin(top_authors)]\n",
    "\n",
    "# Compute average read percentage and reading time per author\n",
    "author_engagement = top_authors_df.groupby('author_id').agg(\n",
    "    avg_read_percent=('read_percent', 'mean'),\n",
    "    avg_reading_time=('reading_time', 'mean'),\n",
    "    num_stories=('pratilipi_id', 'nunique'),\n",
    "    num_users=('user_id', 'nunique')  # Number of unique users reading their stories\n",
    ").reset_index()\n",
    "\n",
    "# Sort by average read percentage\n",
    "author_engagement = author_engagement.sort_values(by='avg_read_percent', ascending=False)\n",
    "\n",
    "author_engagement"
   ]
  },
  {
   "cell_type": "code",
   "execution_count": 46,
   "metadata": {},
   "outputs": [
    {
     "data": {
      "image/png": "[encoded data removed]",
      "text/plain": [
       "<Figure size 1000x600 with 1 Axes>"
      ]
     },
     "metadata": {},
     "output_type": "display_data"
    }
   ],
   "source": [
    "# Extract the numeric arrays\n",
    "stories = author_engagement[\"num_stories\"].values\n",
    "users = author_engagement[\"num_users\"].values\n",
    "\n",
    "# x positions for each author\n",
    "x = np.arange(len(author_engagement['author_id']))\n",
    "\n",
    "plt.figure(figsize=(10, 6))\n",
    "width = 0.4\n",
    "# Plot the bars for number of stories (shift left by width/2)\n",
    "plt.bar(x - width/2, stories, width=width, label=\"Number of Stories\")\n",
    "# Plot the bars for number of users (shift right by width/2)\n",
    "plt.bar(x + width/2, users, width=width, label=\"Number of Users\")\n",
    "\n",
    "plt.xlabel(\"Author ID\")\n",
    "plt.ylabel(\"Count\")\n",
    "plt.title(\"Number of Stories vs Number of Users by Author\")\n",
    "\n",
    "# Replace default tick positions/labels with the author string IDs\n",
    "plt.xticks(x, author_engagement['author_id'], rotation=45, ha=\"right\")\n",
    "\n",
    "plt.legend()\n",
    "plt.tight_layout()\n",
    "plt.show()\n"
   ]
  },
  {
   "cell_type": "markdown",
   "metadata": {},
   "source": [
    "## **Insights**\n",
    "\n",
    "- Most authors in this list have over 90% average read percentage, meaning users fully engage with their stories.\n",
    "- Some authors have very high reading time \n",
    "- Others have shorter but more widely read stories (e.g., 73 mins for -2270332332924443).\n",
    "- The first author (-2270332332924443) has 2,224 stories, the highest among the top authors. but comparatively has the least users\n",
    "- Other authors have much fewer stories but higher reader engagement (e.g., -2270332349500064 with 278 stories but 975 avg reading time).This shows that quality vs. quantity varies for engagement.\n",
    "- Some authors have large audiences (e.g., -2270332349684758 has 8,852 unique users)"
   ]
  },
  {
   "cell_type": "markdown",
   "metadata": {},
   "source": [
    "## **Univariate analysis (Reading Time)**"
   ]
  },
  {
   "cell_type": "code",
   "execution_count": null,
   "metadata": {},
   "outputs": [
    {
     "data": {
      "image/png": "[encoded data removed]",
      "text/plain": [
       "<Figure size 1000x500 with 1 Axes>"
      ]
     },
     "metadata": {},
     "output_type": "display_data"
    }
   ],
   "source": [
    "plt.figure(figsize=(10,5))\n",
    "sns.histplot(final_df['reading_time'], bins=30, kde=True)\n",
    "plt.title(\"Distribution of Reading Time\")\n",
    "plt.xlabel(\"Reading Time (Seconds)\")\n",
    "plt.ylabel(\"Count\")\n",
    "plt.show()"
   ]
  },
  {
   "cell_type": "markdown",
   "metadata": {},
   "source": [
    "## **Insights**\n",
    "- most stories are short or users prefer reading shorter content.\n",
    "- The presence of long reading time outliers suggests that some stories are significantly longer."
   ]
  },
  {
   "cell_type": "markdown",
   "metadata": {},
   "source": [
    "### **Lets Analyze reading time by category**"
   ]
  },
  {
   "cell_type": "code",
   "execution_count": null,
   "metadata": {},
   "outputs": [
    {
     "data": {
      "image/png": "[encoded data removed]",
      "text/plain": [
       "<Figure size 1200x600 with 1 Axes>"
      ]
     },
     "metadata": {},
     "output_type": "display_data"
    }
   ],
   "source": [
    "# Step 1: Analyze reading time by category\n",
    "category_reading_time = final_df.groupby('category_name')['reading_time'].mean().sort_values(ascending=False)\n",
    "\n",
    "# Step 2: Identify Pratilipis with unusually high reading times (top 1% outliers)\n",
    "threshold = final_df['reading_time'].quantile(0.99)  # 99th percentile\n",
    "high_reading_time_pratilipis = final_df[final_df['reading_time'] >= threshold]\n",
    "\n",
    "# Step 3: Visualize top 15 categories with the highest average reading time\n",
    "plt.figure(figsize=(12, 6))\n",
    "sns.barplot(y=category_reading_time.head(15).index, x=category_reading_time.head(15).values, palette=\"viridis\")\n",
    "plt.xlabel(\"Average Reading Time (Seconds)\")\n",
    "plt.ylabel(\"Category\")\n",
    "plt.title(\"Top 15 Categories with Longest Average Reading Time\")\n",
    "plt.show()\n"
   ]
  },
  {
   "cell_type": "markdown",
   "metadata": {},
   "source": [
    "## **Insights**\n",
    "- The category \"life, family, suspense\" has the longest average reading time, significantly higher than others, suggesting it includes longer, more immersive stories.\n",
    "- Categories that involve deep storytelling, such as \"Indiawale, women, crime\" and \"novels, social\", indicate that crime and social themes may contribute to longer reading times.\n",
    "- Some hybrid categories like \"science-fiction, Horror-Marathon\", \"action-and-adventure, crime, short stories\", and \"drama, comedy, suspense\" indicate that multi-genre stories also contribute to extended engagement.\n",
    "- Categories like \"life, experiences-and-memories, Pratilipi-kalamkar-samman\" and \"swahindi2, mythology\" appearing on this list suggest niche audiences deeply engage with them.\n"
   ]
  },
  {
   "cell_type": "markdown",
   "metadata": {},
   "source": [
    "### **Lets check popularty based on Reading time**"
   ]
  },
  {
   "cell_type": "code",
   "execution_count": null,
   "metadata": {},
   "outputs": [
    {
     "data": {
      "text/html": [
       "<div>\n",
       "<style scoped>\n",
       "    .dataframe tbody tr th:only-of-type {\n",
       "        vertical-align: middle;\n",
       "    }\n",
       "\n",
       "    .dataframe tbody tr th {\n",
       "        vertical-align: top;\n",
       "    }\n",
       "\n",
       "    .dataframe thead th {\n",
       "        text-align: right;\n",
       "    }\n",
       "</style>\n",
       "<table border=\"1\" class=\"dataframe\">\n",
       "  <thead>\n",
       "    <tr style=\"text-align: right;\">\n",
       "      <th></th>\n",
       "      <th>pratilipi_id</th>\n",
       "      <th>num_reads</th>\n",
       "      <th>num_users</th>\n",
       "      <th>avg_read_percent</th>\n",
       "      <th>avg_reading_time</th>\n",
       "    </tr>\n",
       "  </thead>\n",
       "  <tbody>\n",
       "    <tr>\n",
       "      <th>0</th>\n",
       "      <td>-104396726036792</td>\n",
       "      <td>2</td>\n",
       "      <td>2</td>\n",
       "      <td>100.0</td>\n",
       "      <td>10445.0</td>\n",
       "    </tr>\n",
       "    <tr>\n",
       "      <th>1</th>\n",
       "      <td>-104716277999928</td>\n",
       "      <td>2</td>\n",
       "      <td>2</td>\n",
       "      <td>100.0</td>\n",
       "      <td>256.0</td>\n",
       "    </tr>\n",
       "    <tr>\n",
       "      <th>2</th>\n",
       "      <td>-105402708879672</td>\n",
       "      <td>2</td>\n",
       "      <td>2</td>\n",
       "      <td>100.0</td>\n",
       "      <td>61.0</td>\n",
       "    </tr>\n",
       "    <tr>\n",
       "      <th>3</th>\n",
       "      <td>-10922210191672</td>\n",
       "      <td>1</td>\n",
       "      <td>1</td>\n",
       "      <td>13.0</td>\n",
       "      <td>3291.0</td>\n",
       "    </tr>\n",
       "    <tr>\n",
       "      <th>4</th>\n",
       "      <td>-109830333622584</td>\n",
       "      <td>3</td>\n",
       "      <td>3</td>\n",
       "      <td>100.0</td>\n",
       "      <td>121.0</td>\n",
       "    </tr>\n",
       "  </tbody>\n",
       "</table>\n",
       "</div>"
      ],
      "text/plain": [
       "       pratilipi_id  num_reads  num_users  avg_read_percent  avg_reading_time\n",
       "0  -104396726036792          2          2             100.0           10445.0\n",
       "1  -104716277999928          2          2             100.0             256.0\n",
       "2  -105402708879672          2          2             100.0              61.0\n",
       "3   -10922210191672          1          1              13.0            3291.0\n",
       "4  -109830333622584          3          3             100.0             121.0"
      ]
     },
     "execution_count": 425,
     "metadata": {},
     "output_type": "execute_result"
    }
   ],
   "source": [
    "# Assuming final_df is the dataset loaded\n",
    "df = final_df.copy()\n",
    "\n",
    "# Compute popularity metrics\n",
    "pratilipi_popularity = df.groupby(\"pratilipi_id\").agg(\n",
    "    num_reads=(\"user_id\", \"count\"),        # Total reads per pratilipi\n",
    "    num_users=(\"user_id\", \"nunique\"),      # Unique users per pratilipi\n",
    "    avg_read_percent=(\"read_percent\", \"mean\"), # Average read percentage per pratilipi\n",
    "    avg_reading_time=(\"reading_time\", \"mean\")  # Average reading time per pratilipi\n",
    ").reset_index()\n",
    "\n",
    "pratilipi_popularity.head()"
   ]
  },
  {
   "cell_type": "code",
   "execution_count": null,
   "metadata": {},
   "outputs": [
    {
     "data": {
      "image/png": "[encoded data removed]",
      "text/plain": [
       "<Figure size 1000x500 with 1 Axes>"
      ]
     },
     "metadata": {},
     "output_type": "display_data"
    }
   ],
   "source": [
    "# Create the scatter plot\n",
    "plt.figure(figsize=(10, 5))\n",
    "sns.scatterplot(x=pratilipi_popularity[\"num_reads\"], y=pratilipi_popularity[\"avg_reading_time\"], alpha=0.6)\n",
    "\n",
    "plt.xscale(\"log\")  # Log scale to handle wide range of values\n",
    "plt.xlabel(\"Number of Reads (Popularity)\")\n",
    "plt.ylabel(\"Average Reading Time (Seconds)\")\n",
    "plt.title(\"Relationship Between Popularity and Reading Time\")\n",
    "\n",
    "plt.show()"
   ]
  },
  {
   "cell_type": "markdown",
   "metadata": {},
   "source": [
    "## **Insights**\n",
    "- The majority of highly popular Pratilipis (those with a high number of reads) tend to have lower average reading times, suggesting that shorter content (less than 10000 sec reading time) may attract more readers.\n",
    "- A significant number of Pratilipis have very few reads (left side of the plot), yet their reading times vary widely."
   ]
  },
  {
   "cell_type": "markdown",
   "metadata": {},
   "source": [
    "## **Univariate analysis (Updated_at)**"
   ]
  },
  {
   "cell_type": "code",
   "execution_count": null,
   "metadata": {},
   "outputs": [],
   "source": [
    "# Convert to datetime\n",
    "final_df['updated_at'] = pd.to_datetime(final_df['updated_at'])\n",
    "\n",
    "# Extract useful time-based features\n",
    "final_df['updated_year'] = final_df['updated_at'].dt.year\n",
    "final_df['updated_month'] = final_df['updated_at'].dt.month\n",
    "final_df['updated_day'] = final_df['updated_at'].dt.day_name()\n",
    "final_df['updated_hour'] = final_df['updated_at'].dt.hour"
   ]
  },
  {
   "cell_type": "markdown",
   "metadata": {},
   "source": [
    "### **Lets see the peak reading times**"
   ]
  },
  {
   "cell_type": "code",
   "execution_count": null,
   "metadata": {},
   "outputs": [
    {
     "data": {
      "image/png": "[encoded data removed]",
      "text/plain": [
       "<Figure size 2200x500 with 2 Axes>"
      ]
     },
     "metadata": {},
     "output_type": "display_data"
    }
   ],
   "source": [
    "# Count occurrences per hour\n",
    "hourly_activity = final_df['updated_hour'].value_counts().sort_index()\n",
    "\n",
    "# Plot the heatmap\n",
    "plt.figure(figsize=(22,5))  # Increase figure size\n",
    "sns.heatmap(hourly_activity.values.reshape(1, -1), cmap=\"Blues\", annot=True, fmt=\".0f\", xticklabels=hourly_activity.index, cbar_kws={'label': 'Number of Interactions'})\n",
    "\n",
    "# Formatting\n",
    "plt.xlabel(\"Hour of the Day\", fontsize=12)\n",
    "plt.title(\"User Activity by Hour of the Day\", fontsize=14)\n",
    "plt.show()"
   ]
  },
  {
   "cell_type": "markdown",
   "metadata": {},
   "source": [
    "## **Insights**\n",
    "- The highest user activity occurs between 4 PM to 6 PM, with the peak at 5 PM (17:00).This could indicate that users prefer to engage with Pratilipi content in the late afternoon and early evening.\n",
    "- There is a steep decline in activity from 10 PM (22:00) onwards, reaching the lowest points between midnight (00:00) and 6 AM.\n",
    "- There is a slight dip in activity around lunchtime (12 PM - 2 PM) before picking up again in the afternoon."
   ]
  },
  {
   "cell_type": "markdown",
   "metadata": {},
   "source": [
    "## **Lets check the Published_at columns**"
   ]
  },
  {
   "cell_type": "code",
   "execution_count": null,
   "metadata": {},
   "outputs": [],
   "source": [
    "final_df['published_year'] = final_df['published_at'].dt.year"
   ]
  },
  {
   "cell_type": "markdown",
   "metadata": {},
   "source": [
    "### **lets check read_percent based on published date (old or new)**"
   ]
  },
  {
   "cell_type": "code",
   "execution_count": null,
   "metadata": {},
   "outputs": [
    {
     "data": {
      "image/png": "[encoded data removed]",
      "text/plain": [
       "<Figure size 1000x500 with 1 Axes>"
      ]
     },
     "metadata": {},
     "output_type": "display_data"
    }
   ],
   "source": [
    "# Calculate average read percentage per year\n",
    "yearly_read_percent = final_df.groupby('published_year')['read_percent'].mean().dropna()\n",
    "\n",
    "# Plot\n",
    "plt.figure(figsize=(10,5))\n",
    "plt.plot(yearly_read_percent.index, yearly_read_percent.values, marker='o', linestyle='-')\n",
    "plt.xlabel(\"Year of Publication\")\n",
    "plt.ylabel(\"Average Read Percentage\")\n",
    "plt.title(\"Average Read Percentage by Year of Publication\")\n",
    "plt.grid(True)\n",
    "plt.show()\n"
   ]
  },
  {
   "cell_type": "markdown",
   "metadata": {},
   "source": [
    "## **Insights**\n",
    "- The highest average read percentage is observed in 2021 and 2022, where it reaches around 95%. This indicates that newer content is more engaging to readers.\n",
    "- In 2015, there was a dip in the average read percentage, dropping to the lowest point (77%)\n",
    "- The sharpest increase happened between 2018 and 2019, where the average read percentage jumped from 83% to 90%.\n",
    "-From 2019 onwards, the read percentage consistently increased year over year, showing that more recent content has been well-received."
   ]
  },
  {
   "cell_type": "markdown",
   "metadata": {},
   "source": [
    "### **Lets check the popularity base on published year(old or new)**"
   ]
  },
  {
   "cell_type": "code",
   "execution_count": null,
   "metadata": {},
   "outputs": [
    {
     "data": {
      "image/png": "[encoded data removed]",
      "text/plain": [
       "<Figure size 1000x500 with 1 Axes>"
      ]
     },
     "metadata": {},
     "output_type": "display_data"
    }
   ],
   "source": [
    "# Group by publication year and calculate total number of reads (popularity)\n",
    "popularity_by_year = final_df.groupby('published_year')['pratilipi_id'].count()\n",
    "\n",
    "# Plot the trend of popularity over the years\n",
    "plt.figure(figsize=(10, 5))\n",
    "plt.plot(popularity_by_year.index, popularity_by_year.values, marker='o', linestyle='-')\n",
    "\n",
    "# Formatting\n",
    "plt.xlabel(\"Year of Publication\")\n",
    "plt.ylabel(\"Total Number of Reads (Popularity)\")\n",
    "plt.title(\"Popularity of Content by Year of Publication\")\n",
    "plt.grid(True)\n",
    "\n",
    "# Show the plot\n",
    "plt.show()"
   ]
  },
  {
   "cell_type": "markdown",
   "metadata": {},
   "source": [
    "## **Insights**\n",
    "- The number of reads increased significantly from 2018 onwards, reaching its peak in 2021.\n",
    "- After the peak in 2021, the popularity dropped in 2022.\n",
    "- Pratilipis published before 2018 have significantly fewer total reads. Older content may not be receiving much engagement, likely due to a shift in user interests or limited discoverability."
   ]
  },
  {
   "cell_type": "code",
   "execution_count": null,
   "metadata": {},
   "outputs": [
    {
     "data": {
      "text/html": [
       "<div>\n",
       "<style scoped>\n",
       "    .dataframe tbody tr th:only-of-type {\n",
       "        vertical-align: middle;\n",
       "    }\n",
       "\n",
       "    .dataframe tbody tr th {\n",
       "        vertical-align: top;\n",
       "    }\n",
       "\n",
       "    .dataframe thead th {\n",
       "        text-align: right;\n",
       "    }\n",
       "</style>\n",
       "<table border=\"1\" class=\"dataframe\">\n",
       "  <thead>\n",
       "    <tr style=\"text-align: right;\">\n",
       "      <th></th>\n",
       "      <th>user_id</th>\n",
       "      <th>pratilipi_id</th>\n",
       "      <th>read_percent</th>\n",
       "      <th>updated_at</th>\n",
       "      <th>author_id</th>\n",
       "      <th>category_name</th>\n",
       "      <th>reading_time</th>\n",
       "      <th>published_at</th>\n",
       "      <th>updated_year</th>\n",
       "      <th>updated_month</th>\n",
       "      <th>updated_day</th>\n",
       "      <th>updated_hour</th>\n",
       "      <th>published_year</th>\n",
       "    </tr>\n",
       "  </thead>\n",
       "  <tbody>\n",
       "    <tr>\n",
       "      <th>0</th>\n",
       "      <td>5506791961876448</td>\n",
       "      <td>1377786228262109</td>\n",
       "      <td>100.0</td>\n",
       "      <td>2022-03-22 10:29:57.291</td>\n",
       "      <td>-2270332349684758</td>\n",
       "      <td>romance, family, novels</td>\n",
       "      <td>376</td>\n",
       "      <td>2022-03-15 18:39:52</td>\n",
       "      <td>2022</td>\n",
       "      <td>3</td>\n",
       "      <td>Tuesday</td>\n",
       "      <td>10</td>\n",
       "      <td>2022</td>\n",
       "    </tr>\n",
       "    <tr>\n",
       "      <th>1</th>\n",
       "      <td>5506791971543560</td>\n",
       "      <td>1377786223038206</td>\n",
       "      <td>40.0</td>\n",
       "      <td>2022-03-19 13:49:25.660</td>\n",
       "      <td>-2270332348374323</td>\n",
       "      <td>romance, suspense</td>\n",
       "      <td>361</td>\n",
       "      <td>2021-03-16 19:09:19</td>\n",
       "      <td>2022</td>\n",
       "      <td>3</td>\n",
       "      <td>Saturday</td>\n",
       "      <td>13</td>\n",
       "      <td>2021</td>\n",
       "    </tr>\n",
       "    <tr>\n",
       "      <th>2</th>\n",
       "      <td>5506791996468218</td>\n",
       "      <td>1377786227025240</td>\n",
       "      <td>100.0</td>\n",
       "      <td>2022-03-21 17:28:47.288</td>\n",
       "      <td>-2270332332674531</td>\n",
       "      <td>romance</td>\n",
       "      <td>582</td>\n",
       "      <td>2021-12-29 13:31:30</td>\n",
       "      <td>2022</td>\n",
       "      <td>3</td>\n",
       "      <td>Monday</td>\n",
       "      <td>17</td>\n",
       "      <td>2021</td>\n",
       "    </tr>\n",
       "    <tr>\n",
       "      <th>3</th>\n",
       "      <td>5506791978752866</td>\n",
       "      <td>1377786222398208</td>\n",
       "      <td>65.0</td>\n",
       "      <td>2022-03-21 07:39:25.183</td>\n",
       "      <td>-2270332332880683</td>\n",
       "      <td>romance, action-and-adventure, webseries</td>\n",
       "      <td>1451</td>\n",
       "      <td>2021-01-21 13:55:52</td>\n",
       "      <td>2022</td>\n",
       "      <td>3</td>\n",
       "      <td>Monday</td>\n",
       "      <td>7</td>\n",
       "      <td>2021</td>\n",
       "    </tr>\n",
       "    <tr>\n",
       "      <th>4</th>\n",
       "      <td>5506791978962946</td>\n",
       "      <td>1377786228157051</td>\n",
       "      <td>100.0</td>\n",
       "      <td>2022-03-22 17:32:44.777</td>\n",
       "      <td>-2270332331146586</td>\n",
       "      <td>romance, swahindi2, suspense</td>\n",
       "      <td>811</td>\n",
       "      <td>2022-03-08 16:31:41</td>\n",
       "      <td>2022</td>\n",
       "      <td>3</td>\n",
       "      <td>Tuesday</td>\n",
       "      <td>17</td>\n",
       "      <td>2022</td>\n",
       "    </tr>\n",
       "  </tbody>\n",
       "</table>\n",
       "</div>"
      ],
      "text/plain": [
       "            user_id      pratilipi_id  read_percent              updated_at  \\\n",
       "0  5506791961876448  1377786228262109         100.0 2022-03-22 10:29:57.291   \n",
       "1  5506791971543560  1377786223038206          40.0 2022-03-19 13:49:25.660   \n",
       "2  5506791996468218  1377786227025240         100.0 2022-03-21 17:28:47.288   \n",
       "3  5506791978752866  1377786222398208          65.0 2022-03-21 07:39:25.183   \n",
       "4  5506791978962946  1377786228157051         100.0 2022-03-22 17:32:44.777   \n",
       "\n",
       "           author_id                             category_name  reading_time  \\\n",
       "0  -2270332349684758                   romance, family, novels           376   \n",
       "1  -2270332348374323                         romance, suspense           361   \n",
       "2  -2270332332674531                                   romance           582   \n",
       "3  -2270332332880683  romance, action-and-adventure, webseries          1451   \n",
       "4  -2270332331146586              romance, swahindi2, suspense           811   \n",
       "\n",
       "         published_at  updated_year  updated_month updated_day  updated_hour  \\\n",
       "0 2022-03-15 18:39:52          2022              3     Tuesday            10   \n",
       "1 2021-03-16 19:09:19          2022              3    Saturday            13   \n",
       "2 2021-12-29 13:31:30          2022              3      Monday            17   \n",
       "3 2021-01-21 13:55:52          2022              3      Monday             7   \n",
       "4 2022-03-08 16:31:41          2022              3     Tuesday            17   \n",
       "\n",
       "   published_year  \n",
       "0            2022  \n",
       "1            2021  \n",
       "2            2021  \n",
       "3            2021  \n",
       "4            2022  "
      ]
     },
     "execution_count": 432,
     "metadata": {},
     "output_type": "execute_result"
    }
   ],
   "source": [
    "final_df.head()"
   ]
  },
  {
   "cell_type": "markdown",
   "metadata": {},
   "source": [
    "### **Lets remove the unnecessary features**\n",
    "- Dropping the features that will not come handy for our collaborative recommendation system.\n",
    "\n"
   ]
  },
  {
   "cell_type": "code",
   "execution_count": null,
   "metadata": {},
   "outputs": [],
   "source": [
    "dropping_columns = ['updated_at','author_id','published_at','updated_year','updated_month','updated_day','updated_hour','published_year']\n",
    "final_df.drop(columns=dropping_columns,inplace=True)"
   ]
  },
  {
   "cell_type": "code",
   "execution_count": null,
   "metadata": {},
   "outputs": [
    {
     "data": {
      "text/html": [
       "<div>\n",
       "<style scoped>\n",
       "    .dataframe tbody tr th:only-of-type {\n",
       "        vertical-align: middle;\n",
       "    }\n",
       "\n",
       "    .dataframe tbody tr th {\n",
       "        vertical-align: top;\n",
       "    }\n",
       "\n",
       "    .dataframe thead th {\n",
       "        text-align: right;\n",
       "    }\n",
       "</style>\n",
       "<table border=\"1\" class=\"dataframe\">\n",
       "  <thead>\n",
       "    <tr style=\"text-align: right;\">\n",
       "      <th></th>\n",
       "      <th>user_id</th>\n",
       "      <th>pratilipi_id</th>\n",
       "      <th>read_percent</th>\n",
       "      <th>category_name</th>\n",
       "      <th>reading_time</th>\n",
       "    </tr>\n",
       "  </thead>\n",
       "  <tbody>\n",
       "    <tr>\n",
       "      <th>0</th>\n",
       "      <td>5506791961876448</td>\n",
       "      <td>1377786228262109</td>\n",
       "      <td>100.0</td>\n",
       "      <td>romance, family, novels</td>\n",
       "      <td>376</td>\n",
       "    </tr>\n",
       "    <tr>\n",
       "      <th>1</th>\n",
       "      <td>5506791971543560</td>\n",
       "      <td>1377786223038206</td>\n",
       "      <td>40.0</td>\n",
       "      <td>romance, suspense</td>\n",
       "      <td>361</td>\n",
       "    </tr>\n",
       "    <tr>\n",
       "      <th>2</th>\n",
       "      <td>5506791996468218</td>\n",
       "      <td>1377786227025240</td>\n",
       "      <td>100.0</td>\n",
       "      <td>romance</td>\n",
       "      <td>582</td>\n",
       "    </tr>\n",
       "    <tr>\n",
       "      <th>3</th>\n",
       "      <td>5506791978752866</td>\n",
       "      <td>1377786222398208</td>\n",
       "      <td>65.0</td>\n",
       "      <td>romance, action-and-adventure, webseries</td>\n",
       "      <td>1451</td>\n",
       "    </tr>\n",
       "    <tr>\n",
       "      <th>4</th>\n",
       "      <td>5506791978962946</td>\n",
       "      <td>1377786228157051</td>\n",
       "      <td>100.0</td>\n",
       "      <td>romance, swahindi2, suspense</td>\n",
       "      <td>811</td>\n",
       "    </tr>\n",
       "    <tr>\n",
       "      <th>...</th>\n",
       "      <td>...</td>\n",
       "      <td>...</td>\n",
       "      <td>...</td>\n",
       "      <td>...</td>\n",
       "      <td>...</td>\n",
       "    </tr>\n",
       "    <tr>\n",
       "      <th>1508052</th>\n",
       "      <td>5506791954810282</td>\n",
       "      <td>1377786227368960</td>\n",
       "      <td>100.0</td>\n",
       "      <td>social, romance, swahindi2</td>\n",
       "      <td>376</td>\n",
       "    </tr>\n",
       "    <tr>\n",
       "      <th>1508053</th>\n",
       "      <td>5506791966125995</td>\n",
       "      <td>1377786221431279</td>\n",
       "      <td>100.0</td>\n",
       "      <td>romance</td>\n",
       "      <td>1157</td>\n",
       "    </tr>\n",
       "    <tr>\n",
       "      <th>1508054</th>\n",
       "      <td>5506791964496442</td>\n",
       "      <td>1377786226829597</td>\n",
       "      <td>100.0</td>\n",
       "      <td>romance, action-and-adventure, suspense</td>\n",
       "      <td>392</td>\n",
       "    </tr>\n",
       "    <tr>\n",
       "      <th>1508055</th>\n",
       "      <td>5506791968781083</td>\n",
       "      <td>1377786226056467</td>\n",
       "      <td>100.0</td>\n",
       "      <td>romance, novels, suspense</td>\n",
       "      <td>560</td>\n",
       "    </tr>\n",
       "    <tr>\n",
       "      <th>1508056</th>\n",
       "      <td>5506791956021363</td>\n",
       "      <td>1377786226666757</td>\n",
       "      <td>100.0</td>\n",
       "      <td>romance, novels</td>\n",
       "      <td>727</td>\n",
       "    </tr>\n",
       "  </tbody>\n",
       "</table>\n",
       "<p>1508057 rows × 5 columns</p>\n",
       "</div>"
      ],
      "text/plain": [
       "                  user_id      pratilipi_id  read_percent  \\\n",
       "0        5506791961876448  1377786228262109         100.0   \n",
       "1        5506791971543560  1377786223038206          40.0   \n",
       "2        5506791996468218  1377786227025240         100.0   \n",
       "3        5506791978752866  1377786222398208          65.0   \n",
       "4        5506791978962946  1377786228157051         100.0   \n",
       "...                   ...               ...           ...   \n",
       "1508052  5506791954810282  1377786227368960         100.0   \n",
       "1508053  5506791966125995  1377786221431279         100.0   \n",
       "1508054  5506791964496442  1377786226829597         100.0   \n",
       "1508055  5506791968781083  1377786226056467         100.0   \n",
       "1508056  5506791956021363  1377786226666757         100.0   \n",
       "\n",
       "                                    category_name  reading_time  \n",
       "0                         romance, family, novels           376  \n",
       "1                               romance, suspense           361  \n",
       "2                                         romance           582  \n",
       "3        romance, action-and-adventure, webseries          1451  \n",
       "4                    romance, swahindi2, suspense           811  \n",
       "...                                           ...           ...  \n",
       "1508052                social, romance, swahindi2           376  \n",
       "1508053                                   romance          1157  \n",
       "1508054   romance, action-and-adventure, suspense           392  \n",
       "1508055                 romance, novels, suspense           560  \n",
       "1508056                           romance, novels           727  \n",
       "\n",
       "[1508057 rows x 5 columns]"
      ]
     },
     "execution_count": 434,
     "metadata": {},
     "output_type": "execute_result"
    }
   ],
   "source": [
    "final_df"
   ]
  },
  {
   "cell_type": "markdown",
   "metadata": {},
   "source": [
    "### **Popularity Based Recommendation system**\n",
    "\n",
    "- The Criteria is based on:\n",
    "    - Pratilipis read percentage (ratings)\n",
    "    - Number of Reads"
   ]
  },
  {
   "cell_type": "code",
   "execution_count": null,
   "metadata": {},
   "outputs": [
    {
     "data": {
      "text/html": [
       "<div>\n",
       "<style scoped>\n",
       "    .dataframe tbody tr th:only-of-type {\n",
       "        vertical-align: middle;\n",
       "    }\n",
       "\n",
       "    .dataframe tbody tr th {\n",
       "        vertical-align: top;\n",
       "    }\n",
       "\n",
       "    .dataframe thead th {\n",
       "        text-align: right;\n",
       "    }\n",
       "</style>\n",
       "<table border=\"1\" class=\"dataframe\">\n",
       "  <thead>\n",
       "    <tr style=\"text-align: right;\">\n",
       "      <th></th>\n",
       "      <th>user_id</th>\n",
       "      <th>pratilipi_id</th>\n",
       "      <th>read_percent</th>\n",
       "      <th>category_name</th>\n",
       "      <th>reading_time</th>\n",
       "    </tr>\n",
       "  </thead>\n",
       "  <tbody>\n",
       "    <tr>\n",
       "      <th>0</th>\n",
       "      <td>5506791961876448</td>\n",
       "      <td>1377786228262109</td>\n",
       "      <td>100.0</td>\n",
       "      <td>romance, family, novels</td>\n",
       "      <td>376</td>\n",
       "    </tr>\n",
       "    <tr>\n",
       "      <th>1</th>\n",
       "      <td>5506791971543560</td>\n",
       "      <td>1377786223038206</td>\n",
       "      <td>40.0</td>\n",
       "      <td>romance, suspense</td>\n",
       "      <td>361</td>\n",
       "    </tr>\n",
       "    <tr>\n",
       "      <th>2</th>\n",
       "      <td>5506791996468218</td>\n",
       "      <td>1377786227025240</td>\n",
       "      <td>100.0</td>\n",
       "      <td>romance</td>\n",
       "      <td>582</td>\n",
       "    </tr>\n",
       "    <tr>\n",
       "      <th>3</th>\n",
       "      <td>5506791978752866</td>\n",
       "      <td>1377786222398208</td>\n",
       "      <td>65.0</td>\n",
       "      <td>romance, action-and-adventure, webseries</td>\n",
       "      <td>1451</td>\n",
       "    </tr>\n",
       "    <tr>\n",
       "      <th>4</th>\n",
       "      <td>5506791978962946</td>\n",
       "      <td>1377786228157051</td>\n",
       "      <td>100.0</td>\n",
       "      <td>romance, swahindi2, suspense</td>\n",
       "      <td>811</td>\n",
       "    </tr>\n",
       "  </tbody>\n",
       "</table>\n",
       "</div>"
      ],
      "text/plain": [
       "            user_id      pratilipi_id  read_percent  \\\n",
       "0  5506791961876448  1377786228262109         100.0   \n",
       "1  5506791971543560  1377786223038206          40.0   \n",
       "2  5506791996468218  1377786227025240         100.0   \n",
       "3  5506791978752866  1377786222398208          65.0   \n",
       "4  5506791978962946  1377786228157051         100.0   \n",
       "\n",
       "                              category_name  reading_time  \n",
       "0                   romance, family, novels           376  \n",
       "1                         romance, suspense           361  \n",
       "2                                   romance           582  \n",
       "3  romance, action-and-adventure, webseries          1451  \n",
       "4              romance, swahindi2, suspense           811  "
      ]
     },
     "execution_count": 435,
     "metadata": {},
     "output_type": "execute_result"
    }
   ],
   "source": [
    "final_df.head()"
   ]
  },
  {
   "cell_type": "markdown",
   "metadata": {},
   "source": [
    "### **Average Ratings of Pratilipis**\n"
   ]
  },
  {
   "cell_type": "code",
   "execution_count": null,
   "metadata": {},
   "outputs": [
    {
     "data": {
      "text/plain": [
       "pratilipi_id\n",
       "-104396726036792    100.0\n",
       "-104716277999928    100.0\n",
       "-105402708879672    100.0\n",
       "-10922210191672      13.0\n",
       "-109830333622584    100.0\n",
       "Name: read_percent, dtype: float64"
      ]
     },
     "execution_count": 436,
     "metadata": {},
     "output_type": "execute_result"
    }
   ],
   "source": [
    "popularity_df = final_df.copy()\n",
    "\n",
    "popularity_df.groupby('pratilipi_id')['read_percent'].mean().head()"
   ]
  },
  {
   "cell_type": "code",
   "execution_count": null,
   "metadata": {},
   "outputs": [
    {
     "data": {
      "text/plain": [
       "pratilipi_id\n",
       "-104396726036792    100.0\n",
       "1377786224085201    100.0\n",
       "1377786224087617    100.0\n",
       "1377786224087437    100.0\n",
       "1377786224087319    100.0\n",
       "1377786224087173    100.0\n",
       "1377786224086578    100.0\n",
       "1377786224086121    100.0\n",
       "1377786224086118    100.0\n",
       "1377786224085465    100.0\n",
       "Name: read_percent, dtype: float64"
      ]
     },
     "execution_count": 437,
     "metadata": {},
     "output_type": "execute_result"
    }
   ],
   "source": [
    "popularity_df.groupby('pratilipi_id')['read_percent'].mean().sort_values(ascending=False).head(10)"
   ]
  },
  {
   "cell_type": "code",
   "execution_count": null,
   "metadata": {},
   "outputs": [
    {
     "data": {
      "text/plain": [
       "pratilipi_id\n",
       "1377786228351031    0.0\n",
       "1377786228234176    0.0\n",
       "1377786218893717    0.0\n",
       "1377786228350822    0.0\n",
       "1377786228306162    0.0\n",
       "1377786228337877    0.0\n",
       "1377786228337967    0.0\n",
       "1377786217658911    0.0\n",
       "1377786228306434    0.0\n",
       "1377786228325605    0.0\n",
       "Name: read_percent, dtype: float64"
      ]
     },
     "execution_count": 438,
     "metadata": {},
     "output_type": "execute_result"
    }
   ],
   "source": [
    "popularity_df.groupby('pratilipi_id')['read_percent'].mean().sort_values(ascending=False).tail(10)"
   ]
  },
  {
   "cell_type": "markdown",
   "metadata": {},
   "source": [
    "### **Ratings Count**"
   ]
  },
  {
   "cell_type": "code",
   "execution_count": null,
   "metadata": {},
   "outputs": [
    {
     "data": {
      "text/plain": [
       "pratilipi_id\n",
       "1377786217541698    2392\n",
       "1377786228336060    2318\n",
       "1377786228237359    2176\n",
       "1377786228240538    2155\n",
       "1377786228262109    1943\n",
       "1377786228243389    1872\n",
       "1377786215982409    1869\n",
       "1377786217544226    1555\n",
       "1377786228253938    1388\n",
       "1377786228189551    1216\n",
       "Name: read_percent, dtype: int64"
      ]
     },
     "execution_count": 439,
     "metadata": {},
     "output_type": "execute_result"
    }
   ],
   "source": [
    "popularity_df.groupby('pratilipi_id')['read_percent'].count().sort_values(ascending=False).head(10)"
   ]
  },
  {
   "cell_type": "markdown",
   "metadata": {},
   "source": [
    "### **Lets combine and now see the ratings based on reads**"
   ]
  },
  {
   "cell_type": "code",
   "execution_count": null,
   "metadata": {},
   "outputs": [
    {
     "data": {
      "text/html": [
       "<div>\n",
       "<style scoped>\n",
       "    .dataframe tbody tr th:only-of-type {\n",
       "        vertical-align: middle;\n",
       "    }\n",
       "\n",
       "    .dataframe tbody tr th {\n",
       "        vertical-align: top;\n",
       "    }\n",
       "\n",
       "    .dataframe thead th {\n",
       "        text-align: right;\n",
       "    }\n",
       "</style>\n",
       "<table border=\"1\" class=\"dataframe\">\n",
       "  <thead>\n",
       "    <tr style=\"text-align: right;\">\n",
       "      <th></th>\n",
       "      <th>read_percent</th>\n",
       "    </tr>\n",
       "    <tr>\n",
       "      <th>pratilipi_id</th>\n",
       "      <th></th>\n",
       "    </tr>\n",
       "  </thead>\n",
       "  <tbody>\n",
       "    <tr>\n",
       "      <th>-104396726036792</th>\n",
       "      <td>100.0</td>\n",
       "    </tr>\n",
       "    <tr>\n",
       "      <th>-104716277999928</th>\n",
       "      <td>100.0</td>\n",
       "    </tr>\n",
       "    <tr>\n",
       "      <th>-105402708879672</th>\n",
       "      <td>100.0</td>\n",
       "    </tr>\n",
       "    <tr>\n",
       "      <th>-10922210191672</th>\n",
       "      <td>13.0</td>\n",
       "    </tr>\n",
       "    <tr>\n",
       "      <th>-109830333622584</th>\n",
       "      <td>100.0</td>\n",
       "    </tr>\n",
       "    <tr>\n",
       "      <th>...</th>\n",
       "      <td>...</td>\n",
       "    </tr>\n",
       "    <tr>\n",
       "      <th>997646789154504</th>\n",
       "      <td>100.0</td>\n",
       "    </tr>\n",
       "    <tr>\n",
       "      <th>998502116792008</th>\n",
       "      <td>100.0</td>\n",
       "    </tr>\n",
       "    <tr>\n",
       "      <th>998703514162888</th>\n",
       "      <td>100.0</td>\n",
       "    </tr>\n",
       "    <tr>\n",
       "      <th>99902467774152</th>\n",
       "      <td>20.0</td>\n",
       "    </tr>\n",
       "    <tr>\n",
       "      <th>999175446763208</th>\n",
       "      <td>100.0</td>\n",
       "    </tr>\n",
       "  </tbody>\n",
       "</table>\n",
       "<p>135379 rows × 1 columns</p>\n",
       "</div>"
      ],
      "text/plain": [
       "                  read_percent\n",
       "pratilipi_id                  \n",
       "-104396726036792         100.0\n",
       "-104716277999928         100.0\n",
       "-105402708879672         100.0\n",
       "-10922210191672           13.0\n",
       "-109830333622584         100.0\n",
       "...                        ...\n",
       "997646789154504          100.0\n",
       "998502116792008          100.0\n",
       "998703514162888          100.0\n",
       "99902467774152            20.0\n",
       "999175446763208          100.0\n",
       "\n",
       "[135379 rows x 1 columns]"
      ]
     },
     "execution_count": 440,
     "metadata": {},
     "output_type": "execute_result"
    }
   ],
   "source": [
    "reading_percent_count = pd.DataFrame(popularity_df.groupby('pratilipi_id')['read_percent'].mean())\n",
    "reading_percent_count"
   ]
  },
  {
   "cell_type": "markdown",
   "metadata": {},
   "source": [
    "### **Calculate count of the readings and add the average reading**"
   ]
  },
  {
   "cell_type": "code",
   "execution_count": null,
   "metadata": {},
   "outputs": [],
   "source": [
    "reading_percent_count['reading_counts'] = pd.DataFrame(popularity_df.groupby('pratilipi_id')['read_percent'].count())"
   ]
  },
  {
   "cell_type": "code",
   "execution_count": null,
   "metadata": {},
   "outputs": [],
   "source": [
    "reading_percent_count['read_percent'] = round(reading_percent_count['read_percent'],1)"
   ]
  },
  {
   "cell_type": "code",
   "execution_count": null,
   "metadata": {},
   "outputs": [
    {
     "data": {
      "text/html": [
       "<div>\n",
       "<style scoped>\n",
       "    .dataframe tbody tr th:only-of-type {\n",
       "        vertical-align: middle;\n",
       "    }\n",
       "\n",
       "    .dataframe tbody tr th {\n",
       "        vertical-align: top;\n",
       "    }\n",
       "\n",
       "    .dataframe thead th {\n",
       "        text-align: right;\n",
       "    }\n",
       "</style>\n",
       "<table border=\"1\" class=\"dataframe\">\n",
       "  <thead>\n",
       "    <tr style=\"text-align: right;\">\n",
       "      <th></th>\n",
       "      <th>read_percent</th>\n",
       "      <th>reading_counts</th>\n",
       "    </tr>\n",
       "    <tr>\n",
       "      <th>pratilipi_id</th>\n",
       "      <th></th>\n",
       "      <th></th>\n",
       "    </tr>\n",
       "  </thead>\n",
       "  <tbody>\n",
       "    <tr>\n",
       "      <th>-104396726036792</th>\n",
       "      <td>100.0</td>\n",
       "      <td>2</td>\n",
       "    </tr>\n",
       "    <tr>\n",
       "      <th>-104716277999928</th>\n",
       "      <td>100.0</td>\n",
       "      <td>2</td>\n",
       "    </tr>\n",
       "    <tr>\n",
       "      <th>-105402708879672</th>\n",
       "      <td>100.0</td>\n",
       "      <td>2</td>\n",
       "    </tr>\n",
       "    <tr>\n",
       "      <th>-10922210191672</th>\n",
       "      <td>13.0</td>\n",
       "      <td>1</td>\n",
       "    </tr>\n",
       "    <tr>\n",
       "      <th>-109830333622584</th>\n",
       "      <td>100.0</td>\n",
       "      <td>3</td>\n",
       "    </tr>\n",
       "  </tbody>\n",
       "</table>\n",
       "</div>"
      ],
      "text/plain": [
       "                  read_percent  reading_counts\n",
       "pratilipi_id                                  \n",
       "-104396726036792         100.0               2\n",
       "-104716277999928         100.0               2\n",
       "-105402708879672         100.0               2\n",
       "-10922210191672           13.0               1\n",
       "-109830333622584         100.0               3"
      ]
     },
     "execution_count": 443,
     "metadata": {},
     "output_type": "execute_result"
    }
   ],
   "source": [
    "reading_percent_count.head()"
   ]
  },
  {
   "cell_type": "markdown",
   "metadata": {},
   "source": [
    "### **Now lets setup the criteria for a pratilipis to be a popular**\n",
    "\n",
    "- Lets say if the pratilipis read percent is more than 60% it means the reader isliking a lot.\n",
    "- And also that particular pratilipi must have more than certain number of reads to become popular lets say more than 600 reads"
   ]
  },
  {
   "cell_type": "markdown",
   "metadata": {},
   "source": [
    "## **These are the TOP 10 Pratilipis**"
   ]
  },
  {
   "cell_type": "code",
   "execution_count": null,
   "metadata": {},
   "outputs": [
    {
     "data": {
      "text/html": [
       "<div>\n",
       "<style scoped>\n",
       "    .dataframe tbody tr th:only-of-type {\n",
       "        vertical-align: middle;\n",
       "    }\n",
       "\n",
       "    .dataframe tbody tr th {\n",
       "        vertical-align: top;\n",
       "    }\n",
       "\n",
       "    .dataframe thead th {\n",
       "        text-align: right;\n",
       "    }\n",
       "</style>\n",
       "<table border=\"1\" class=\"dataframe\">\n",
       "  <thead>\n",
       "    <tr style=\"text-align: right;\">\n",
       "      <th></th>\n",
       "      <th>read_percent</th>\n",
       "      <th>reading_counts</th>\n",
       "    </tr>\n",
       "    <tr>\n",
       "      <th>pratilipi_id</th>\n",
       "      <th></th>\n",
       "      <th></th>\n",
       "    </tr>\n",
       "  </thead>\n",
       "  <tbody>\n",
       "    <tr>\n",
       "      <th>1377786228227774</th>\n",
       "      <td>99.2</td>\n",
       "      <td>719</td>\n",
       "    </tr>\n",
       "    <tr>\n",
       "      <th>1377786228240538</th>\n",
       "      <td>98.7</td>\n",
       "      <td>2155</td>\n",
       "    </tr>\n",
       "    <tr>\n",
       "      <th>1377786228237359</th>\n",
       "      <td>98.4</td>\n",
       "      <td>2176</td>\n",
       "    </tr>\n",
       "    <tr>\n",
       "      <th>1377786228274181</th>\n",
       "      <td>98.0</td>\n",
       "      <td>756</td>\n",
       "    </tr>\n",
       "    <tr>\n",
       "      <th>1377786228262109</th>\n",
       "      <td>97.9</td>\n",
       "      <td>1943</td>\n",
       "    </tr>\n",
       "    <tr>\n",
       "      <th>1377786228210136</th>\n",
       "      <td>97.8</td>\n",
       "      <td>837</td>\n",
       "    </tr>\n",
       "    <tr>\n",
       "      <th>1377786228235724</th>\n",
       "      <td>97.8</td>\n",
       "      <td>858</td>\n",
       "    </tr>\n",
       "    <tr>\n",
       "      <th>1377786228220763</th>\n",
       "      <td>97.7</td>\n",
       "      <td>643</td>\n",
       "    </tr>\n",
       "    <tr>\n",
       "      <th>1377786228250424</th>\n",
       "      <td>97.7</td>\n",
       "      <td>876</td>\n",
       "    </tr>\n",
       "    <tr>\n",
       "      <th>1377786228189551</th>\n",
       "      <td>97.7</td>\n",
       "      <td>1216</td>\n",
       "    </tr>\n",
       "  </tbody>\n",
       "</table>\n",
       "</div>"
      ],
      "text/plain": [
       "                  read_percent  reading_counts\n",
       "pratilipi_id                                  \n",
       "1377786228227774          99.2             719\n",
       "1377786228240538          98.7            2155\n",
       "1377786228237359          98.4            2176\n",
       "1377786228274181          98.0             756\n",
       "1377786228262109          97.9            1943\n",
       "1377786228210136          97.8             837\n",
       "1377786228235724          97.8             858\n",
       "1377786228220763          97.7             643\n",
       "1377786228250424          97.7             876\n",
       "1377786228189551          97.7            1216"
      ]
     },
     "execution_count": 444,
     "metadata": {},
     "output_type": "execute_result"
    }
   ],
   "source": [
    "reading_percent_count = reading_percent_count[(reading_percent_count['read_percent'] > 80) & (reading_percent_count['reading_counts']>600)]\n",
    "reading_percent_count.sort_values(by='read_percent', ascending=False).head(10)"
   ]
  },
  {
   "cell_type": "markdown",
   "metadata": {},
   "source": [
    "## **Classification-based Collaborative Recommendation system**\n",
    "\n",
    "1. User-user Collaborative filtering\n",
    "2. item - item collaborative filtering\n",
    "\n",
    "So basically the task was to predict future reading behavior.\n",
    "\n",
    "Instead of predicting a continuous read percentage (regression), we can classify whether a user is likely (1) or not likely (0) to read a pratilipi."
   ]
  },
  {
   "cell_type": "markdown",
   "metadata": {},
   "source": [
    "## **Train Test Split**"
   ]
  },
  {
   "cell_type": "code",
   "execution_count": null,
   "metadata": {},
   "outputs": [
    {
     "data": {
      "text/html": [
       "<div>\n",
       "<style scoped>\n",
       "    .dataframe tbody tr th:only-of-type {\n",
       "        vertical-align: middle;\n",
       "    }\n",
       "\n",
       "    .dataframe tbody tr th {\n",
       "        vertical-align: top;\n",
       "    }\n",
       "\n",
       "    .dataframe thead th {\n",
       "        text-align: right;\n",
       "    }\n",
       "</style>\n",
       "<table border=\"1\" class=\"dataframe\">\n",
       "  <thead>\n",
       "    <tr style=\"text-align: right;\">\n",
       "      <th></th>\n",
       "      <th>user_id</th>\n",
       "      <th>pratilipi_id</th>\n",
       "      <th>read_percent</th>\n",
       "      <th>category_name</th>\n",
       "      <th>reading_time</th>\n",
       "    </tr>\n",
       "  </thead>\n",
       "  <tbody>\n",
       "    <tr>\n",
       "      <th>0</th>\n",
       "      <td>5506791961876448</td>\n",
       "      <td>1377786228262109</td>\n",
       "      <td>100.0</td>\n",
       "      <td>romance, family, novels</td>\n",
       "      <td>376</td>\n",
       "    </tr>\n",
       "    <tr>\n",
       "      <th>1</th>\n",
       "      <td>5506791971543560</td>\n",
       "      <td>1377786223038206</td>\n",
       "      <td>40.0</td>\n",
       "      <td>romance, suspense</td>\n",
       "      <td>361</td>\n",
       "    </tr>\n",
       "    <tr>\n",
       "      <th>2</th>\n",
       "      <td>5506791996468218</td>\n",
       "      <td>1377786227025240</td>\n",
       "      <td>100.0</td>\n",
       "      <td>romance</td>\n",
       "      <td>582</td>\n",
       "    </tr>\n",
       "    <tr>\n",
       "      <th>3</th>\n",
       "      <td>5506791978752866</td>\n",
       "      <td>1377786222398208</td>\n",
       "      <td>65.0</td>\n",
       "      <td>romance, action-and-adventure, webseries</td>\n",
       "      <td>1451</td>\n",
       "    </tr>\n",
       "    <tr>\n",
       "      <th>4</th>\n",
       "      <td>5506791978962946</td>\n",
       "      <td>1377786228157051</td>\n",
       "      <td>100.0</td>\n",
       "      <td>romance, swahindi2, suspense</td>\n",
       "      <td>811</td>\n",
       "    </tr>\n",
       "  </tbody>\n",
       "</table>\n",
       "</div>"
      ],
      "text/plain": [
       "            user_id      pratilipi_id  read_percent  \\\n",
       "0  5506791961876448  1377786228262109         100.0   \n",
       "1  5506791971543560  1377786223038206          40.0   \n",
       "2  5506791996468218  1377786227025240         100.0   \n",
       "3  5506791978752866  1377786222398208          65.0   \n",
       "4  5506791978962946  1377786228157051         100.0   \n",
       "\n",
       "                              category_name  reading_time  \n",
       "0                   romance, family, novels           376  \n",
       "1                         romance, suspense           361  \n",
       "2                                   romance           582  \n",
       "3  romance, action-and-adventure, webseries          1451  \n",
       "4              romance, swahindi2, suspense           811  "
      ]
     },
     "execution_count": 445,
     "metadata": {},
     "output_type": "execute_result"
    }
   ],
   "source": [
    "final_df.head()"
   ]
  },
  {
   "cell_type": "code",
   "execution_count": null,
   "metadata": {},
   "outputs": [],
   "source": [
    "# X_train and X_test split\n",
    "X_train, X_test = train_test_split(final_df, test_size=0.25, random_state=42)"
   ]
  },
  {
   "cell_type": "markdown",
   "metadata": {},
   "source": [
    "## **Lets Check the Cold start Issue**"
   ]
  },
  {
   "cell_type": "code",
   "execution_count": null,
   "metadata": {},
   "outputs": [
    {
     "name": "stdout",
     "output_type": "stream",
     "text": [
      "Pratilipi Overlap: 96.72%\n",
      "User Overlap: 93.97%\n"
     ]
    }
   ],
   "source": [
    "pratilipi_overlap = X_test['pratilipi_id'].isin(X_train['pratilipi_id']).mean()\n",
    "user_overlap = X_test['user_id'].isin(X_train['user_id']).mean()\n",
    "\n",
    "print(f\"Pratilipi Overlap: {pratilipi_overlap*100:.2f}%\")\n",
    "print(f\"User Overlap: {user_overlap*100:.2f}%\")\n"
   ]
  },
  {
   "cell_type": "markdown",
   "metadata": {},
   "source": [
    "### **Cold start issue**\n",
    "- like most of the data are present in both train and test set only some of them are not present therefore it will not be a severe issue "
   ]
  },
  {
   "cell_type": "code",
   "execution_count": null,
   "metadata": {},
   "outputs": [
    {
     "name": "stdout",
     "output_type": "stream",
     "text": [
      "Original Test Set Size: 377015\n",
      "Filtered Test Set Size: 342777\n"
     ]
    }
   ],
   "source": [
    "# Identify users and pratilipis present in training data\n",
    "train_users = set(X_train['user_id'])\n",
    "train_pratilipis = set(X_train['pratilipi_id'])\n",
    "\n",
    "# Filter test set to keep only seen users and pratilipis\n",
    "X_test_filtered = X_test[X_test['user_id'].isin(train_users) & X_test['pratilipi_id'].isin(train_pratilipis)]\n",
    "\n",
    "print(f\"Original Test Set Size: {len(X_test)}\")\n",
    "print(f\"Filtered Test Set Size: {len(X_test_filtered)}\")"
   ]
  },
  {
   "cell_type": "code",
   "execution_count": null,
   "metadata": {},
   "outputs": [
    {
     "name": "stdout",
     "output_type": "stream",
     "text": [
      "Pratilipi Overlap: 100.00%\n",
      "User Overlap: 100.00%\n"
     ]
    }
   ],
   "source": [
    "pratilipi_overlap = X_test_filtered['pratilipi_id'].isin(X_train['pratilipi_id']).mean()\n",
    "user_overlap = X_test_filtered['user_id'].isin(X_train['user_id']).mean()\n",
    "\n",
    "print(f\"Pratilipi Overlap: {pratilipi_overlap*100:.2f}%\")\n",
    "print(f\"User Overlap: {user_overlap*100:.2f}%\")"
   ]
  },
  {
   "cell_type": "markdown",
   "metadata": {},
   "source": [
    "### Now lets set a Threshold to classify if a user either reads (1) or not (0)"
   ]
  },
  {
   "cell_type": "code",
   "execution_count": null,
   "metadata": {},
   "outputs": [],
   "source": [
    "X_train['read_label'] = (X_train['read_percent'] >= 60).astype(int)\n",
    "X_test_filtered['read_label'] = (X_test_filtered['read_percent'] >= 60).astype(int)\n",
    "\n",
    "y_train = X_train['read_label']\n",
    "y_test = X_test_filtered['read_label']"
   ]
  },
  {
   "cell_type": "code",
   "execution_count": null,
   "metadata": {},
   "outputs": [
    {
     "data": {
      "text/plain": [
       "read_label\n",
       "1    1043646\n",
       "0      87396\n",
       "Name: count, dtype: int64"
      ]
     },
     "execution_count": 451,
     "metadata": {},
     "output_type": "execute_result"
    }
   ],
   "source": [
    "y_train.value_counts()"
   ]
  },
  {
   "cell_type": "markdown",
   "metadata": {},
   "source": [
    "if i take threshold as 60 the dataset becomes too imbalanced we can use SMOTE for Oversampling the data"
   ]
  },
  {
   "cell_type": "code",
   "execution_count": null,
   "metadata": {},
   "outputs": [],
   "source": [
    "X_train = X_train.drop(columns=['read_percent','read_label'])\n",
    "X_test_filtered = X_test_filtered.drop(columns=['read_percent','read_label'])"
   ]
  },
  {
   "cell_type": "code",
   "execution_count": null,
   "metadata": {},
   "outputs": [
    {
     "data": {
      "text/html": [
       "<div>\n",
       "<style scoped>\n",
       "    .dataframe tbody tr th:only-of-type {\n",
       "        vertical-align: middle;\n",
       "    }\n",
       "\n",
       "    .dataframe tbody tr th {\n",
       "        vertical-align: top;\n",
       "    }\n",
       "\n",
       "    .dataframe thead th {\n",
       "        text-align: right;\n",
       "    }\n",
       "</style>\n",
       "<table border=\"1\" class=\"dataframe\">\n",
       "  <thead>\n",
       "    <tr style=\"text-align: right;\">\n",
       "      <th></th>\n",
       "      <th>user_id</th>\n",
       "      <th>pratilipi_id</th>\n",
       "      <th>category_name</th>\n",
       "      <th>reading_time</th>\n",
       "    </tr>\n",
       "  </thead>\n",
       "  <tbody>\n",
       "    <tr>\n",
       "      <th>1205891</th>\n",
       "      <td>5506791957368478</td>\n",
       "      <td>1377786218912589</td>\n",
       "      <td>romance, action-and-adventure, novels</td>\n",
       "      <td>871</td>\n",
       "    </tr>\n",
       "    <tr>\n",
       "      <th>1378671</th>\n",
       "      <td>5506791964986014</td>\n",
       "      <td>1377786222879127</td>\n",
       "      <td>romance, novels, fantasy</td>\n",
       "      <td>30</td>\n",
       "    </tr>\n",
       "    <tr>\n",
       "      <th>172214</th>\n",
       "      <td>5506791963820766</td>\n",
       "      <td>1377786226874439</td>\n",
       "      <td>romance</td>\n",
       "      <td>804</td>\n",
       "    </tr>\n",
       "    <tr>\n",
       "      <th>1316531</th>\n",
       "      <td>5506791955412219</td>\n",
       "      <td>1377786227282577</td>\n",
       "      <td>romance, family, social</td>\n",
       "      <td>642</td>\n",
       "    </tr>\n",
       "    <tr>\n",
       "      <th>1418645</th>\n",
       "      <td>5506791994425255</td>\n",
       "      <td>1377786219465510</td>\n",
       "      <td>entertainment</td>\n",
       "      <td>365</td>\n",
       "    </tr>\n",
       "  </tbody>\n",
       "</table>\n",
       "</div>"
      ],
      "text/plain": [
       "                  user_id      pratilipi_id  \\\n",
       "1205891  5506791957368478  1377786218912589   \n",
       "1378671  5506791964986014  1377786222879127   \n",
       "172214   5506791963820766  1377786226874439   \n",
       "1316531  5506791955412219  1377786227282577   \n",
       "1418645  5506791994425255  1377786219465510   \n",
       "\n",
       "                                 category_name  reading_time  \n",
       "1205891  romance, action-and-adventure, novels           871  \n",
       "1378671               romance, novels, fantasy            30  \n",
       "172214                                 romance           804  \n",
       "1316531                romance, family, social           642  \n",
       "1418645                          entertainment           365  "
      ]
     },
     "execution_count": 453,
     "metadata": {},
     "output_type": "execute_result"
    }
   ],
   "source": [
    "X_train.head()"
   ]
  },
  {
   "cell_type": "markdown",
   "metadata": {},
   "source": [
    "## **Feature Engineering**\n",
    "\n",
    "- `User_id` and `pratilipi_id` (**Label encoder**)\n",
    "    - because user_id and pratilipi_id may llook like bunch of integers but they are treated as categories.\n",
    "\n",
    "- `Category_name` (**Multi-Label categorical columns**)\n",
    "    - Since category_name contains multiple genres per row (e.g \"romance, fantasy, novels\"), we need multi-hot encoding or TF-IDF encoding.\n",
    "\n",
    "- `reading_time` (**Min_Max Scaling**)\n",
    "    - Since it is a numerical feature,"
   ]
  },
  {
   "cell_type": "markdown",
   "metadata": {},
   "source": [
    "`User_id` and `pratilipi_id`"
   ]
  },
  {
   "cell_type": "code",
   "execution_count": null,
   "metadata": {},
   "outputs": [],
   "source": [
    "from sklearn.preprocessing import LabelEncoder\n",
    "\n",
    "# Encode user_id and pratilipi_id\n",
    "user_encoder = LabelEncoder()\n",
    "pratilipi_encoder = LabelEncoder()\n",
    "\n",
    "X_train['user_id'] = user_encoder.fit_transform(X_train['user_id'])\n",
    "X_train['pratilipi_id'] = pratilipi_encoder.fit_transform(X_train['pratilipi_id'])\n",
    "\n",
    "X_test_filtered['user_id'] = user_encoder.transform(X_test_filtered['user_id'])\n",
    "X_test_filtered['pratilipi_id'] = pratilipi_encoder.transform(X_test_filtered['pratilipi_id'])\n",
    "\n"
   ]
  },
  {
   "cell_type": "markdown",
   "metadata": {},
   "source": [
    "`category_name` "
   ]
  },
  {
   "cell_type": "code",
   "execution_count": null,
   "metadata": {},
   "outputs": [
    {
     "name": "stdout",
     "output_type": "stream",
     "text": [
      "1205891    romance action adventure novels\n",
      "1378671             romance novels fantasy\n",
      "172214                             romance\n",
      "1316531              romance family social\n",
      "1418645                      entertainment\n",
      "Name: category_name, dtype: object\n"
     ]
    }
   ],
   "source": [
    "import re\n",
    "\n",
    "# Convert to lowercase\n",
    "X_train['category_name'] = X_train['category_name'].str.lower()\n",
    "X_test_filtered['category_name'] = X_test_filtered['category_name'].str.lower()\n",
    "\n",
    "# Remove 'and' from category names\n",
    "X_train['category_name'] = X_train['category_name'].str.replace(r'\\band\\b', '', regex=True)\n",
    "X_test_filtered['category_name'] = X_test_filtered['category_name'].str.replace(r'\\band\\b', '', regex=True)\n",
    "\n",
    "# Replace special characters (like \"-\") with spaces before removing others\n",
    "X_train['category_name'] = X_train['category_name'].apply(lambda x: re.sub(r'[-]', ' ', x))\n",
    "X_test_filtered['category_name'] = X_test_filtered['category_name'].apply(lambda x: re.sub(r'[-]', ' ', x))\n",
    "\n",
    "# Remove remaining special characters (except spaces)\n",
    "X_train['category_name'] = X_train['category_name'].apply(lambda x: re.sub(r'[^a-zA-Z\\s]', '', x))\n",
    "X_test_filtered['category_name'] = X_test_filtered['category_name'].apply(lambda x: re.sub(r'[^a-zA-Z\\s]', '', x))\n",
    "\n",
    "# Replace multiple spaces with a single space and trim spaces\n",
    "X_train['category_name'] = X_train['category_name'].apply(lambda x: re.sub(r'\\s+', ' ', x).strip())\n",
    "X_test_filtered['category_name'] = X_test_filtered['category_name'].apply(lambda x: re.sub(r'\\s+', ' ', x).strip())\n",
    "\n",
    "# Verify cleaned category names\n",
    "print(X_train['category_name'].head())\n"
   ]
  },
  {
   "cell_type": "code",
   "execution_count": null,
   "metadata": {},
   "outputs": [],
   "source": [
    "from sklearn.feature_extraction.text import CountVectorizer\n",
    "\n",
    "# Convert list of categories to a string format\n",
    "X_train['category_str'] = X_train['category_name'].apply(lambda x: ' '.join(x.split(', ')))\n",
    "X_test_filtered['category_str'] = X_test_filtered['category_name'].apply(lambda x: ' '.join(x.split(', ')))\n",
    "\n",
    "# Apply CountVectorizer for one-hot encoding\n",
    "vectorizer = CountVectorizer()\n",
    "category_train_encoded = vectorizer.fit_transform(X_train['category_str']).toarray()\n",
    "category_test_encoded = vectorizer.transform(X_test_filtered['category_str']).toarray()\n",
    "\n",
    "# Convert to DataFrame\n",
    "category_train_df = pd.DataFrame(category_train_encoded, columns=vectorizer.get_feature_names_out())\n",
    "category_test_df = pd.DataFrame(category_test_encoded, columns=vectorizer.get_feature_names_out())\n",
    "\n",
    "# Concatenate the encoded categories back\n",
    "X_train = X_train.reset_index(drop=True)\n",
    "X_test_filtered = X_test_filtered.reset_index(drop=True)\n",
    "\n",
    "X_train = pd.concat([X_train, category_train_df], axis=1)\n",
    "X_test_filtered = pd.concat([X_test_filtered, category_test_df], axis=1)\n",
    "\n",
    "# Drop original category_name and category_str columns\n",
    "X_train.drop(columns=['category_name', 'category_str'], inplace=True)\n",
    "X_test_filtered.drop(columns=['category_name', 'category_str'], inplace=True)\n"
   ]
  },
  {
   "cell_type": "code",
   "execution_count": null,
   "metadata": {},
   "outputs": [
    {
     "data": {
      "text/html": [
       "<div>\n",
       "<style scoped>\n",
       "    .dataframe tbody tr th:only-of-type {\n",
       "        vertical-align: middle;\n",
       "    }\n",
       "\n",
       "    .dataframe tbody tr th {\n",
       "        vertical-align: top;\n",
       "    }\n",
       "\n",
       "    .dataframe thead th {\n",
       "        text-align: right;\n",
       "    }\n",
       "</style>\n",
       "<table border=\"1\" class=\"dataframe\">\n",
       "  <thead>\n",
       "    <tr style=\"text-align: right;\">\n",
       "      <th></th>\n",
       "      <th>user_id</th>\n",
       "      <th>pratilipi_id</th>\n",
       "      <th>reading_time</th>\n",
       "      <th>action</th>\n",
       "      <th>adventure</th>\n",
       "      <th>awards</th>\n",
       "      <th>challenge</th>\n",
       "      <th>chat</th>\n",
       "      <th>children</th>\n",
       "      <th>comedy</th>\n",
       "      <th>...</th>\n",
       "      <th>social</th>\n",
       "      <th>spiritual</th>\n",
       "      <th>story</th>\n",
       "      <th>suspense</th>\n",
       "      <th>swahindi</th>\n",
       "      <th>the</th>\n",
       "      <th>translation</th>\n",
       "      <th>webseries</th>\n",
       "      <th>wellness</th>\n",
       "      <th>women</th>\n",
       "    </tr>\n",
       "  </thead>\n",
       "  <tbody>\n",
       "    <tr>\n",
       "      <th>0</th>\n",
       "      <td>41196</td>\n",
       "      <td>22716</td>\n",
       "      <td>871</td>\n",
       "      <td>1</td>\n",
       "      <td>1</td>\n",
       "      <td>0</td>\n",
       "      <td>0</td>\n",
       "      <td>0</td>\n",
       "      <td>0</td>\n",
       "      <td>0</td>\n",
       "      <td>...</td>\n",
       "      <td>0</td>\n",
       "      <td>0</td>\n",
       "      <td>0</td>\n",
       "      <td>0</td>\n",
       "      <td>0</td>\n",
       "      <td>0</td>\n",
       "      <td>0</td>\n",
       "      <td>0</td>\n",
       "      <td>0</td>\n",
       "      <td>0</td>\n",
       "    </tr>\n",
       "    <tr>\n",
       "      <th>1</th>\n",
       "      <td>73897</td>\n",
       "      <td>54549</td>\n",
       "      <td>30</td>\n",
       "      <td>0</td>\n",
       "      <td>0</td>\n",
       "      <td>0</td>\n",
       "      <td>0</td>\n",
       "      <td>0</td>\n",
       "      <td>0</td>\n",
       "      <td>0</td>\n",
       "      <td>...</td>\n",
       "      <td>0</td>\n",
       "      <td>0</td>\n",
       "      <td>0</td>\n",
       "      <td>0</td>\n",
       "      <td>0</td>\n",
       "      <td>0</td>\n",
       "      <td>0</td>\n",
       "      <td>0</td>\n",
       "      <td>0</td>\n",
       "      <td>0</td>\n",
       "    </tr>\n",
       "    <tr>\n",
       "      <th>2</th>\n",
       "      <td>65409</td>\n",
       "      <td>101315</td>\n",
       "      <td>804</td>\n",
       "      <td>0</td>\n",
       "      <td>0</td>\n",
       "      <td>0</td>\n",
       "      <td>0</td>\n",
       "      <td>0</td>\n",
       "      <td>0</td>\n",
       "      <td>0</td>\n",
       "      <td>...</td>\n",
       "      <td>0</td>\n",
       "      <td>0</td>\n",
       "      <td>0</td>\n",
       "      <td>0</td>\n",
       "      <td>0</td>\n",
       "      <td>0</td>\n",
       "      <td>0</td>\n",
       "      <td>0</td>\n",
       "      <td>0</td>\n",
       "      <td>0</td>\n",
       "    </tr>\n",
       "    <tr>\n",
       "      <th>3</th>\n",
       "      <td>34416</td>\n",
       "      <td>106469</td>\n",
       "      <td>642</td>\n",
       "      <td>0</td>\n",
       "      <td>0</td>\n",
       "      <td>0</td>\n",
       "      <td>0</td>\n",
       "      <td>0</td>\n",
       "      <td>0</td>\n",
       "      <td>0</td>\n",
       "      <td>...</td>\n",
       "      <td>1</td>\n",
       "      <td>0</td>\n",
       "      <td>0</td>\n",
       "      <td>0</td>\n",
       "      <td>0</td>\n",
       "      <td>0</td>\n",
       "      <td>0</td>\n",
       "      <td>0</td>\n",
       "      <td>0</td>\n",
       "      <td>0</td>\n",
       "    </tr>\n",
       "    <tr>\n",
       "      <th>4</th>\n",
       "      <td>165446</td>\n",
       "      <td>25884</td>\n",
       "      <td>365</td>\n",
       "      <td>0</td>\n",
       "      <td>0</td>\n",
       "      <td>0</td>\n",
       "      <td>0</td>\n",
       "      <td>0</td>\n",
       "      <td>0</td>\n",
       "      <td>0</td>\n",
       "      <td>...</td>\n",
       "      <td>0</td>\n",
       "      <td>0</td>\n",
       "      <td>0</td>\n",
       "      <td>0</td>\n",
       "      <td>0</td>\n",
       "      <td>0</td>\n",
       "      <td>0</td>\n",
       "      <td>0</td>\n",
       "      <td>0</td>\n",
       "      <td>0</td>\n",
       "    </tr>\n",
       "  </tbody>\n",
       "</table>\n",
       "<p>5 rows × 63 columns</p>\n",
       "</div>"
      ],
      "text/plain": [
       "   user_id  pratilipi_id  reading_time  action  adventure  awards  challenge  \\\n",
       "0    41196         22716           871       1          1       0          0   \n",
       "1    73897         54549            30       0          0       0          0   \n",
       "2    65409        101315           804       0          0       0          0   \n",
       "3    34416        106469           642       0          0       0          0   \n",
       "4   165446         25884           365       0          0       0          0   \n",
       "\n",
       "   chat  children  comedy  ...  social  spiritual  story  suspense  swahindi  \\\n",
       "0     0         0       0  ...       0          0      0         0         0   \n",
       "1     0         0       0  ...       0          0      0         0         0   \n",
       "2     0         0       0  ...       0          0      0         0         0   \n",
       "3     0         0       0  ...       1          0      0         0         0   \n",
       "4     0         0       0  ...       0          0      0         0         0   \n",
       "\n",
       "   the  translation  webseries  wellness  women  \n",
       "0    0            0          0         0      0  \n",
       "1    0            0          0         0      0  \n",
       "2    0            0          0         0      0  \n",
       "3    0            0          0         0      0  \n",
       "4    0            0          0         0      0  \n",
       "\n",
       "[5 rows x 63 columns]"
      ]
     },
     "execution_count": 457,
     "metadata": {},
     "output_type": "execute_result"
    }
   ],
   "source": [
    "X_train.head()"
   ]
  },
  {
   "cell_type": "markdown",
   "metadata": {},
   "source": [
    "`reading_time` scaling  with minmaxscaler"
   ]
  },
  {
   "cell_type": "code",
   "execution_count": null,
   "metadata": {},
   "outputs": [],
   "source": [
    "from sklearn.preprocessing import MinMaxScaler\n",
    "\n",
    "scaler = MinMaxScaler()\n",
    "\n",
    "X_train['reading_time'] = scaler.fit_transform(X_train[['reading_time']])\n",
    "X_test_filtered['reading_time'] = scaler.transform(X_test_filtered[['reading_time']])"
   ]
  },
  {
   "cell_type": "markdown",
   "metadata": {},
   "source": [
    "### **Apply SMOTE (Over sampling) and RandomUnderSampler (Under sampling) to handle Imbalance**"
   ]
  },
  {
   "cell_type": "code",
   "execution_count": null,
   "metadata": {},
   "outputs": [
    {
     "name": "stdout",
     "output_type": "stream",
     "text": [
      "Before Balancing: read_label\n",
      "1    1043646\n",
      "0      87396\n",
      "Name: count, dtype: int64\n",
      "After OverSampling: read_label\n",
      "1    1043646\n",
      "0     521823\n",
      "Name: count, dtype: int64\n",
      "After UnderSampling: read_label\n",
      "0    521823\n",
      "1    521823\n",
      "Name: count, dtype: int64\n"
     ]
    }
   ],
   "source": [
    "from imblearn.over_sampling import SMOTE\n",
    "from imblearn.under_sampling import RandomUnderSampler\n",
    "\n",
    "\n",
    "# Applying SMOTE for Oversampling the minority class\n",
    "smote = SMOTE(sampling_strategy=0.5, random_state=42)  # Minority class will be 50% of majority class\n",
    "X_over, y_over = smote.fit_resample(X_train, y_train)\n",
    "\n",
    "# Applying Random UnderSampling to reduce the majority class\n",
    "under = RandomUnderSampler(sampling_strategy=1, random_state=42)  # Majority class reduced to 80% of its original\n",
    "X_train_balanced, y_train_balanced = under.fit_resample(X_over, y_over)\n",
    "\n",
    "# Check the new class distribution\n",
    "print(\"Before Balancing:\", y_train.value_counts())\n",
    "print(\"After OverSampling:\", y_over.value_counts())\n",
    "print(\"After UnderSampling:\", y_train_balanced.value_counts())"
   ]
  },
  {
   "cell_type": "markdown",
   "metadata": {},
   "source": [
    "Removing `user_id` and `pratilipi_id` as it doesnt have any impact on the model."
   ]
  },
  {
   "cell_type": "code",
   "execution_count": null,
   "metadata": {},
   "outputs": [],
   "source": [
    "X_train_balanced = X_train_balanced.drop(columns = ['user_id','pratilipi_id'])\n",
    "X_test_filtered = X_test_filtered.drop(columns=['user_id','pratilipi_id'])"
   ]
  },
  {
   "cell_type": "markdown",
   "metadata": {},
   "source": [
    "### **Model Training**\n",
    "\n",
    "- We will make a model training pipeline to effeciently train our model\n"
   ]
  },
  {
   "cell_type": "code",
   "execution_count": null,
   "metadata": {},
   "outputs": [],
   "source": [
    "from sklearn.metrics import accuracy_score, classification_report, confusion_matrix, roc_auc_score\n",
    "\n",
    "## Creating a function that will evaluate model\n",
    "def evaluate_model(y_true, y_pred):\n",
    "    acc = accuracy_score(y_true, y_pred)\n",
    "    report = classification_report(y_true, y_pred)\n",
    "    cm = confusion_matrix(y_true, y_pred)\n",
    "    roc_auc = roc_auc_score(y_true, y_pred)\n",
    "    return acc, report, cm, roc_auc"
   ]
  },
  {
   "cell_type": "code",
   "execution_count": null,
   "metadata": {},
   "outputs": [
    {
     "name": "stdout",
     "output_type": "stream",
     "text": [
      "Logistic Regression\n",
      "Model Performance for Training Set\n",
      "- ROC_AUC score: 0.7963495284799635\n",
      "- Accuracy score: 0.7963495284799635\n",
      "- Classification Report:               precision    recall  f1-score   support\n",
      "\n",
      "           0       0.79      0.80      0.80    521823\n",
      "           1       0.80      0.79      0.79    521823\n",
      "\n",
      "    accuracy                           0.80   1043646\n",
      "   macro avg       0.80      0.80      0.80   1043646\n",
      "weighted avg       0.80      0.80      0.80   1043646\n",
      "\n",
      "- Confusion matrix: [[419047 102776]\n",
      " [109763 412060]]\n",
      "------------------------------------------------------------------------\n",
      "Model Performance for Testing Set\n",
      "- ROC_AUC score: 0.52485057059539\n",
      "- Accuracy score: 0.7643015721591588\n",
      "- Classification Report:               precision    recall  f1-score   support\n",
      "\n",
      "           0       0.08      0.25      0.12     23046\n",
      "           1       0.94      0.80      0.86    319731\n",
      "\n",
      "    accuracy                           0.76    342777\n",
      "   macro avg       0.51      0.52      0.49    342777\n",
      "weighted avg       0.88      0.76      0.81    342777\n",
      "\n",
      "- Confusion Matrix: [[  5720  17326]\n",
      " [ 63466 256265]]\n",
      "==================================================\n",
      "\n",
      "\n",
      "XGB Classifier\n",
      "Model Performance for Training Set\n",
      "- ROC_AUC score: 0.767621396527175\n",
      "- Accuracy score: 0.7676213965271749\n",
      "- Classification Report:               precision    recall  f1-score   support\n",
      "\n",
      "           0       0.79      0.73      0.76    521823\n",
      "           1       0.75      0.80      0.78    521823\n",
      "\n",
      "    accuracy                           0.77   1043646\n",
      "   macro avg       0.77      0.77      0.77   1043646\n",
      "weighted avg       0.77      0.77      0.77   1043646\n",
      "\n",
      "- Confusion matrix: [[382940 138883]\n",
      " [103638 418185]]\n",
      "------------------------------------------------------------------------\n",
      "Model Performance for Testing Set\n",
      "- ROC_AUC score: 0.5396936158349026\n",
      "- Accuracy score: 0.7802740557271929\n",
      "- Classification Report:               precision    recall  f1-score   support\n",
      "\n",
      "           0       0.09      0.26      0.14     23046\n",
      "           1       0.94      0.82      0.87    319731\n",
      "\n",
      "    accuracy                           0.78    342777\n",
      "   macro avg       0.52      0.54      0.51    342777\n",
      "weighted avg       0.88      0.78      0.82    342777\n",
      "\n",
      "- Confusion Matrix: [[  6032  17014]\n",
      " [ 58303 261428]]\n",
      "==================================================\n",
      "\n",
      "\n"
     ]
    }
   ],
   "source": [
    "from sklearn.linear_model import LogisticRegression\n",
    "from xgboost import XGBClassifier\n",
    "\n",
    "# Utilising different models to see their base scores.\n",
    "models = {\n",
    "    'Logistic Regression': LogisticRegression(),\n",
    "    'XGB Classifier': XGBClassifier(objective= 'reg:logistic',learning_rate= 0.01, gamma=0)\n",
    "    }\n",
    "\n",
    "model_list = []\n",
    "acc_list = []\n",
    "\n",
    "for i in range(len(list(models))):\n",
    "    model = list(models.values())[i]\n",
    "    model.fit(X_train_balanced, y_train_balanced) # Train Model\n",
    "\n",
    "    # Make Predictions\n",
    "    y_train_pred = model.predict(X_train_balanced)\n",
    "    y_test_pred = model.predict(X_test_filtered)\n",
    "\n",
    "     #Evaluate Train and Test Dataset (evaluating with both train and test dependent variables are important to check if the model is overfitting or not.)\n",
    "    model_train_acc_score, model_train_classification, model_train_confusion, model_train_roc_auc = evaluate_model(y_train_balanced, y_train_pred)\n",
    "\n",
    "    model_test_acc_score, model_test_classification, model_test_confusion, model_test_roc_auc = evaluate_model(y_test, y_test_pred)\n",
    "\n",
    "    print(list(models.keys())[i])\n",
    "    model_list.append(list(models.keys())[i])\n",
    "    \n",
    "\n",
    "    print(\"Model Performance for Training Set\")\n",
    "    print(f'- ROC_AUC score: {model_train_roc_auc}')\n",
    "    print(f'- Accuracy score: {model_train_acc_score}')\n",
    "    print(f'- Classification Report: {model_train_classification}')\n",
    "    print(f'- Confusion matrix: {model_train_confusion}')\n",
    "\n",
    "    print('------------------------------------------------------------------------')\n",
    "\n",
    "    print(\"Model Performance for Testing Set\")\n",
    "    print(f'- ROC_AUC score: {model_test_roc_auc}')\n",
    "    print(f'- Accuracy score: {model_test_acc_score}')\n",
    "    print(f'- Classification Report: {model_test_classification}')\n",
    "    print(f'- Confusion Matrix: {model_test_confusion}')\n",
    "\n",
    "    acc_list.append(model_test_acc_score)\n",
    "\n",
    "    print('='*50)\n",
    "    print('\\n')\n"
   ]
  },
  {
   "cell_type": "markdown",
   "metadata": {},
   "source": [
    "## **Insights**\n",
    "\n",
    "1. **Train set Performance**:\n",
    "    - Logistic Regression ROC-AUC: 0.796 (Good)\n",
    "    - XGBoost ROC-AUC: 0.767 (Slightly lower but still reasonable)\n",
    "    - Both models  have balanced precision, recall, and f1-scores due to SMOTE.\n",
    "\n",
    "2. **Test set Performance**:\n",
    "    - Logistic Regression ROC-AUC: 0.524 (Low)\n",
    "    - XGBoost ROC-AUC: 0.539 (Slightly better)\n",
    "    - Poor precision for class 0 (users who don't read). The model still favors \"1\" due to oversampling effects."
   ]
  },
  {
   "cell_type": "markdown",
   "metadata": {},
   "source": [
    "## **Neural Collaborative Filtering**"
   ]
  },
  {
   "cell_type": "code",
   "execution_count": null,
   "metadata": {},
   "outputs": [],
   "source": [
    "# X_train and X_test split\n",
    "train_df, test_df = train_test_split(final_df, test_size=0.25, random_state=42)"
   ]
  },
  {
   "cell_type": "markdown",
   "metadata": {},
   "source": [
    "### **Treating Cold start Issues**"
   ]
  },
  {
   "cell_type": "code",
   "execution_count": null,
   "metadata": {},
   "outputs": [
    {
     "name": "stdout",
     "output_type": "stream",
     "text": [
      "Original Test Set Size: 377015\n",
      "Filtered Test Set Size: 342777\n"
     ]
    }
   ],
   "source": [
    "# Identify users and pratilipis present in training data\n",
    "train_users = set(train_df['user_id'])\n",
    "train_pratilipis = set(train_df['pratilipi_id'])\n",
    "\n",
    "# Filter test set to keep only seen users and pratilipis\n",
    "test_filtered = test_df[test_df['user_id'].isin(train_users) & X_test['pratilipi_id'].isin(train_pratilipis)]\n",
    "\n",
    "print(f\"Original Test Set Size: {len(test_df)}\")\n",
    "print(f\"Filtered Test Set Size: {len(test_filtered)}\")"
   ]
  },
  {
   "cell_type": "markdown",
   "metadata": {},
   "source": [
    "### **Setting up a threshold wether if a user reads or not**"
   ]
  },
  {
   "cell_type": "code",
   "execution_count": null,
   "metadata": {},
   "outputs": [],
   "source": [
    "train_df['read_label'] = (train_df['read_percent'] > 60).astype(int)\n",
    "test_filtered['read_label'] = (test_filtered['read_percent'] > 60).astype(int)\n",
    "\n",
    "train_y = train_df['read_label']\n",
    "test_y = test_filtered['read_label']\n",
    "\n",
    "# Dropping the read_percent columns and the read_label columns\n",
    "train_df = train_df.drop(columns=['read_percent','read_label'])\n",
    "test_filtered = test_filtered.drop(columns=['read_percent','read_label'])"
   ]
  },
  {
   "cell_type": "code",
   "execution_count": null,
   "metadata": {},
   "outputs": [
    {
     "data": {
      "text/html": [
       "<div>\n",
       "<style scoped>\n",
       "    .dataframe tbody tr th:only-of-type {\n",
       "        vertical-align: middle;\n",
       "    }\n",
       "\n",
       "    .dataframe tbody tr th {\n",
       "        vertical-align: top;\n",
       "    }\n",
       "\n",
       "    .dataframe thead th {\n",
       "        text-align: right;\n",
       "    }\n",
       "</style>\n",
       "<table border=\"1\" class=\"dataframe\">\n",
       "  <thead>\n",
       "    <tr style=\"text-align: right;\">\n",
       "      <th></th>\n",
       "      <th>user_id</th>\n",
       "      <th>pratilipi_id</th>\n",
       "      <th>category_name</th>\n",
       "      <th>reading_time</th>\n",
       "    </tr>\n",
       "  </thead>\n",
       "  <tbody>\n",
       "    <tr>\n",
       "      <th>1205891</th>\n",
       "      <td>5506791957368478</td>\n",
       "      <td>1377786218912589</td>\n",
       "      <td>romance, action-and-adventure, novels</td>\n",
       "      <td>871</td>\n",
       "    </tr>\n",
       "    <tr>\n",
       "      <th>1378671</th>\n",
       "      <td>5506791964986014</td>\n",
       "      <td>1377786222879127</td>\n",
       "      <td>romance, novels, fantasy</td>\n",
       "      <td>30</td>\n",
       "    </tr>\n",
       "    <tr>\n",
       "      <th>172214</th>\n",
       "      <td>5506791963820766</td>\n",
       "      <td>1377786226874439</td>\n",
       "      <td>romance</td>\n",
       "      <td>804</td>\n",
       "    </tr>\n",
       "    <tr>\n",
       "      <th>1316531</th>\n",
       "      <td>5506791955412219</td>\n",
       "      <td>1377786227282577</td>\n",
       "      <td>romance, family, social</td>\n",
       "      <td>642</td>\n",
       "    </tr>\n",
       "    <tr>\n",
       "      <th>1418645</th>\n",
       "      <td>5506791994425255</td>\n",
       "      <td>1377786219465510</td>\n",
       "      <td>entertainment</td>\n",
       "      <td>365</td>\n",
       "    </tr>\n",
       "  </tbody>\n",
       "</table>\n",
       "</div>"
      ],
      "text/plain": [
       "                  user_id      pratilipi_id  \\\n",
       "1205891  5506791957368478  1377786218912589   \n",
       "1378671  5506791964986014  1377786222879127   \n",
       "172214   5506791963820766  1377786226874439   \n",
       "1316531  5506791955412219  1377786227282577   \n",
       "1418645  5506791994425255  1377786219465510   \n",
       "\n",
       "                                 category_name  reading_time  \n",
       "1205891  romance, action-and-adventure, novels           871  \n",
       "1378671               romance, novels, fantasy            30  \n",
       "172214                                 romance           804  \n",
       "1316531                romance, family, social           642  \n",
       "1418645                          entertainment           365  "
      ]
     },
     "execution_count": 466,
     "metadata": {},
     "output_type": "execute_result"
    }
   ],
   "source": [
    "train_df.head()"
   ]
  },
  {
   "cell_type": "markdown",
   "metadata": {},
   "source": [
    "### **SMOTE is not required**\n",
    "- NCF is trained on interactions between users and pratilipis (user-item interactions), not on an imbalanced classification problem.\n",
    "\n",
    "- we can adjust class weights in the loss function."
   ]
  },
  {
   "cell_type": "markdown",
   "metadata": {},
   "source": [
    "## Embeddings before model Training"
   ]
  },
  {
   "cell_type": "code",
   "execution_count": null,
   "metadata": {},
   "outputs": [
    {
     "name": "stdout",
     "output_type": "stream",
     "text": [
      "Unique Users: 191036, Unique Pratilipis: 124633,\n"
     ]
    }
   ],
   "source": [
    "from sklearn.preprocessing import LabelEncoder\n",
    "\n",
    "# Initialize LabelEncoders\n",
    "user_encoder = LabelEncoder()\n",
    "pratilipi_encoder = LabelEncoder()\n",
    "\n",
    "\n",
    "# Fit & transform user IDs, pratilipi IDs, and category names\n",
    "train_df[\"user_idx\"] = user_encoder.fit_transform(train_df[\"user_id\"])\n",
    "train_df[\"pratilipi_idx\"] = pratilipi_encoder.fit_transform(train_df[\"pratilipi_id\"])\n",
    "\n",
    "\n",
    "test_filtered[\"user_idx\"] = user_encoder.transform(test_filtered[\"user_id\"])\n",
    "test_filtered[\"pratilipi_idx\"] = pratilipi_encoder.transform(test_filtered[\"pratilipi_id\"])\n",
    "\n",
    "\n",
    "# Get number of unique values for embeddings\n",
    "num_users = len(user_encoder.classes_)\n",
    "num_pratilipis = len(pratilipi_encoder.classes_)\n",
    "\n",
    "\n",
    "print(f\"Unique Users: {num_users}, Unique Pratilipis: {num_pratilipis},\")\n"
   ]
  },
  {
   "cell_type": "code",
   "execution_count": null,
   "metadata": {},
   "outputs": [
    {
     "data": {
      "text/html": [
       "<pre style=\"white-space:pre;overflow-x:auto;line-height:normal;font-family:Menlo,'DejaVu Sans Mono',consolas,'Courier New',monospace\"><span style=\"font-weight: bold\">Model: \"functional_8\"</span>\n",
       "</pre>\n"
      ],
      "text/plain": [
       "\u001b[1mModel: \"functional_8\"\u001b[0m\n"
      ]
     },
     "metadata": {},
     "output_type": "display_data"
    },
    {
     "data": {
      "text/html": [
       "<pre style=\"white-space:pre;overflow-x:auto;line-height:normal;font-family:Menlo,'DejaVu Sans Mono',consolas,'Courier New',monospace\">┏━━━━━━━━━━━━━━━━━━━━━┳━━━━━━━━━━━━━━━━━━━┳━━━━━━━━━━━━┳━━━━━━━━━━━━━━━━━━━┓\n",
       "┃<span style=\"font-weight: bold\"> Layer (type)        </span>┃<span style=\"font-weight: bold\"> Output Shape      </span>┃<span style=\"font-weight: bold\">    Param # </span>┃<span style=\"font-weight: bold\"> Connected to      </span>┃\n",
       "┡━━━━━━━━━━━━━━━━━━━━━╇━━━━━━━━━━━━━━━━━━━╇━━━━━━━━━━━━╇━━━━━━━━━━━━━━━━━━━┩\n",
       "│ user_input          │ (<span style=\"color: #00d7ff; text-decoration-color: #00d7ff\">None</span>, <span style=\"color: #00af00; text-decoration-color: #00af00\">1</span>)         │          <span style=\"color: #00af00; text-decoration-color: #00af00\">0</span> │ -                 │\n",
       "│ (<span style=\"color: #0087ff; text-decoration-color: #0087ff\">InputLayer</span>)        │                   │            │                   │\n",
       "├─────────────────────┼───────────────────┼────────────┼───────────────────┤\n",
       "│ pratilipi_input     │ (<span style=\"color: #00d7ff; text-decoration-color: #00d7ff\">None</span>, <span style=\"color: #00af00; text-decoration-color: #00af00\">1</span>)         │          <span style=\"color: #00af00; text-decoration-color: #00af00\">0</span> │ -                 │\n",
       "│ (<span style=\"color: #0087ff; text-decoration-color: #0087ff\">InputLayer</span>)        │                   │            │                   │\n",
       "├─────────────────────┼───────────────────┼────────────┼───────────────────┤\n",
       "│ user_embedding      │ (<span style=\"color: #00d7ff; text-decoration-color: #00d7ff\">None</span>, <span style=\"color: #00af00; text-decoration-color: #00af00\">1</span>, <span style=\"color: #00af00; text-decoration-color: #00af00\">32</span>)     │  <span style=\"color: #00af00; text-decoration-color: #00af00\">6,113,152</span> │ user_input[<span style=\"color: #00af00; text-decoration-color: #00af00\">0</span>][<span style=\"color: #00af00; text-decoration-color: #00af00\">0</span>]  │\n",
       "│ (<span style=\"color: #0087ff; text-decoration-color: #0087ff\">Embedding</span>)         │                   │            │                   │\n",
       "├─────────────────────┼───────────────────┼────────────┼───────────────────┤\n",
       "│ pratilipi_embedding │ (<span style=\"color: #00d7ff; text-decoration-color: #00d7ff\">None</span>, <span style=\"color: #00af00; text-decoration-color: #00af00\">1</span>, <span style=\"color: #00af00; text-decoration-color: #00af00\">32</span>)     │  <span style=\"color: #00af00; text-decoration-color: #00af00\">3,988,256</span> │ pratilipi_input[<span style=\"color: #00af00; text-decoration-color: #00af00\">…</span> │\n",
       "│ (<span style=\"color: #0087ff; text-decoration-color: #0087ff\">Embedding</span>)         │                   │            │                   │\n",
       "├─────────────────────┼───────────────────┼────────────┼───────────────────┤\n",
       "│ flatten_22          │ (<span style=\"color: #00d7ff; text-decoration-color: #00d7ff\">None</span>, <span style=\"color: #00af00; text-decoration-color: #00af00\">32</span>)        │          <span style=\"color: #00af00; text-decoration-color: #00af00\">0</span> │ user_embedding[<span style=\"color: #00af00; text-decoration-color: #00af00\">0</span>… │\n",
       "│ (<span style=\"color: #0087ff; text-decoration-color: #0087ff\">Flatten</span>)           │                   │            │                   │\n",
       "├─────────────────────┼───────────────────┼────────────┼───────────────────┤\n",
       "│ flatten_23          │ (<span style=\"color: #00d7ff; text-decoration-color: #00d7ff\">None</span>, <span style=\"color: #00af00; text-decoration-color: #00af00\">32</span>)        │          <span style=\"color: #00af00; text-decoration-color: #00af00\">0</span> │ pratilipi_embedd… │\n",
       "│ (<span style=\"color: #0087ff; text-decoration-color: #0087ff\">Flatten</span>)           │                   │            │                   │\n",
       "├─────────────────────┼───────────────────┼────────────┼───────────────────┤\n",
       "│ concatenate_8       │ (<span style=\"color: #00d7ff; text-decoration-color: #00d7ff\">None</span>, <span style=\"color: #00af00; text-decoration-color: #00af00\">64</span>)        │          <span style=\"color: #00af00; text-decoration-color: #00af00\">0</span> │ flatten_22[<span style=\"color: #00af00; text-decoration-color: #00af00\">0</span>][<span style=\"color: #00af00; text-decoration-color: #00af00\">0</span>], │\n",
       "│ (<span style=\"color: #0087ff; text-decoration-color: #0087ff\">Concatenate</span>)       │                   │            │ flatten_23[<span style=\"color: #00af00; text-decoration-color: #00af00\">0</span>][<span style=\"color: #00af00; text-decoration-color: #00af00\">0</span>]  │\n",
       "├─────────────────────┼───────────────────┼────────────┼───────────────────┤\n",
       "│ dense_39 (<span style=\"color: #0087ff; text-decoration-color: #0087ff\">Dense</span>)    │ (<span style=\"color: #00d7ff; text-decoration-color: #00d7ff\">None</span>, <span style=\"color: #00af00; text-decoration-color: #00af00\">64</span>)        │      <span style=\"color: #00af00; text-decoration-color: #00af00\">4,160</span> │ concatenate_8[<span style=\"color: #00af00; text-decoration-color: #00af00\">0</span>]… │\n",
       "├─────────────────────┼───────────────────┼────────────┼───────────────────┤\n",
       "│ dropout_16          │ (<span style=\"color: #00d7ff; text-decoration-color: #00d7ff\">None</span>, <span style=\"color: #00af00; text-decoration-color: #00af00\">64</span>)        │          <span style=\"color: #00af00; text-decoration-color: #00af00\">0</span> │ dense_39[<span style=\"color: #00af00; text-decoration-color: #00af00\">0</span>][<span style=\"color: #00af00; text-decoration-color: #00af00\">0</span>]    │\n",
       "│ (<span style=\"color: #0087ff; text-decoration-color: #0087ff\">Dropout</span>)           │                   │            │                   │\n",
       "├─────────────────────┼───────────────────┼────────────┼───────────────────┤\n",
       "│ dense_40 (<span style=\"color: #0087ff; text-decoration-color: #0087ff\">Dense</span>)    │ (<span style=\"color: #00d7ff; text-decoration-color: #00d7ff\">None</span>, <span style=\"color: #00af00; text-decoration-color: #00af00\">128</span>)       │      <span style=\"color: #00af00; text-decoration-color: #00af00\">8,320</span> │ dropout_16[<span style=\"color: #00af00; text-decoration-color: #00af00\">0</span>][<span style=\"color: #00af00; text-decoration-color: #00af00\">0</span>]  │\n",
       "├─────────────────────┼───────────────────┼────────────┼───────────────────┤\n",
       "│ dropout_17          │ (<span style=\"color: #00d7ff; text-decoration-color: #00d7ff\">None</span>, <span style=\"color: #00af00; text-decoration-color: #00af00\">128</span>)       │          <span style=\"color: #00af00; text-decoration-color: #00af00\">0</span> │ dense_40[<span style=\"color: #00af00; text-decoration-color: #00af00\">0</span>][<span style=\"color: #00af00; text-decoration-color: #00af00\">0</span>]    │\n",
       "│ (<span style=\"color: #0087ff; text-decoration-color: #0087ff\">Dropout</span>)           │                   │            │                   │\n",
       "├─────────────────────┼───────────────────┼────────────┼───────────────────┤\n",
       "│ dense_41 (<span style=\"color: #0087ff; text-decoration-color: #0087ff\">Dense</span>)    │ (<span style=\"color: #00d7ff; text-decoration-color: #00d7ff\">None</span>, <span style=\"color: #00af00; text-decoration-color: #00af00\">64</span>)        │      <span style=\"color: #00af00; text-decoration-color: #00af00\">8,256</span> │ dropout_17[<span style=\"color: #00af00; text-decoration-color: #00af00\">0</span>][<span style=\"color: #00af00; text-decoration-color: #00af00\">0</span>]  │\n",
       "├─────────────────────┼───────────────────┼────────────┼───────────────────┤\n",
       "│ dense_42 (<span style=\"color: #0087ff; text-decoration-color: #0087ff\">Dense</span>)    │ (<span style=\"color: #00d7ff; text-decoration-color: #00d7ff\">None</span>, <span style=\"color: #00af00; text-decoration-color: #00af00\">32</span>)        │      <span style=\"color: #00af00; text-decoration-color: #00af00\">2,080</span> │ dense_41[<span style=\"color: #00af00; text-decoration-color: #00af00\">0</span>][<span style=\"color: #00af00; text-decoration-color: #00af00\">0</span>]    │\n",
       "├─────────────────────┼───────────────────┼────────────┼───────────────────┤\n",
       "│ dense_43 (<span style=\"color: #0087ff; text-decoration-color: #0087ff\">Dense</span>)    │ (<span style=\"color: #00d7ff; text-decoration-color: #00d7ff\">None</span>, <span style=\"color: #00af00; text-decoration-color: #00af00\">1</span>)         │         <span style=\"color: #00af00; text-decoration-color: #00af00\">33</span> │ dense_42[<span style=\"color: #00af00; text-decoration-color: #00af00\">0</span>][<span style=\"color: #00af00; text-decoration-color: #00af00\">0</span>]    │\n",
       "└─────────────────────┴───────────────────┴────────────┴───────────────────┘\n",
       "</pre>\n"
      ],
      "text/plain": [
       "┏━━━━━━━━━━━━━━━━━━━━━┳━━━━━━━━━━━━━━━━━━━┳━━━━━━━━━━━━┳━━━━━━━━━━━━━━━━━━━┓\n",
       "┃\u001b[1m \u001b[0m\u001b[1mLayer (type)       \u001b[0m\u001b[1m \u001b[0m┃\u001b[1m \u001b[0m\u001b[1mOutput Shape     \u001b[0m\u001b[1m \u001b[0m┃\u001b[1m \u001b[0m\u001b[1m   Param #\u001b[0m\u001b[1m \u001b[0m┃\u001b[1m \u001b[0m\u001b[1mConnected to     \u001b[0m\u001b[1m \u001b[0m┃\n",
       "┡━━━━━━━━━━━━━━━━━━━━━╇━━━━━━━━━━━━━━━━━━━╇━━━━━━━━━━━━╇━━━━━━━━━━━━━━━━━━━┩\n",
       "│ user_input          │ (\u001b[38;5;45mNone\u001b[0m, \u001b[38;5;34m1\u001b[0m)         │          \u001b[38;5;34m0\u001b[0m │ -                 │\n",
       "│ (\u001b[38;5;33mInputLayer\u001b[0m)        │                   │            │                   │\n",
       "├─────────────────────┼───────────────────┼────────────┼───────────────────┤\n",
       "│ pratilipi_input     │ (\u001b[38;5;45mNone\u001b[0m, \u001b[38;5;34m1\u001b[0m)         │          \u001b[38;5;34m0\u001b[0m │ -                 │\n",
       "│ (\u001b[38;5;33mInputLayer\u001b[0m)        │                   │            │                   │\n",
       "├─────────────────────┼───────────────────┼────────────┼───────────────────┤\n",
       "│ user_embedding      │ (\u001b[38;5;45mNone\u001b[0m, \u001b[38;5;34m1\u001b[0m, \u001b[38;5;34m32\u001b[0m)     │  \u001b[38;5;34m6,113,152\u001b[0m │ user_input[\u001b[38;5;34m0\u001b[0m][\u001b[38;5;34m0\u001b[0m]  │\n",
       "│ (\u001b[38;5;33mEmbedding\u001b[0m)         │                   │            │                   │\n",
       "├─────────────────────┼───────────────────┼────────────┼───────────────────┤\n",
       "│ pratilipi_embedding │ (\u001b[38;5;45mNone\u001b[0m, \u001b[38;5;34m1\u001b[0m, \u001b[38;5;34m32\u001b[0m)     │  \u001b[38;5;34m3,988,256\u001b[0m │ pratilipi_input[\u001b[38;5;34m…\u001b[0m │\n",
       "│ (\u001b[38;5;33mEmbedding\u001b[0m)         │                   │            │                   │\n",
       "├─────────────────────┼───────────────────┼────────────┼───────────────────┤\n",
       "│ flatten_22          │ (\u001b[38;5;45mNone\u001b[0m, \u001b[38;5;34m32\u001b[0m)        │          \u001b[38;5;34m0\u001b[0m │ user_embedding[\u001b[38;5;34m0\u001b[0m… │\n",
       "│ (\u001b[38;5;33mFlatten\u001b[0m)           │                   │            │                   │\n",
       "├─────────────────────┼───────────────────┼────────────┼───────────────────┤\n",
       "│ flatten_23          │ (\u001b[38;5;45mNone\u001b[0m, \u001b[38;5;34m32\u001b[0m)        │          \u001b[38;5;34m0\u001b[0m │ pratilipi_embedd… │\n",
       "│ (\u001b[38;5;33mFlatten\u001b[0m)           │                   │            │                   │\n",
       "├─────────────────────┼───────────────────┼────────────┼───────────────────┤\n",
       "│ concatenate_8       │ (\u001b[38;5;45mNone\u001b[0m, \u001b[38;5;34m64\u001b[0m)        │          \u001b[38;5;34m0\u001b[0m │ flatten_22[\u001b[38;5;34m0\u001b[0m][\u001b[38;5;34m0\u001b[0m], │\n",
       "│ (\u001b[38;5;33mConcatenate\u001b[0m)       │                   │            │ flatten_23[\u001b[38;5;34m0\u001b[0m][\u001b[38;5;34m0\u001b[0m]  │\n",
       "├─────────────────────┼───────────────────┼────────────┼───────────────────┤\n",
       "│ dense_39 (\u001b[38;5;33mDense\u001b[0m)    │ (\u001b[38;5;45mNone\u001b[0m, \u001b[38;5;34m64\u001b[0m)        │      \u001b[38;5;34m4,160\u001b[0m │ concatenate_8[\u001b[38;5;34m0\u001b[0m]… │\n",
       "├─────────────────────┼───────────────────┼────────────┼───────────────────┤\n",
       "│ dropout_16          │ (\u001b[38;5;45mNone\u001b[0m, \u001b[38;5;34m64\u001b[0m)        │          \u001b[38;5;34m0\u001b[0m │ dense_39[\u001b[38;5;34m0\u001b[0m][\u001b[38;5;34m0\u001b[0m]    │\n",
       "│ (\u001b[38;5;33mDropout\u001b[0m)           │                   │            │                   │\n",
       "├─────────────────────┼───────────────────┼────────────┼───────────────────┤\n",
       "│ dense_40 (\u001b[38;5;33mDense\u001b[0m)    │ (\u001b[38;5;45mNone\u001b[0m, \u001b[38;5;34m128\u001b[0m)       │      \u001b[38;5;34m8,320\u001b[0m │ dropout_16[\u001b[38;5;34m0\u001b[0m][\u001b[38;5;34m0\u001b[0m]  │\n",
       "├─────────────────────┼───────────────────┼────────────┼───────────────────┤\n",
       "│ dropout_17          │ (\u001b[38;5;45mNone\u001b[0m, \u001b[38;5;34m128\u001b[0m)       │          \u001b[38;5;34m0\u001b[0m │ dense_40[\u001b[38;5;34m0\u001b[0m][\u001b[38;5;34m0\u001b[0m]    │\n",
       "│ (\u001b[38;5;33mDropout\u001b[0m)           │                   │            │                   │\n",
       "├─────────────────────┼───────────────────┼────────────┼───────────────────┤\n",
       "│ dense_41 (\u001b[38;5;33mDense\u001b[0m)    │ (\u001b[38;5;45mNone\u001b[0m, \u001b[38;5;34m64\u001b[0m)        │      \u001b[38;5;34m8,256\u001b[0m │ dropout_17[\u001b[38;5;34m0\u001b[0m][\u001b[38;5;34m0\u001b[0m]  │\n",
       "├─────────────────────┼───────────────────┼────────────┼───────────────────┤\n",
       "│ dense_42 (\u001b[38;5;33mDense\u001b[0m)    │ (\u001b[38;5;45mNone\u001b[0m, \u001b[38;5;34m32\u001b[0m)        │      \u001b[38;5;34m2,080\u001b[0m │ dense_41[\u001b[38;5;34m0\u001b[0m][\u001b[38;5;34m0\u001b[0m]    │\n",
       "├─────────────────────┼───────────────────┼────────────┼───────────────────┤\n",
       "│ dense_43 (\u001b[38;5;33mDense\u001b[0m)    │ (\u001b[38;5;45mNone\u001b[0m, \u001b[38;5;34m1\u001b[0m)         │         \u001b[38;5;34m33\u001b[0m │ dense_42[\u001b[38;5;34m0\u001b[0m][\u001b[38;5;34m0\u001b[0m]    │\n",
       "└─────────────────────┴───────────────────┴────────────┴───────────────────┘\n"
      ]
     },
     "metadata": {},
     "output_type": "display_data"
    },
    {
     "data": {
      "text/html": [
       "<pre style=\"white-space:pre;overflow-x:auto;line-height:normal;font-family:Menlo,'DejaVu Sans Mono',consolas,'Courier New',monospace\"><span style=\"font-weight: bold\"> Total params: </span><span style=\"color: #00af00; text-decoration-color: #00af00\">10,124,257</span> (38.62 MB)\n",
       "</pre>\n"
      ],
      "text/plain": [
       "\u001b[1m Total params: \u001b[0m\u001b[38;5;34m10,124,257\u001b[0m (38.62 MB)\n"
      ]
     },
     "metadata": {},
     "output_type": "display_data"
    },
    {
     "data": {
      "text/html": [
       "<pre style=\"white-space:pre;overflow-x:auto;line-height:normal;font-family:Menlo,'DejaVu Sans Mono',consolas,'Courier New',monospace\"><span style=\"font-weight: bold\"> Trainable params: </span><span style=\"color: #00af00; text-decoration-color: #00af00\">10,124,257</span> (38.62 MB)\n",
       "</pre>\n"
      ],
      "text/plain": [
       "\u001b[1m Trainable params: \u001b[0m\u001b[38;5;34m10,124,257\u001b[0m (38.62 MB)\n"
      ]
     },
     "metadata": {},
     "output_type": "display_data"
    },
    {
     "data": {
      "text/html": [
       "<pre style=\"white-space:pre;overflow-x:auto;line-height:normal;font-family:Menlo,'DejaVu Sans Mono',consolas,'Courier New',monospace\"><span style=\"font-weight: bold\"> Non-trainable params: </span><span style=\"color: #00af00; text-decoration-color: #00af00\">0</span> (0.00 B)\n",
       "</pre>\n"
      ],
      "text/plain": [
       "\u001b[1m Non-trainable params: \u001b[0m\u001b[38;5;34m0\u001b[0m (0.00 B)\n"
      ]
     },
     "metadata": {},
     "output_type": "display_data"
    }
   ],
   "source": [
    "import tensorflow as tf\n",
    "from tensorflow.keras.layers import Input, Embedding, Flatten, Concatenate, Dense, Dropout\n",
    "from tensorflow.keras.models import Model\n",
    "from tensorflow.keras.optimizers import Adam\n",
    "\n",
    "# Define embedding dimensions\n",
    "embedding_dim = 32\n",
    "\n",
    "# Inputs\n",
    "user_input = Input(shape=(1,), name=\"user_input\")\n",
    "pratilipi_input = Input(shape=(1,), name=\"pratilipi_input\")\n",
    "  \n",
    "  \n",
    "# Embedding layers\n",
    "user_embedding = Embedding(input_dim=num_users, output_dim=embedding_dim, name=\"user_embedding\")(user_input)\n",
    "pratilipi_embedding = Embedding(input_dim=num_pratilipis, output_dim=embedding_dim, name=\"pratilipi_embedding\")(pratilipi_input)\n",
    "\n",
    "\n",
    "# Flatten embeddings\n",
    "user_vec = Flatten()(user_embedding)\n",
    "pratilipi_vec = Flatten()(pratilipi_embedding)\n",
    "\n",
    "\n",
    "# Concatenate all embeddings\n",
    "concat_features = Concatenate()([user_vec, pratilipi_vec])\n",
    "\n",
    "# Fully connected layers\n",
    "x = Dense(64, activation=\"relu\")(concat_features)\n",
    "x = Dropout(0.3)(x)  # Prevent overfitting\n",
    "x = Dense(128, activation=\"relu\")(x)\n",
    "x = Dropout(0.3)(x)\n",
    "x = Dense(64, activation=\"relu\")(x)\n",
    "x = Dense(32, activation=\"relu\")(x)\n",
    "x = Dense(1, activation=\"sigmoid\")(x)  # Binary classification (read or not)\n",
    "\n",
    "# Define a custom optimizer\n",
    "custom_optimizer = Adam(learning_rate=0.0001)\n",
    "\n",
    "# Define model\n",
    "model = Model(inputs=[user_input, pratilipi_input], outputs=x)\n",
    "model.compile(optimizer=custom_optimizer, loss=\"binary_crossentropy\", metrics=[\"accuracy\"])\n",
    "\n",
    "model.summary()"
   ]
  },
  {
   "cell_type": "code",
   "execution_count": null,
   "metadata": {},
   "outputs": [
    {
     "data": {
      "text/plain": [
       "1205891    1\n",
       "1378671    1\n",
       "172214     1\n",
       "1316531    1\n",
       "1418645    1\n",
       "          ..\n",
       "259178     1\n",
       "1414414    1\n",
       "131932     1\n",
       "671155     1\n",
       "121958     1\n",
       "Name: read_label, Length: 1131042, dtype: int32"
      ]
     },
     "execution_count": 469,
     "metadata": {},
     "output_type": "execute_result"
    }
   ],
   "source": [
    "train_y"
   ]
  },
  {
   "cell_type": "code",
   "execution_count": null,
   "metadata": {},
   "outputs": [
    {
     "name": "stdout",
     "output_type": "stream",
     "text": [
      "Epoch 1/20\n",
      "\u001b[1m2210/2210\u001b[0m \u001b[32m━━━━━━━━━━━━━━━━━━━━\u001b[0m\u001b[37m\u001b[0m \u001b[1m45s\u001b[0m 20ms/step - accuracy: 0.1063 - loss: 0.7403 - val_accuracy: 0.0684 - val_loss: 1.3840\n",
      "Epoch 2/20\n",
      "\u001b[1m2210/2210\u001b[0m \u001b[32m━━━━━━━━━━━━━━━━━━━━\u001b[0m\u001b[37m\u001b[0m \u001b[1m44s\u001b[0m 20ms/step - accuracy: 0.3020 - loss: 0.4994 - val_accuracy: 0.4259 - val_loss: 1.1408\n",
      "Epoch 3/20\n",
      "\u001b[1m2210/2210\u001b[0m \u001b[32m━━━━━━━━━━━━━━━━━━━━\u001b[0m\u001b[37m\u001b[0m \u001b[1m44s\u001b[0m 20ms/step - accuracy: 0.6378 - loss: 0.3716 - val_accuracy: 0.6056 - val_loss: 0.9164\n",
      "Epoch 4/20\n",
      "\u001b[1m2210/2210\u001b[0m \u001b[32m━━━━━━━━━━━━━━━━━━━━\u001b[0m\u001b[37m\u001b[0m \u001b[1m46s\u001b[0m 21ms/step - accuracy: 0.7366 - loss: 0.2918 - val_accuracy: 0.6788 - val_loss: 0.8163\n",
      "Epoch 5/20\n",
      "\u001b[1m2210/2210\u001b[0m \u001b[32m━━━━━━━━━━━━━━━━━━━━\u001b[0m\u001b[37m\u001b[0m \u001b[1m56s\u001b[0m 25ms/step - accuracy: 0.7928 - loss: 0.2357 - val_accuracy: 0.6924 - val_loss: 0.8353\n",
      "Epoch 6/20\n",
      "\u001b[1m2210/2210\u001b[0m \u001b[32m━━━━━━━━━━━━━━━━━━━━\u001b[0m\u001b[37m\u001b[0m \u001b[1m58s\u001b[0m 26ms/step - accuracy: 0.8222 - loss: 0.2037 - val_accuracy: 0.7159 - val_loss: 0.7932\n",
      "Epoch 7/20\n",
      "\u001b[1m2210/2210\u001b[0m \u001b[32m━━━━━━━━━━━━━━━━━━━━\u001b[0m\u001b[37m\u001b[0m \u001b[1m58s\u001b[0m 26ms/step - accuracy: 0.8428 - loss: 0.1798 - val_accuracy: 0.7219 - val_loss: 0.8034\n",
      "Epoch 8/20\n",
      "\u001b[1m2210/2210\u001b[0m \u001b[32m━━━━━━━━━━━━━━━━━━━━\u001b[0m\u001b[37m\u001b[0m \u001b[1m58s\u001b[0m 26ms/step - accuracy: 0.8605 - loss: 0.1624 - val_accuracy: 0.7382 - val_loss: 0.7880\n",
      "Epoch 9/20\n",
      "\u001b[1m2210/2210\u001b[0m \u001b[32m━━━━━━━━━━━━━━━━━━━━\u001b[0m\u001b[37m\u001b[0m \u001b[1m58s\u001b[0m 26ms/step - accuracy: 0.8745 - loss: 0.1489 - val_accuracy: 0.7459 - val_loss: 0.7795\n",
      "Epoch 10/20\n",
      "\u001b[1m2210/2210\u001b[0m \u001b[32m━━━━━━━━━━━━━━━━━━━━\u001b[0m\u001b[37m\u001b[0m \u001b[1m58s\u001b[0m 26ms/step - accuracy: 0.8871 - loss: 0.1346 - val_accuracy: 0.7342 - val_loss: 0.8187\n",
      "Epoch 11/20\n",
      "\u001b[1m2210/2210\u001b[0m \u001b[32m━━━━━━━━━━━━━━━━━━━━\u001b[0m\u001b[37m\u001b[0m \u001b[1m59s\u001b[0m 27ms/step - accuracy: 0.8952 - loss: 0.1282 - val_accuracy: 0.7199 - val_loss: 0.8659\n",
      "Epoch 12/20\n",
      "\u001b[1m2210/2210\u001b[0m \u001b[32m━━━━━━━━━━━━━━━━━━━━\u001b[0m\u001b[37m\u001b[0m \u001b[1m59s\u001b[0m 27ms/step - accuracy: 0.9037 - loss: 0.1182 - val_accuracy: 0.7139 - val_loss: 0.9044\n",
      "Epoch 13/20\n",
      "\u001b[1m2210/2210\u001b[0m \u001b[32m━━━━━━━━━━━━━━━━━━━━\u001b[0m\u001b[37m\u001b[0m \u001b[1m59s\u001b[0m 27ms/step - accuracy: 0.9123 - loss: 0.1091 - val_accuracy: 0.7076 - val_loss: 0.9594\n",
      "Epoch 14/20\n",
      "\u001b[1m2210/2210\u001b[0m \u001b[32m━━━━━━━━━━━━━━━━━━━━\u001b[0m\u001b[37m\u001b[0m \u001b[1m59s\u001b[0m 27ms/step - accuracy: 0.9145 - loss: 0.1078 - val_accuracy: 0.7062 - val_loss: 0.9870\n",
      "Epoch 15/20\n",
      "\u001b[1m2210/2210\u001b[0m \u001b[32m━━━━━━━━━━━━━━━━━━━━\u001b[0m\u001b[37m\u001b[0m \u001b[1m59s\u001b[0m 27ms/step - accuracy: 0.9190 - loss: 0.1031 - val_accuracy: 0.7056 - val_loss: 1.0183\n",
      "Epoch 16/20\n",
      "\u001b[1m2210/2210\u001b[0m \u001b[32m━━━━━━━━━━━━━━━━━━━━\u001b[0m\u001b[37m\u001b[0m \u001b[1m60s\u001b[0m 27ms/step - accuracy: 0.9215 - loss: 0.0989 - val_accuracy: 0.7012 - val_loss: 1.0542\n",
      "Epoch 17/20\n",
      "\u001b[1m2210/2210\u001b[0m \u001b[32m━━━━━━━━━━━━━━━━━━━━\u001b[0m\u001b[37m\u001b[0m \u001b[1m60s\u001b[0m 27ms/step - accuracy: 0.9262 - loss: 0.0917 - val_accuracy: 0.7066 - val_loss: 1.0625\n",
      "Epoch 18/20\n",
      "\u001b[1m2210/2210\u001b[0m \u001b[32m━━━━━━━━━━━━━━━━━━━━\u001b[0m\u001b[37m\u001b[0m \u001b[1m60s\u001b[0m 27ms/step - accuracy: 0.9279 - loss: 0.0892 - val_accuracy: 0.7039 - val_loss: 1.0814\n",
      "Epoch 19/20\n",
      "\u001b[1m2210/2210\u001b[0m \u001b[32m━━━━━━━━━━━━━━━━━━━━\u001b[0m\u001b[37m\u001b[0m \u001b[1m60s\u001b[0m 27ms/step - accuracy: 0.9300 - loss: 0.0873 - val_accuracy: 0.6939 - val_loss: 1.1520\n",
      "Epoch 20/20\n",
      "\u001b[1m2210/2210\u001b[0m \u001b[32m━━━━━━━━━━━━━━━━━━━━\u001b[0m\u001b[37m\u001b[0m \u001b[1m60s\u001b[0m 27ms/step - accuracy: 0.9314 - loss: 0.0857 - val_accuracy: 0.6766 - val_loss: 1.2321\n"
     ]
    }
   ],
   "source": [
    "from sklearn.utils.class_weight import compute_class_weight\n",
    "class_weights_array = compute_class_weight(class_weight=\"balanced\", \n",
    "                                    classes=np.array([0,1]), \n",
    "                                    y=train_y)\n",
    "\n",
    "# Convert class weights into a dictionary\n",
    "class_weights = {0: class_weights_array[0] * 2.5, \n",
    "                 1: class_weights_array[1] * 0.5} \n",
    "\n",
    "\n",
    "# Prepare input data\n",
    "X_train_inputs = [train_df[\"user_idx\"].values, train_df[\"pratilipi_idx\"].values]\n",
    "X_test_inputs = [test_filtered[\"user_idx\"].values, test_filtered[\"pratilipi_idx\"].values]\n",
    "\n",
    "# Train the model\n",
    "history = model.fit(X_train_inputs, train_y, validation_data=(X_test_inputs, test_y), epochs=20, batch_size=512, class_weight=class_weights)\n"
   ]
  },
  {
   "cell_type": "markdown",
   "metadata": {},
   "source": [
    "## **Model Evaluation**\n",
    "\n"
   ]
  },
  {
   "cell_type": "code",
   "execution_count": null,
   "metadata": {},
   "outputs": [
    {
     "name": "stdout",
     "output_type": "stream",
     "text": [
      "\u001b[1m10712/10712\u001b[0m \u001b[32m━━━━━━━━━━━━━━━━━━━━\u001b[0m\u001b[37m\u001b[0m \u001b[1m6s\u001b[0m 572us/step\n",
      "Model Accuracy: 0.7083\n",
      "Classification Report:\n",
      "              precision    recall  f1-score   support\n",
      "\n",
      "           0       0.14      0.61      0.22     23454\n",
      "           1       0.96      0.72      0.82    319323\n",
      "\n",
      "    accuracy                           0.71    342777\n",
      "   macro avg       0.55      0.66      0.52    342777\n",
      "weighted avg       0.91      0.71      0.78    342777\n",
      "\n",
      "Confusion Matrix:\n",
      "[[ 14327   9127]\n",
      " [ 90844 228479]]\n"
     ]
    }
   ],
   "source": [
    "# Get predictions (probabilities)\n",
    "pred_y_probs = model.predict(X_test_inputs)\n",
    "\n",
    "# Convert probabilities to binary labels (threshold = 0.7)\n",
    "pred_y = (pred_y_probs > 0.3).astype(int)\n",
    "\n",
    "# Compute Accuracy\n",
    "accuracy = accuracy_score(test_y, pred_y)\n",
    "print(f\"Model Accuracy: {accuracy:.4f}\")\n",
    "\n",
    "# Print Classification Report\n",
    "print(\"Classification Report:\")\n",
    "print(classification_report(test_y, pred_y))\n",
    "\n",
    "# Print Confusion Matrix\n",
    "print(\"Confusion Matrix:\")\n",
    "print(confusion_matrix(test_y, pred_y))"
   ]
  },
  {
   "cell_type": "markdown",
   "metadata": {},
   "source": [
    "### **Model Selection**:\n",
    "\n",
    "Basd on metrics performance not solely dependent on accuracy score for obvious reasons, `Neural Collaborative Filtering` is a perfect fit for the assignment.\n",
    "\n",
    "**Why ?**\n",
    "\n",
    "- Not great but a descent model we have a descent amount of recall.\n",
    "- here accuracy score doesnt matter much what matters is the recall scores because for our business interest we want to reduce false negatives as low as we can.\n",
    "- Accuracy: 71%\n",
    "- Precision & Recall for \"Read\" (1): 0.96 & 0.74, still strong at identifying readers.\n",
    "- Precision & Recall for \"Not Read\" (0): 0.14 & 0.61. \n"
   ]
  },
  {
   "cell_type": "markdown",
   "metadata": {},
   "source": [
    "Making sure the encoders and model is saved"
   ]
  },
  {
   "cell_type": "code",
   "execution_count": null,
   "metadata": {},
   "outputs": [
    {
     "name": "stdout",
     "output_type": "stream",
     "text": [
      "Model saved successfully!\n"
     ]
    }
   ],
   "source": [
    "import pickle\n",
    "\n",
    "# Save encoders\n",
    "with open(\"Encoders/user_encoder.pkl\", \"wb\") as f:\n",
    "    pickle.dump(user_encoder, f)\n",
    "\n",
    "with open(\"Encoders/pratilipi_encoder.pkl\", \"wb\") as f:\n",
    "    pickle.dump(pratilipi_encoder, f)\n",
    "\n",
    "# Save Model\n",
    "model.save(\"Models/pratilipi_recommendation_model.keras\")  \n",
    "print(\"Model saved successfully!\")"
   ]
  },
  {
   "cell_type": "code",
   "execution_count": null,
   "metadata": {},
   "outputs": [],
   "source": [
    "import numpy as np\n",
    "\n",
    "def recommend_pratilipis_for_user(\n",
    "    user_id, \n",
    "    model, \n",
    "    user_encoder, \n",
    "    pratilipi_encoder, \n",
    "    train_df, \n",
    "    top_n=5\n",
    "):\n",
    "    \"\"\"\n",
    "    Recommend top-N pratilipis for a given user using the trained Neural CF model.\n",
    "    \n",
    "    \"\"\"\n",
    "\n",
    "    # Encode the user ID into the integer index used by the embedding\n",
    "    encoded_user_id = user_encoder.transform([user_id])[0]\n",
    "    \n",
    "    # Grab all unique pratilipis from your training data\n",
    "    all_pratilipis = train_df['pratilipi_id'].unique()\n",
    "\n",
    "    # Encode these pratilipis with the same encoder\n",
    "    encoded_pratilipis = pratilipi_encoder.transform(all_pratilipis)\n",
    "\n",
    "    # Create model inputs. For every pratilipi, we pair it with the single user ID.\n",
    "    user_array = np.full(shape=len(encoded_pratilipis), fill_value=encoded_user_id)\n",
    "    \n",
    "    # Predict “probability of reading” using the trained model\n",
    "    preds = model.predict([user_array, encoded_pratilipis], batch_size=1024)\n",
    "\n",
    "    # Flatten, then find indices of top-N predictions\n",
    "    preds = preds.flatten()\n",
    "    top_indices = np.argsort(preds)[-top_n:][::-1]  # largest to smallest\n",
    "    \n",
    "    # Convert those top pratilipi indices back to raw IDs\n",
    "    top_encoded_pratilipis = encoded_pratilipis[top_indices]\n",
    "    recommended_ids = pratilipi_encoder.inverse_transform(top_encoded_pratilipis)\n",
    "    \n",
    "    return recommended_ids\n",
    "\n",
    "\n"
   ]
  },
  {
   "cell_type": "code",
   "execution_count": null,
   "metadata": {},
   "outputs": [
    {
     "name": "stdout",
     "output_type": "stream",
     "text": [
      "\u001b[1m122/122\u001b[0m \u001b[32m━━━━━━━━━━━━━━━━━━━━\u001b[0m\u001b[37m\u001b[0m \u001b[1m0s\u001b[0m 1ms/step\n",
      "Recommended pratilipis for user 5506791978752866: ['1377786224471556' '1377786228280624' '1377786227437053'\n",
      " '1377786222826120' '1377786219619981']\n"
     ]
    }
   ],
   "source": [
    "# Example usage\n",
    "test_user_id = '5506791978752866'  # Some raw user ID\n",
    "recommendations = recommend_pratilipis_for_user(\n",
    "    user_id=test_user_id,\n",
    "    model=model,\n",
    "    user_encoder=user_encoder,\n",
    "    pratilipi_encoder=pratilipi_encoder,\n",
    "    train_df=train_df,\n",
    "    top_n=5\n",
    ")\n",
    "\n",
    "print(f\"Recommended pratilipis for user {test_user_id}: {recommendations}\")"
   ]
  },
  {
   "cell_type": "markdown",
   "metadata": {},
   "source": [
    "### **Our recommendation function is all set (User Based recommendation system)**\n",
    "- it asks the pre existent user id and based on the interaction of the user it will recommend 5 pratilipis that the user will read"
   ]
  },
  {
   "cell_type": "markdown",
   "metadata": {},
   "source": [
    "### **Lets build a item based recommendation system**"
   ]
  },
  {
   "cell_type": "code",
   "execution_count": null,
   "metadata": {},
   "outputs": [],
   "source": [
    "item_embedding_layer = model.get_layer(\"pratilipi_embedding\")\n",
    "item_embeddings = item_embedding_layer.get_weights()[0]\n",
    "\n",
    "import numpy as np\n",
    "\n",
    "def get_top_n_similar_items(\n",
    "    target_item_id: str,\n",
    "    item_embeddings: np.ndarray,\n",
    "    top_n: int = 6\n",
    "):\n",
    "\n",
    "    target_vec = item_embeddings[target_item_id]\n",
    "    \n",
    "    # Dot each embedding with target_vec\n",
    "    dot_products = np.dot(item_embeddings, target_vec)\n",
    "    \n",
    "    # Norms of each embedding * norm of target\n",
    "    norms = np.linalg.norm(item_embeddings, axis=1) * np.linalg.norm(target_vec)\n",
    "    \n",
    "    # Avoid div-by-zero if any item embedding is zero\n",
    "    cosine_sim = dot_products / (norms + 1e-10)\n",
    "    \n",
    "    # Sort high->low\n",
    "    most_sim_indices = np.argsort(cosine_sim)[::-1]\n",
    "    \n",
    "    # Exclude the item itself\n",
    "    most_sim_indices = most_sim_indices[most_sim_indices != target_item_id]\n",
    "    \n",
    "    # Return top_n\n",
    "    return most_sim_indices[:top_n]\n",
    "\n",
    "\n",
    "def recommend_similar_pratilipis_by_item(\n",
    "    pratilipi_id, \n",
    "    pratilipi_encoder, \n",
    "    item_embeddings, \n",
    "    top_n=6\n",
    "):\n",
    "    \"\"\"\n",
    "    Given a pratilipi_id (raw), return top_n similar pratilipis (raw IDs) \n",
    "    based on the NCF model's learned embeddings.\n",
    "    \"\"\"\n",
    "    # 1) Encode the raw pratilipi ID to its embedding index\n",
    "    encoded_id = pratilipi_encoder.transform([pratilipi_id])[0]\n",
    "\n",
    "    # 2) Find the top-N most similar items\n",
    "    top_n_indices = get_top_n_similar_items(\n",
    "        target_item_id=encoded_id,\n",
    "        item_embeddings=item_embeddings,\n",
    "        top_n=top_n\n",
    "    )\n",
    "\n",
    "    # 3) Decode back to original pratilipi IDs\n",
    "    recommended_ids = pratilipi_encoder.inverse_transform(top_n_indices)\n",
    "    \n",
    "    return recommended_ids\n",
    "\n"
   ]
  },
  {
   "cell_type": "code",
   "execution_count": null,
   "metadata": {},
   "outputs": [
    {
     "name": "stdout",
     "output_type": "stream",
     "text": [
      "Since you liked pratilipi: 1377786227025240\n",
      "You might also like: ['1377786225932981' '1377786228233896' '1377786228083651'\n",
      " '1377786222030406' '1377786221488854' '1377786225971529']\n"
     ]
    }
   ],
   "source": [
    "# Extract item embeddings from your trained model\n",
    "item_embedding_layer = model.get_layer(\"pratilipi_embedding\")\n",
    "item_embeddings = item_embedding_layer.get_weights()[0]\n",
    "\n",
    "#  Pick a pratilipi\n",
    "some_pratilipi_id = '1377786227025240'  # raw ID \n",
    "\n",
    "#  Get 6 similar pratilipis\n",
    "recommendations = recommend_similar_pratilipis_by_item(\n",
    "    pratilipi_id=some_pratilipi_id,\n",
    "    pratilipi_encoder=pratilipi_encoder,\n",
    "    item_embeddings=item_embeddings,\n",
    "    top_n=5\n",
    ")\n",
    "\n",
    "print(\"Since you liked pratilipi:\", some_pratilipi_id)\n",
    "print(\"You might also like:\", recommendations)"
   ]
  },
  {
   "cell_type": "markdown",
   "metadata": {},
   "source": [
    "### **How his works**\n",
    "- NCF model has an Embedding layer for pratilipis. As the model trains, it adjusts the numbers (weights) in that layer so that items read by similar sets of users end up with similar embeddings.\n",
    "\n",
    "- **Item to item similarity**\n",
    "    - If we want to find which pratilipis are “closest” to a given one, we measure how close their embedding vectors are—often by cosine similarity."
   ]
  },
  {
   "cell_type": "markdown",
   "metadata": {},
   "source": [
    "## **Conclusion and Recommendation**\n",
    "\n",
    "- we saw `popularity based recommendaton system` and `collaborative based recommendation system`\n",
    "    - So basically we can recomend users based on top 10 or 20 popular pratilipis in the platform\n",
    "    - Or we can simply ask a new user or for a pre existent use use the collaborative system to recommend pratilipi that the user will like.\n",
    "    "
   ]
  }
 ],
 "metadata": {
  "kernelspec": {
   "display_name": "Python 3",
   "language": "python",
   "name": "python3"
  },
  "language_info": {
   "codemirror_mode": {
    "name": "ipython",
    "version": 3
   },
   "file_extension": ".py",
   "mimetype": "text/x-python",
   "name": "python",
   "nbconvert_exporter": "python",
   "pygments_lexer": "ipython3",
   "version": "3.10.0"
  }
 },
 "nbformat": 4,
 "nbformat_minor": 2
}
